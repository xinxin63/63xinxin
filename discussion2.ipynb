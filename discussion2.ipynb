{
 "cells": [
  {
   "cell_type": "markdown",
   "metadata": {},
   "source": [
    "# STA 141b Week 2\n",
    "\n",
    "_TA: Nick Ulle (naulle@ucdavis.edu)_\n",
    "\n",
    "## Links\n",
    "\n",
    "* [Python 2 vs 3](http://sebastianraschka.com/Articles/2014_python_2_3_key_diff.html)\n",
    "\n",
    "* [How to Set Up a Virtual Machine](http://nick-ulle.github.io/virtual-machine/)\n",
    "\n",
    "* [How to Set Up Bash on Win10](https://msdn.microsoft.com/en-us/commandline/wsl/install_guide)"
   ]
  },
  {
   "cell_type": "markdown",
   "metadata": {},
   "source": [
    "## Git Merge Notes (from Wed Lecture)\n",
    "\n",
    "Git is a distributed version control system (DVCS).\n",
    "\n",
    "Git is _distributed_ because it can share repositories between different computers. Your computer and any repositories on its hard drive are _local_. Someone else's computer and any repositories they have are _remote_. When you _clone_ a repository, you're copying the repository from a remote computer (typically GitHub) to your computer.\n",
    "\n",
    "Git is a _version control system_ because it keeps track of changes to files. A _commit_ is a bundle of saved changes. Commits are like checkpoints for your files.\n",
    "\n",
    "When you work on a GitHub repository with other people, they might change a file, commit the changes, and then _push_ the commit to GitHub. Your local copy of the file won't change unless you _pull_ the new commit from GitHub. In other words, your local repository can easily get out of sync with the remote repository on GitHub. If you change your local copy of the file and commit the changes, you create a _conflict_. If you try to push the conflicting commit to GitHub, you'll see an error message:\n",
    "```\n",
    "git push\n",
    "\n",
    "To github.com:USERNAME/REPOSITORY.git\n",
    " ! [rejected]        master -> master (fetch first)\n",
    "error: failed to push some refs to 'git@github.com:USERNAME/REPOSITORY.git'\n",
    "hint: Updates were rejected because the remote contains work that you do\n",
    "hint: not have locally. This is usually caused by another repository pushing\n",
    "hint: to the same ref. You may want to first integrate the remote changes\n",
    "hint: (e.g., 'git pull ...') before pushing again.\n",
    "hint: See the 'Note about fast-forwards' in 'git push --help' for details.\n",
    "```\n",
    "When you see an error, __don't panic!__ The error message hints that you should try pulling commits from GitHub before pushing your commit. If you pull commits from GitHub, you might see another error message:\n",
    "```\n",
    "git pull\n",
    "\n",
    "remote: Counting objects: 3, done.\n",
    "remote: Total 3 (delta 0), reused 0 (delta 0), pack-reused 0\n",
    "Unpacking objects: 100% (3/3), done.\n",
    "From github.com:USERNAME/REPOSITORY\n",
    "   6fe289c..48e44d3  master     -> origin/master\n",
    "Auto-merging README.md\n",
    "CONFLICT (content): Merge conflict in README.md\n",
    "Automatic merge failed; fix conflicts and then commit the result.\n",
    "```\n",
    "This is okay! Git tried to automatically fix the conflict by _merging_ your commit with the other person's commit, but couldn't figure out how because both commits changed the same file (`README.md` in the example). An automatic merge will only succeed if the commits being merged changed different files. Otherwise, it's up to you to resolve the conflict manually. If you open the file causing the conflict in a text editor, you'll see something like this:\n",
    "```\n",
    "# Our README.md\n",
    "\n",
    "<<<<<<< HEAD\n",
    "Here are the changes you made.\n",
    "=======\n",
    "Here are the changes the other person made.\n",
    ">>>>>>> 48e44d3a60af614f3a0da794a1701d040221d40f\n",
    "\n",
    "Here's some text that was added to the file in an earlier commit.\n",
    "```\n",
    "Git automatically marked which parts of the file conflict. Changes from your commit are shown between `<<<<<<<` and `=======`. Changes from the other person's commit are shown between `=======` and `>>>>>>>`. All you need to do is edit the file to look the way you want. If you wanted to keep your changes and the other person's changes (the polite thing to do), you could edit the file to look like this:\n",
    "```\n",
    "# Our README.md\n",
    "\n",
    "Here are the changes you made.\n",
    "\n",
    "Here are the changes the other person made.\n",
    "\n",
    "Here's some text that was added to the file in an earlier commit.\n",
    "```\n",
    "When you're done editing, save and then commit the file. This is called a _merge commit_. Git will automatically provide a commit message indicating that you merged your commit with the other person's commit:\n",
    "```\n",
    "[master 9594c15] Merge branch 'master' of github.com:USERNAME/REPOSITORY\n",
    "```\n",
    "Finally, you can push your commit along with the merge commit to GitHub:\n",
    "```\n",
    "git push\n",
    "\n",
    "Counting objects: 6, done.\n",
    "Delta compression using up to 4 threads.\n",
    "Compressing objects: 100% (2/2), done.\n",
    "Writing objects: 100% (6/6), 602 bytes | 0 bytes/s, done.\n",
    "Total 6 (delta 0), reused 0 (delta 0)\n",
    "To github.com:USERNAME/REPOSITORY.git\n",
    "   48e44d3..9594c15  master -> master\n",
    "```\n",
    "Note that if you pull and git asks you to merge a file, but you'd like to undo the pull and make more changes before merging, you can use the command `git merge --abort`. Git will remind you about \"unmerged paths\" in the `git status` message when it's waiting for you to merge a file:\n",
    "```\n",
    "git status\n",
    "\n",
    "On branch master\n",
    "Your branch and 'origin/master' have diverged,\n",
    "and have 1 and 1 different commits each, respectively.\n",
    "  (use \"git pull\" to merge the remote branch into yours)\n",
    "You have unmerged paths.\n",
    "  (fix conflicts and run \"git commit\")\n",
    "  (use \"git merge --abort\" to abort the merge)\n",
    "\n",
    "Unmerged paths:\n",
    "  (use \"git add <file>...\" to mark resolution)\n",
    "\n",
    "        both modified:   README.md\n",
    "\n",
    "no changes added to commit (use \"git add\" and/or \"git commit -a\")\n",
    "```"
   ]
  },
  {
   "cell_type": "markdown",
   "metadata": {},
   "source": [
    "## Discussion Notes\n",
    "\n",
    "### Getting Help\n",
    "\n",
    "Python is [well-documented](https://docs.python.org/2.7/)!\n",
    "\n",
    "You can also access documentation with the `help()` function."
   ]
  },
  {
   "cell_type": "code",
   "execution_count": 2,
   "metadata": {
    "collapsed": false
   },
   "outputs": [
    {
     "name": "stdout",
     "output_type": "stream",
     "text": [
      "Help on class xrange in module __builtin__:\n",
      "\n",
      "class xrange(object)\n",
      " |  xrange(stop) -> xrange object\n",
      " |  xrange(start, stop[, step]) -> xrange object\n",
      " |  \n",
      " |  Like range(), but instead of returning a list, returns an object that\n",
      " |  generates the numbers in the range on demand.  For looping, this is \n",
      " |  slightly faster than range() and more memory efficient.\n",
      " |  \n",
      " |  Methods defined here:\n",
      " |  \n",
      " |  __getattribute__(...)\n",
      " |      x.__getattribute__('name') <==> x.name\n",
      " |  \n",
      " |  __getitem__(...)\n",
      " |      x.__getitem__(y) <==> x[y]\n",
      " |  \n",
      " |  __iter__(...)\n",
      " |      x.__iter__() <==> iter(x)\n",
      " |  \n",
      " |  __len__(...)\n",
      " |      x.__len__() <==> len(x)\n",
      " |  \n",
      " |  __reduce__(...)\n",
      " |  \n",
      " |  __repr__(...)\n",
      " |      x.__repr__() <==> repr(x)\n",
      " |  \n",
      " |  __reversed__(...)\n",
      " |      Returns a reverse iterator.\n",
      " |  \n",
      " |  ----------------------------------------------------------------------\n",
      " |  Data and other attributes defined here:\n",
      " |  \n",
      " |  __new__ = <built-in method __new__ of type object>\n",
      " |      T.__new__(S, ...) -> a new object with type S, a subtype of T\n",
      "\n"
     ]
    }
   ],
   "source": [
    "help(xrange)"
   ]
  },
  {
   "cell_type": "markdown",
   "metadata": {},
   "source": [
    "### Modules & Packages\n",
    "\n",
    "Python has _modules_ and also _packages_. What's the difference?\n",
    "\n",
    "A module is a single Python script (a `.py` file). You can load a module with the `import` command.\n",
    "\n",
    "A package is a collection of modules prepared for distribution. You can install a package with `conda` or `pip`. Some packages only have one module.\n",
    "\n",
    "Which of the built-in modules are important?\n",
    "\n",
    "Module      | Description\n",
    "----------- | -----------\n",
    "sys         | info about Python (version, etc)\n",
    "pdb         | Python debugger\n",
    "os.path     | tools for file paths\n",
    "collections | additional data structures\n",
    "string      | string processing\n",
    "re          | regular expressions\n",
    "urlparse    | parse URLs\n",
    "math        | simple math (but we'll mostly use NumPy instead)\n",
    "itertools   | tools for iterators\n",
    "functools   | tools for functions"
   ]
  },
  {
   "cell_type": "code",
   "execution_count": 3,
   "metadata": {
    "collapsed": false
   },
   "outputs": [
    {
     "data": {
      "text/plain": [
       "'2.7.13 (default, Dec 21 2016, 07:16:46) \\n[GCC 6.2.1 20160830]'"
      ]
     },
     "execution_count": 3,
     "metadata": {},
     "output_type": "execute_result"
    }
   ],
   "source": [
    "import sys\n",
    "\n",
    "sys.version"
   ]
  },
  {
   "cell_type": "markdown",
   "metadata": {},
   "source": [
    "### Division\n",
    "\n",
    "__Be careful:__ In Python 2, the division operator `/` has different meanings depending on the type of the operands."
   ]
  },
  {
   "cell_type": "code",
   "execution_count": 4,
   "metadata": {
    "collapsed": false
   },
   "outputs": [
    {
     "data": {
      "text/plain": [
       "2.5"
      ]
     },
     "execution_count": 4,
     "metadata": {},
     "output_type": "execute_result"
    }
   ],
   "source": [
    "5.0 / 2.0"
   ]
  },
  {
   "cell_type": "code",
   "execution_count": 5,
   "metadata": {
    "collapsed": false
   },
   "outputs": [
    {
     "data": {
      "text/plain": [
       "2.5"
      ]
     },
     "execution_count": 5,
     "metadata": {},
     "output_type": "execute_result"
    }
   ],
   "source": [
    "5.0 / 2"
   ]
  },
  {
   "cell_type": "code",
   "execution_count": 6,
   "metadata": {
    "collapsed": false
   },
   "outputs": [
    {
     "data": {
      "text/plain": [
       "2.5"
      ]
     },
     "execution_count": 6,
     "metadata": {},
     "output_type": "execute_result"
    }
   ],
   "source": [
    "5 / 2.0"
   ]
  },
  {
   "cell_type": "code",
   "execution_count": 7,
   "metadata": {
    "collapsed": false
   },
   "outputs": [
    {
     "data": {
      "text/plain": [
       "2"
      ]
     },
     "execution_count": 7,
     "metadata": {},
     "output_type": "execute_result"
    }
   ],
   "source": [
    "5 / 2"
   ]
  },
  {
   "cell_type": "code",
   "execution_count": 8,
   "metadata": {
    "collapsed": false
   },
   "outputs": [
    {
     "data": {
      "text/plain": [
       "int"
      ]
     },
     "execution_count": 8,
     "metadata": {},
     "output_type": "execute_result"
    }
   ],
   "source": [
    "type(5)"
   ]
  },
  {
   "cell_type": "code",
   "execution_count": 9,
   "metadata": {
    "collapsed": false
   },
   "outputs": [
    {
     "data": {
      "text/plain": [
       "float"
      ]
     },
     "execution_count": 9,
     "metadata": {},
     "output_type": "execute_result"
    }
   ],
   "source": [
    "type(5.0)"
   ]
  },
  {
   "cell_type": "markdown",
   "metadata": {},
   "source": [
    "In Python 3, the division operator always does floating point division.\n",
    "\n",
    "You can import the Python 3 behavior from the `__future__` module.\n",
    "\n",
    "This is a good idea for any new scripts you write!"
   ]
  },
  {
   "cell_type": "code",
   "execution_count": 10,
   "metadata": {
    "collapsed": true
   },
   "outputs": [],
   "source": [
    "from __future__ import division"
   ]
  },
  {
   "cell_type": "code",
   "execution_count": 11,
   "metadata": {
    "collapsed": false
   },
   "outputs": [
    {
     "data": {
      "text/plain": [
       "2.5"
      ]
     },
     "execution_count": 11,
     "metadata": {},
     "output_type": "execute_result"
    }
   ],
   "source": [
    "5 / 2"
   ]
  },
  {
   "cell_type": "markdown",
   "metadata": {},
   "source": [
    "### Iterators, Generators, and List Comprehensions\n",
    "\n",
    "The `range()` function creates a list of integers. Each integer is stored in memory."
   ]
  },
  {
   "cell_type": "code",
   "execution_count": 13,
   "metadata": {
    "collapsed": false
   },
   "outputs": [
    {
     "data": {
      "text/plain": [
       "[0, 1, 2, 3, 4, 5, 6, 7, 8, 9]"
      ]
     },
     "execution_count": 13,
     "metadata": {},
     "output_type": "execute_result"
    }
   ],
   "source": [
    "range(10)"
   ]
  },
  {
   "cell_type": "markdown",
   "metadata": {},
   "source": [
    "Creating a very long list will use lots of memory and may crash Python:"
   ]
  },
  {
   "cell_type": "code",
   "execution_count": 28,
   "metadata": {
    "collapsed": true
   },
   "outputs": [],
   "source": [
    "# A list with 1 billion elements, enough to crash Python on Nick's machine.\n",
    "# x = range(1000000000)"
   ]
  },
  {
   "cell_type": "markdown",
   "metadata": {},
   "source": [
    "On the other hand, if you wanted to print the first 10 numbers, starting from 0, you might write:"
   ]
  },
  {
   "cell_type": "code",
   "execution_count": 29,
   "metadata": {
    "collapsed": false
   },
   "outputs": [
    {
     "name": "stdout",
     "output_type": "stream",
     "text": [
      "0\n",
      "1\n",
      "2\n",
      "3\n",
      "4\n",
      "5\n",
      "6\n",
      "7\n",
      "8\n",
      "9\n"
     ]
    }
   ],
   "source": [
    "for x in range(10):\n",
    "    print x"
   ]
  },
  {
   "cell_type": "markdown",
   "metadata": {},
   "source": [
    "How can you extend this to print the first 1 billion numbers? Clearly you can't use `range()` here.\n",
    "\n",
    "One solution is to use a while-loop:"
   ]
  },
  {
   "cell_type": "code",
   "execution_count": 34,
   "metadata": {
    "collapsed": false
   },
   "outputs": [
    {
     "name": "stdout",
     "output_type": "stream",
     "text": [
      "0\n",
      "1\n",
      "2\n",
      "3\n",
      "4\n",
      "5\n",
      "6\n",
      "7\n",
      "8\n",
      "9\n"
     ]
    }
   ],
   "source": [
    "x = 0\n",
    "while x < 10: #00000000\n",
    "    print x\n",
    "    x = x + 1"
   ]
  },
  {
   "cell_type": "markdown",
   "metadata": {},
   "source": [
    "The while-loop is cumbersome since you have to set up and keep track of `x` yourself, but notice that only 1 integer, `x`, needs to be stored in memory. This is because the while-loop \"forgets\" each number as soon as it's been printed.\n",
    "\n",
    "You can keep track of a range the same way. The only information that needs to be stored is the start, end, and current position. This is what `xrange()` does. You can make an xrange of any size without crashing Python:"
   ]
  },
  {
   "cell_type": "code",
   "execution_count": 36,
   "metadata": {
    "collapsed": false
   },
   "outputs": [
    {
     "data": {
      "text/plain": [
       "xrange(1000000000)"
      ]
     },
     "execution_count": 36,
     "metadata": {},
     "output_type": "execute_result"
    }
   ],
   "source": [
    "xrange(1000000000)"
   ]
  },
  {
   "cell_type": "markdown",
   "metadata": {},
   "source": [
    "To use the xrange, turn it into an iterator with `iter()` and get the current element with `.next()`:"
   ]
  },
  {
   "cell_type": "code",
   "execution_count": 47,
   "metadata": {
    "collapsed": false
   },
   "outputs": [
    {
     "data": {
      "text/plain": [
       "0"
      ]
     },
     "execution_count": 47,
     "metadata": {},
     "output_type": "execute_result"
    }
   ],
   "source": [
    "x = iter(xrange(1000))\n",
    "x.next()"
   ]
  },
  {
   "cell_type": "code",
   "execution_count": 48,
   "metadata": {
    "collapsed": false
   },
   "outputs": [
    {
     "data": {
      "text/plain": [
       "1"
      ]
     },
     "execution_count": 48,
     "metadata": {},
     "output_type": "execute_result"
    }
   ],
   "source": [
    "x.next()"
   ]
  },
  {
   "cell_type": "markdown",
   "metadata": {},
   "source": [
    "Most of the time you won't need `iter()` and `.next()`, because you'll use xranges in for-loops:"
   ]
  },
  {
   "cell_type": "code",
   "execution_count": 5,
   "metadata": {
    "collapsed": false
   },
   "outputs": [
    {
     "name": "stdout",
     "output_type": "stream",
     "text": [
      "0\n",
      "1\n",
      "2\n",
      "3\n",
      "4\n",
      "5\n",
      "6\n",
      "7\n",
      "8\n",
      "9\n"
     ]
    }
   ],
   "source": [
    "for x in xrange(10):\n",
    "    print x"
   ]
  },
  {
   "cell_type": "markdown",
   "metadata": {},
   "source": [
    "You can also use xranges in list comprehensions. A _list comprehension_ applies an operation to each element of an iterator.\n",
    "\n",
    "If you're familiar with set notation like $\\bigl\\{ x + 2 : x \\in \\{0, 1, 2, 3\\}\\bigr\\}$ from mathematics, the syntax of list comprehensions is similar:"
   ]
  },
  {
   "cell_type": "code",
   "execution_count": 50,
   "metadata": {
    "collapsed": false
   },
   "outputs": [
    {
     "data": {
      "text/plain": [
       "[2, 3, 4, 5]"
      ]
     },
     "execution_count": 50,
     "metadata": {},
     "output_type": "execute_result"
    }
   ],
   "source": [
    "[x + 2 for x in xrange(4)]"
   ]
  },
  {
   "cell_type": "markdown",
   "metadata": {},
   "source": [
    "If you're familiar with R, you can also think of list comprehensions as the Python equivalent of apply functions.\n",
    "\n",
    "The name of the variable in a list comprehension doesn't matter:"
   ]
  },
  {
   "cell_type": "code",
   "execution_count": 51,
   "metadata": {
    "collapsed": false
   },
   "outputs": [
    {
     "data": {
      "text/plain": [
       "[2, 3, 4, 5]"
      ]
     },
     "execution_count": 51,
     "metadata": {},
     "output_type": "execute_result"
    }
   ],
   "source": [
    "[y + 2 for y in xrange(4)]"
   ]
  },
  {
   "cell_type": "markdown",
   "metadata": {},
   "source": [
    "For more complex tasks, you can use several list comprehensions in a row:"
   ]
  },
  {
   "cell_type": "code",
   "execution_count": 54,
   "metadata": {
    "collapsed": false
   },
   "outputs": [
    {
     "data": {
      "text/plain": [
       "130"
      ]
     },
     "execution_count": 54,
     "metadata": {},
     "output_type": "execute_result"
    }
   ],
   "source": [
    "# Sum (x^2 + 2) over all even x in {0, 1, ..., 9}\n",
    "vals = [x ** 2 for x in xrange(10) if x % 2 == 0] # x^2 for all even x\n",
    "vals = [x + 2 for x in vals] # add 2\n",
    "sum(vals) # sum"
   ]
  },
  {
   "cell_type": "markdown",
   "metadata": {},
   "source": [
    "Like ranges, list comprehensions can use a lot of memory if you aren't careful. _Generator expressions_ are like list comprehensions, but don't compute anything until a value is requested, and forget the previous value as soon as the next value is requested.\n",
    "\n",
    "In other words, generator expressions are similar to xranges, while list comprehensions are similar to ranges.\n",
    "\n",
    "The syntax for a generator expression is the same as for a list comprehension, but surrounded by parentheses `()` instead of brackets `[]`:"
   ]
  },
  {
   "cell_type": "code",
   "execution_count": 56,
   "metadata": {
    "collapsed": false
   },
   "outputs": [
    {
     "data": {
      "text/plain": [
       "130"
      ]
     },
     "execution_count": 56,
     "metadata": {},
     "output_type": "execute_result"
    }
   ],
   "source": [
    "# Sum (x^2 + 2) over all even x in {0, 1, ..., 9}\n",
    "vals = (x ** 2 for x in xrange(10) if x % 2 == 0) # x^2 for all even x\n",
    "vals = (x + 2 for x in vals) # add 2\n",
    "sum(vals) # sum"
   ]
  },
  {
   "cell_type": "markdown",
   "metadata": {},
   "source": [
    "Whenever possible, use xranges and generator expressions rather than ranges and list comprehensions. This can substantially improve the performance of your code."
   ]
  },
  {
   "cell_type": "markdown",
   "metadata": {},
   "source": [
    "### Modular Arithmetic\n",
    "\n",
    "Suppose it's 9am and you have a meeting 2 hours. If someone asks when the meeting is, you'd say 9 + 2 = 11.\n",
    "\n",
    "What if the meeting is in 6 hours? Although 9 + 6 = 15, you'd probably say 3pm by calculating 9 + 6 = 15 and 15 - 12 = 3.\n",
    "\n",
    "When you do clock arithmetic, you're actually doing _modular arithmetic_! In the example, you're computing $(9 + 6) \\bmod 12 = 3$. Modular arithmetic is useful in any situation where the numbers wrap around, like the hours on a clock (0 - 11) or the days of the week (0 - 6). Note that modular arithmetic is zero-based, so $12 \\bmod 12 = 0$ rather than $12$.\n",
    "\n",
    "You can also think of modular arithmetic as the computing the remainder after division.\n",
    "\n",
    "In Python, the modulo operator is `%`:"
   ]
  },
  {
   "cell_type": "code",
   "execution_count": 57,
   "metadata": {
    "collapsed": false
   },
   "outputs": [
    {
     "data": {
      "text/plain": [
       "1"
      ]
     },
     "execution_count": 57,
     "metadata": {},
     "output_type": "execute_result"
    }
   ],
   "source": [
    "8 % 7"
   ]
  },
  {
   "cell_type": "code",
   "execution_count": 58,
   "metadata": {
    "collapsed": false
   },
   "outputs": [
    {
     "data": {
      "text/plain": [
       "0"
      ]
     },
     "execution_count": 58,
     "metadata": {},
     "output_type": "execute_result"
    }
   ],
   "source": [
    "6 % 2"
   ]
  },
  {
   "cell_type": "markdown",
   "metadata": {},
   "source": [
    "## Student Questions\n",
    "\n",
    "__Q:__ How can I extract the last 2 digits of a number?\n",
    "\n",
    "Use the modulo operator with a power of 10 to divide out larger digits:"
   ]
  },
  {
   "cell_type": "code",
   "execution_count": 60,
   "metadata": {
    "collapsed": false
   },
   "outputs": [
    {
     "data": {
      "text/plain": [
       "6"
      ]
     },
     "execution_count": 60,
     "metadata": {},
     "output_type": "execute_result"
    }
   ],
   "source": [
    "356 % 10"
   ]
  },
  {
   "cell_type": "markdown",
   "metadata": {},
   "source": [
    "If you have a string rather than an integer, you can extract digits with array indexing:"
   ]
  },
  {
   "cell_type": "code",
   "execution_count": 63,
   "metadata": {
    "collapsed": false
   },
   "outputs": [
    {
     "data": {
      "text/plain": [
       "'cat'"
      ]
     },
     "execution_count": 63,
     "metadata": {},
     "output_type": "execute_result"
    }
   ],
   "source": [
    "x = \"fuzzy cat\"\n",
    "x[6:] # from 7th digit to end of string"
   ]
  },
  {
   "cell_type": "markdown",
   "metadata": {},
   "source": [
    "Note that negative indexes are counted from the right side of the string:"
   ]
  },
  {
   "cell_type": "code",
   "execution_count": 66,
   "metadata": {
    "collapsed": false
   },
   "outputs": [
    {
     "data": {
      "text/plain": [
       "'cat'"
      ]
     },
     "execution_count": 66,
     "metadata": {},
     "output_type": "execute_result"
    }
   ],
   "source": [
    "x[-3:] # from 3rd-to-last digit to end of string"
   ]
  }
 ],
 "metadata": {
  "kernelspec": {
   "display_name": "Python 2",
   "language": "python",
   "name": "python2"
  },
  "language_info": {
   "codemirror_mode": {
    "name": "ipython",
    "version": 2
   },
   "file_extension": ".py",
   "mimetype": "text/x-python",
   "name": "python",
   "nbconvert_exporter": "python",
   "pygments_lexer": "ipython2",
   "version": "2.7.13"
  }
 },
 "nbformat": 4,
 "nbformat_minor": 2
}

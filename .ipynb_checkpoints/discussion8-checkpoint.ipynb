{
 "cells": [
  {
   "cell_type": "markdown",
   "metadata": {},
   "source": [
    "# Discussion 8"
   ]
  },
  {
   "cell_type": "markdown",
   "metadata": {},
   "source": [
    "## Databases\n",
    "\n",
    "A _relational database_ is a collection of tables. Usually, each table is connected to one or more other tables through a common column.\n",
    "\n",
    "_Structured query language_ (SQL) is a language designed for accessing information in relational databases.\n",
    "\n",
    "A free SQL tutorial is available [here](https://www.w3schools.com/sql/)."
   ]
  },
  {
   "cell_type": "markdown",
   "metadata": {},
   "source": [
    "### `sqlite3`\n",
    "\n",
    "SQLite is possibly [the most-used database engine in the world](https://sqlite.org/mostdeployed.html). SQLite's popularity is partly due to its reliability, easy setup, and broad range of features.\n",
    "\n",
    "Python has built-in support for SQLite databases through the `sqlite3` module."
   ]
  },
  {
   "cell_type": "code",
   "execution_count": 15,
   "metadata": {
    "collapsed": true
   },
   "outputs": [],
   "source": [
    "import sqlite3 as sql"
   ]
  },
  {
   "cell_type": "markdown",
   "metadata": {},
   "source": [
    "To connect to a database, use the module's `connect()` function. This is similar to opening a file; you should close the database when you're done using it."
   ]
  },
  {
   "cell_type": "code",
   "execution_count": 16,
   "metadata": {
    "collapsed": false
   },
   "outputs": [],
   "source": [
    "db = sql.connect(\"suppliers.sqlite\")"
   ]
  },
  {
   "cell_type": "markdown",
   "metadata": {},
   "source": [
    "To execute a SQL command, use the connection's `.execute()` method. This returns a _cursor_, which is a pointer to the results in the database (imagine a finger pointing at the results).\n",
    "\n",
    "SQLite databases store metadata in a special table called `sqlite_master`. We can use `sqlite_master` to find out the names of the other tables in the database."
   ]
  },
  {
   "cell_type": "code",
   "execution_count": 17,
   "metadata": {
    "collapsed": false
   },
   "outputs": [],
   "source": [
    "cursor = db.execute(\"SELECT * FROM sqlite_master\")  # is sqlite_master the only name for tables in sqlite files??????"
   ]
  },
  {
   "cell_type": "markdown",
   "metadata": {},
   "source": [
    "To get the results from the database, use one of the cursor's fetch methods. The `.fetchall()` method returns all rows in the result."
   ]
  },
  {
   "cell_type": "code",
   "execution_count": 18,
   "metadata": {
    "collapsed": false
   },
   "outputs": [
    {
     "data": {
      "text/plain": [
       "[('table',\n",
       "  'Suppliers',\n",
       "  'Suppliers',\n",
       "  2,\n",
       "  'CREATE TABLE Suppliers (\\nSupplierID integer,\\nSupplierName text,\\nStatus integer,\\nCity text,\\nPRIMARY KEY(SupplierID)\\n)'),\n",
       " ('table',\n",
       "  'Parts',\n",
       "  'Parts',\n",
       "  3,\n",
       "  'CREATE TABLE Parts (\\nPartID integer,\\nPartName text,\\nColor text,\\nWeight real,\\nCity text,\\nPRIMARY KEY(PartID)\\n)'),\n",
       " ('table',\n",
       "  'SupplierParts',\n",
       "  'SupplierParts',\n",
       "  4,\n",
       "  'CREATE TABLE SupplierParts (\\nPartID integer,\\nSupplierID integer,\\nQty integer,\\nPRIMARY KEY(PartID, SupplierID)\\n)'),\n",
       " ('index', 'sqlite_autoindex_SupplierParts_1', 'SupplierParts', 5, None)]"
      ]
     },
     "execution_count": 18,
     "metadata": {},
     "output_type": "execute_result"
    }
   ],
   "source": [
    "cursor.fetchall()"
   ]
  },
  {
   "cell_type": "markdown",
   "metadata": {},
   "source": [
    "By default, `sqlite3` will return rows as tuples. If you'd rather have the rows as dictionaries indexed by column name, set the `.row_factory` attribute on the database connection."
   ]
  },
  {
   "cell_type": "code",
   "execution_count": 19,
   "metadata": {
    "collapsed": true
   },
   "outputs": [],
   "source": [
    "db.row_factory = sql.Row"
   ]
  },
  {
   "cell_type": "markdown",
   "metadata": {},
   "source": [
    "Now the rows will behave like dictionaries:"
   ]
  },
  {
   "cell_type": "code",
   "execution_count": 20,
   "metadata": {
    "collapsed": true
   },
   "outputs": [],
   "source": [
    "cursor = db.execute(\"SELECT * FROM sqlite_master\")\n",
    "rows = cursor.fetchall()"
   ]
  },
  {
   "cell_type": "code",
   "execution_count": 21,
   "metadata": {
    "collapsed": false
   },
   "outputs": [
    {
     "data": {
      "text/plain": [
       "['type', 'name', 'tbl_name', 'rootpage', 'sql']"
      ]
     },
     "execution_count": 21,
     "metadata": {},
     "output_type": "execute_result"
    }
   ],
   "source": [
    "rows[0].keys()"
   ]
  },
  {
   "cell_type": "code",
   "execution_count": 22,
   "metadata": {
    "collapsed": false
   },
   "outputs": [
    {
     "data": {
      "text/plain": [
       "'Suppliers'"
      ]
     },
     "execution_count": 22,
     "metadata": {},
     "output_type": "execute_result"
    }
   ],
   "source": [
    "rows[0]['name']"
   ]
  },
  {
   "cell_type": "markdown",
   "metadata": {},
   "source": [
    "Don't forget to close the database when you're done!"
   ]
  },
  {
   "cell_type": "code",
   "execution_count": 14,
   "metadata": {
    "collapsed": false
   },
   "outputs": [
    {
     "ename": "AttributeError",
     "evalue": "'sqlite3.Connection' object has no attribute 'open'",
     "output_type": "error",
     "traceback": [
      "\u001b[0;31m---------------------------------------------------------------------------\u001b[0m",
      "\u001b[0;31mAttributeError\u001b[0m                            Traceback (most recent call last)",
      "\u001b[0;32m<ipython-input-14-af955ef79a24>\u001b[0m in \u001b[0;36m<module>\u001b[0;34m()\u001b[0m\n\u001b[0;32m----> 1\u001b[0;31m \u001b[0mdb\u001b[0m\u001b[1;33m.\u001b[0m\u001b[0mopen\u001b[0m\u001b[1;33m(\u001b[0m\u001b[1;33m)\u001b[0m\u001b[1;33m\u001b[0m\u001b[0m\n\u001b[0m",
      "\u001b[0;31mAttributeError\u001b[0m: 'sqlite3.Connection' object has no attribute 'open'"
     ]
    }
   ],
   "source": [
    " #db.close()"
   ]
  },
  {
   "cell_type": "markdown",
   "metadata": {},
   "source": [
    "### `sqlalchemy`\n",
    "\n",
    "The `sqlalchemy` package is a unified interface for a variety of different SQL database formats (more than just SQLite). See the [tutorial](http://docs.sqlalchemy.org/en/latest/core/tutorial.html) for more details."
   ]
  },
  {
   "cell_type": "markdown",
   "metadata": {},
   "source": [
    "### Pandas\n",
    "\n",
    "The easiest way to view database tables is to load them into a data frame with Pandas.\n",
    "\n",
    "You still need to connect to the database first with `sqlite3` or `sqlalchemy`.\n",
    "\n",
    "The `pd.read_sql()` function takes a SQL query and an open database connection as arguments. The result of the query is returned as a data frame."
   ]
  },
  {
   "cell_type": "code",
   "execution_count": 23,
   "metadata": {
    "collapsed": false
   },
   "outputs": [
    {
     "data": {
      "text/html": [
       "<div>\n",
       "<table border=\"1\" class=\"dataframe\">\n",
       "  <thead>\n",
       "    <tr style=\"text-align: right;\">\n",
       "      <th></th>\n",
       "      <th>type</th>\n",
       "      <th>name</th>\n",
       "      <th>tbl_name</th>\n",
       "      <th>rootpage</th>\n",
       "      <th>sql</th>\n",
       "    </tr>\n",
       "  </thead>\n",
       "  <tbody>\n",
       "    <tr>\n",
       "      <th>0</th>\n",
       "      <td>table</td>\n",
       "      <td>Suppliers</td>\n",
       "      <td>Suppliers</td>\n",
       "      <td>2</td>\n",
       "      <td>CREATE TABLE Suppliers (\\nSupplierID integer,\\...</td>\n",
       "    </tr>\n",
       "    <tr>\n",
       "      <th>1</th>\n",
       "      <td>table</td>\n",
       "      <td>Parts</td>\n",
       "      <td>Parts</td>\n",
       "      <td>3</td>\n",
       "      <td>CREATE TABLE Parts (\\nPartID integer,\\nPartNam...</td>\n",
       "    </tr>\n",
       "    <tr>\n",
       "      <th>2</th>\n",
       "      <td>table</td>\n",
       "      <td>SupplierParts</td>\n",
       "      <td>SupplierParts</td>\n",
       "      <td>4</td>\n",
       "      <td>CREATE TABLE SupplierParts (\\nPartID integer,\\...</td>\n",
       "    </tr>\n",
       "    <tr>\n",
       "      <th>3</th>\n",
       "      <td>index</td>\n",
       "      <td>sqlite_autoindex_SupplierParts_1</td>\n",
       "      <td>SupplierParts</td>\n",
       "      <td>5</td>\n",
       "      <td>None</td>\n",
       "    </tr>\n",
       "  </tbody>\n",
       "</table>\n",
       "</div>"
      ],
      "text/plain": [
       "    type                              name       tbl_name  rootpage  \\\n",
       "0  table                         Suppliers      Suppliers         2   \n",
       "1  table                             Parts          Parts         3   \n",
       "2  table                     SupplierParts  SupplierParts         4   \n",
       "3  index  sqlite_autoindex_SupplierParts_1  SupplierParts         5   \n",
       "\n",
       "                                                 sql  \n",
       "0  CREATE TABLE Suppliers (\\nSupplierID integer,\\...  \n",
       "1  CREATE TABLE Parts (\\nPartID integer,\\nPartNam...  \n",
       "2  CREATE TABLE SupplierParts (\\nPartID integer,\\...  \n",
       "3                                               None  "
      ]
     },
     "execution_count": 23,
     "metadata": {},
     "output_type": "execute_result"
    }
   ],
   "source": [
    "import pandas as pd\n",
    "\n",
    "pd.read_sql(\"SELECT * FROM sqlite_master\", db)"
   ]
  },
  {
   "cell_type": "code",
   "execution_count": 24,
   "metadata": {
    "collapsed": false
   },
   "outputs": [
    {
     "data": {
      "text/html": [
       "<div>\n",
       "<table border=\"1\" class=\"dataframe\">\n",
       "  <thead>\n",
       "    <tr style=\"text-align: right;\">\n",
       "      <th></th>\n",
       "      <th>SupplierID</th>\n",
       "      <th>SupplierName</th>\n",
       "      <th>Status</th>\n",
       "      <th>City</th>\n",
       "    </tr>\n",
       "  </thead>\n",
       "  <tbody>\n",
       "    <tr>\n",
       "      <th>0</th>\n",
       "      <td>1</td>\n",
       "      <td>Smith</td>\n",
       "      <td>20</td>\n",
       "      <td>London</td>\n",
       "    </tr>\n",
       "    <tr>\n",
       "      <th>1</th>\n",
       "      <td>2</td>\n",
       "      <td>Jones</td>\n",
       "      <td>10</td>\n",
       "      <td>Paris</td>\n",
       "    </tr>\n",
       "    <tr>\n",
       "      <th>2</th>\n",
       "      <td>3</td>\n",
       "      <td>Blake</td>\n",
       "      <td>30</td>\n",
       "      <td>Paris</td>\n",
       "    </tr>\n",
       "    <tr>\n",
       "      <th>3</th>\n",
       "      <td>4</td>\n",
       "      <td>Clark</td>\n",
       "      <td>20</td>\n",
       "      <td>London</td>\n",
       "    </tr>\n",
       "    <tr>\n",
       "      <th>4</th>\n",
       "      <td>5</td>\n",
       "      <td>Adams</td>\n",
       "      <td>30</td>\n",
       "      <td>Athens</td>\n",
       "    </tr>\n",
       "  </tbody>\n",
       "</table>\n",
       "</div>"
      ],
      "text/plain": [
       "   SupplierID SupplierName  Status    City\n",
       "0           1        Smith      20  London\n",
       "1           2        Jones      10   Paris\n",
       "2           3        Blake      30   Paris\n",
       "3           4        Clark      20  London\n",
       "4           5        Adams      30  Athens"
      ]
     },
     "execution_count": 24,
     "metadata": {},
     "output_type": "execute_result"
    }
   ],
   "source": [
    "pd.read_sql(\"SELECT * FROM Suppliers\", db)"
   ]
  },
  {
   "cell_type": "markdown",
   "metadata": {
    "collapsed": false
   },
   "source": [
    "Keep in mind that Pandas operations are slower and use more memory than SQL operations.\n",
    "\n",
    "Joins and simple subsetting can almost always be done with SQL!\n",
    "\n",
    "#### Taking Subsets: `LIMIT` and `WHERE`"
   ]
  },
  {
   "cell_type": "code",
   "execution_count": 15,
   "metadata": {
    "collapsed": false
   },
   "outputs": [
    {
     "data": {
      "text/html": [
       "<div>\n",
       "<table border=\"1\" class=\"dataframe\">\n",
       "  <thead>\n",
       "    <tr style=\"text-align: right;\">\n",
       "      <th></th>\n",
       "      <th>PartID</th>\n",
       "      <th>SupplierID</th>\n",
       "      <th>Qty</th>\n",
       "    </tr>\n",
       "  </thead>\n",
       "  <tbody>\n",
       "    <tr>\n",
       "      <th>0</th>\n",
       "      <td>1</td>\n",
       "      <td>1</td>\n",
       "      <td>300</td>\n",
       "    </tr>\n",
       "    <tr>\n",
       "      <th>1</th>\n",
       "      <td>1</td>\n",
       "      <td>2</td>\n",
       "      <td>200</td>\n",
       "    </tr>\n",
       "    <tr>\n",
       "      <th>2</th>\n",
       "      <td>1</td>\n",
       "      <td>3</td>\n",
       "      <td>400</td>\n",
       "    </tr>\n",
       "  </tbody>\n",
       "</table>\n",
       "</div>"
      ],
      "text/plain": [
       "   PartID  SupplierID  Qty\n",
       "0       1           1  300\n",
       "1       1           2  200\n",
       "2       1           3  400"
      ]
     },
     "execution_count": 15,
     "metadata": {},
     "output_type": "execute_result"
    }
   ],
   "source": [
    "pd.read_sql(\"SELECT * FROM SupplierParts LIMIT 3\", db)\n",
    "\n",
    "# Don't do this:\n",
    "# pd.read_sql(\"SELECT * FROM SupplierParts\", db).head()"
   ]
  },
  {
   "cell_type": "markdown",
   "metadata": {},
   "source": [
    "In SQL, `=` tests equality."
   ]
  },
  {
   "cell_type": "code",
   "execution_count": 16,
   "metadata": {
    "collapsed": false
   },
   "outputs": [
    {
     "data": {
      "text/html": [
       "<div>\n",
       "<table border=\"1\" class=\"dataframe\">\n",
       "  <thead>\n",
       "    <tr style=\"text-align: right;\">\n",
       "      <th></th>\n",
       "      <th>SupplierID</th>\n",
       "      <th>SupplierName</th>\n",
       "      <th>Status</th>\n",
       "      <th>City</th>\n",
       "    </tr>\n",
       "  </thead>\n",
       "  <tbody>\n",
       "    <tr>\n",
       "      <th>0</th>\n",
       "      <td>1</td>\n",
       "      <td>Smith</td>\n",
       "      <td>20</td>\n",
       "      <td>London</td>\n",
       "    </tr>\n",
       "    <tr>\n",
       "      <th>1</th>\n",
       "      <td>4</td>\n",
       "      <td>Clark</td>\n",
       "      <td>20</td>\n",
       "      <td>London</td>\n",
       "    </tr>\n",
       "  </tbody>\n",
       "</table>\n",
       "</div>"
      ],
      "text/plain": [
       "   SupplierID SupplierName  Status    City\n",
       "0           1        Smith      20  London\n",
       "1           4        Clark      20  London"
      ]
     },
     "execution_count": 16,
     "metadata": {},
     "output_type": "execute_result"
    }
   ],
   "source": [
    "pd.read_sql(\"SELECT * FROM Suppliers WHERE Status = 20\", db)"
   ]
  },
  {
   "cell_type": "code",
   "execution_count": 17,
   "metadata": {
    "collapsed": false
   },
   "outputs": [
    {
     "data": {
      "text/html": [
       "<div>\n",
       "<table border=\"1\" class=\"dataframe\">\n",
       "  <thead>\n",
       "    <tr style=\"text-align: right;\">\n",
       "      <th></th>\n",
       "      <th>SupplierID</th>\n",
       "      <th>SupplierName</th>\n",
       "      <th>Status</th>\n",
       "      <th>City</th>\n",
       "    </tr>\n",
       "  </thead>\n",
       "  <tbody>\n",
       "    <tr>\n",
       "      <th>0</th>\n",
       "      <td>2</td>\n",
       "      <td>Jones</td>\n",
       "      <td>10</td>\n",
       "      <td>Paris</td>\n",
       "    </tr>\n",
       "    <tr>\n",
       "      <th>1</th>\n",
       "      <td>3</td>\n",
       "      <td>Blake</td>\n",
       "      <td>30</td>\n",
       "      <td>Paris</td>\n",
       "    </tr>\n",
       "  </tbody>\n",
       "</table>\n",
       "</div>"
      ],
      "text/plain": [
       "   SupplierID SupplierName  Status   City\n",
       "0           2        Jones      10  Paris\n",
       "1           3        Blake      30  Paris"
      ]
     },
     "execution_count": 17,
     "metadata": {},
     "output_type": "execute_result"
    }
   ],
   "source": [
    "pd.read_sql(\"SELECT * FROM Suppliers WHERE City = 'Paris'\", db)"
   ]
  },
  {
   "cell_type": "markdown",
   "metadata": {},
   "source": [
    "You can use `AND` and `OR` to combine conditions. You can also use parenthesis to indicate the order of operations."
   ]
  },
  {
   "cell_type": "code",
   "execution_count": 8,
   "metadata": {
    "collapsed": false
   },
   "outputs": [
    {
     "data": {
      "text/html": [
       "<div>\n",
       "<table border=\"1\" class=\"dataframe\">\n",
       "  <thead>\n",
       "    <tr style=\"text-align: right;\">\n",
       "      <th></th>\n",
       "      <th>SupplierID</th>\n",
       "      <th>SupplierName</th>\n",
       "      <th>Status</th>\n",
       "      <th>City</th>\n",
       "    </tr>\n",
       "  </thead>\n",
       "  <tbody>\n",
       "    <tr>\n",
       "      <th>0</th>\n",
       "      <td>2</td>\n",
       "      <td>Jones</td>\n",
       "      <td>10</td>\n",
       "      <td>Paris</td>\n",
       "    </tr>\n",
       "  </tbody>\n",
       "</table>\n",
       "</div>"
      ],
      "text/plain": [
       "   SupplierID SupplierName  Status   City\n",
       "0           2        Jones      10  Paris"
      ]
     },
     "execution_count": 8,
     "metadata": {},
     "output_type": "execute_result"
    }
   ],
   "source": [
    "pd.read_sql(\"SELECT * FROM Suppliers WHERE Status = 10 AND City = 'Paris'\", db)"
   ]
  },
  {
   "cell_type": "markdown",
   "metadata": {},
   "source": [
    "SQL's `LIKE` keyword does simple pattern-matching language for strings. This is less powerful than regular expressions, but still useful.\n",
    "\n",
    "* `%` matches zero or more of any character, similar to regex `.*`\n",
    "* `-` matches any one character, similar to regex `.`\n",
    "* `[]` matches any one of the characters you put inside the brackects, identical to regex `[]`"
   ]
  },
  {
   "cell_type": "code",
   "execution_count": 9,
   "metadata": {
    "collapsed": false
   },
   "outputs": [
    {
     "data": {
      "text/html": [
       "<div>\n",
       "<table border=\"1\" class=\"dataframe\">\n",
       "  <thead>\n",
       "    <tr style=\"text-align: right;\">\n",
       "      <th></th>\n",
       "      <th>SupplierID</th>\n",
       "      <th>SupplierName</th>\n",
       "      <th>Status</th>\n",
       "      <th>City</th>\n",
       "    </tr>\n",
       "  </thead>\n",
       "  <tbody>\n",
       "    <tr>\n",
       "      <th>0</th>\n",
       "      <td>2</td>\n",
       "      <td>Jones</td>\n",
       "      <td>10</td>\n",
       "      <td>Paris</td>\n",
       "    </tr>\n",
       "    <tr>\n",
       "      <th>1</th>\n",
       "      <td>5</td>\n",
       "      <td>Adams</td>\n",
       "      <td>30</td>\n",
       "      <td>Athens</td>\n",
       "    </tr>\n",
       "  </tbody>\n",
       "</table>\n",
       "</div>"
      ],
      "text/plain": [
       "   SupplierID SupplierName  Status    City\n",
       "0           2        Jones      10   Paris\n",
       "1           5        Adams      30  Athens"
      ]
     },
     "execution_count": 9,
     "metadata": {},
     "output_type": "execute_result"
    }
   ],
   "source": [
    "pd.read_sql(\"SELECT * FROM Suppliers WHERE SupplierName LIKE '%s'\", db)"
   ]
  },
  {
   "cell_type": "markdown",
   "metadata": {},
   "source": [
    "The `BETWEEN` keyword is useful for selecting ranges.\n",
    "\n",
    "You can use `BETWEEN` with dates in this format:\n",
    "```SQL\n",
    "SELECT * FROM Table WHERE Date BETWEEN #01/15/2017# AND #02/16/2017#\n",
    "```"
   ]
  },
  {
   "cell_type": "code",
   "execution_count": 10,
   "metadata": {
    "collapsed": false
   },
   "outputs": [
    {
     "data": {
      "text/html": [
       "<div>\n",
       "<table border=\"1\" class=\"dataframe\">\n",
       "  <thead>\n",
       "    <tr style=\"text-align: right;\">\n",
       "      <th></th>\n",
       "      <th>SupplierID</th>\n",
       "      <th>SupplierName</th>\n",
       "      <th>Status</th>\n",
       "      <th>City</th>\n",
       "    </tr>\n",
       "  </thead>\n",
       "  <tbody>\n",
       "    <tr>\n",
       "      <th>0</th>\n",
       "      <td>1</td>\n",
       "      <td>Smith</td>\n",
       "      <td>20</td>\n",
       "      <td>London</td>\n",
       "    </tr>\n",
       "    <tr>\n",
       "      <th>1</th>\n",
       "      <td>3</td>\n",
       "      <td>Blake</td>\n",
       "      <td>30</td>\n",
       "      <td>Paris</td>\n",
       "    </tr>\n",
       "    <tr>\n",
       "      <th>2</th>\n",
       "      <td>4</td>\n",
       "      <td>Clark</td>\n",
       "      <td>20</td>\n",
       "      <td>London</td>\n",
       "    </tr>\n",
       "    <tr>\n",
       "      <th>3</th>\n",
       "      <td>5</td>\n",
       "      <td>Adams</td>\n",
       "      <td>30</td>\n",
       "      <td>Athens</td>\n",
       "    </tr>\n",
       "  </tbody>\n",
       "</table>\n",
       "</div>"
      ],
      "text/plain": [
       "   SupplierID SupplierName  Status    City\n",
       "0           1        Smith      20  London\n",
       "1           3        Blake      30   Paris\n",
       "2           4        Clark      20  London\n",
       "3           5        Adams      30  Athens"
      ]
     },
     "execution_count": 10,
     "metadata": {},
     "output_type": "execute_result"
    }
   ],
   "source": [
    "pd.read_sql(\"SELECT * FROM Suppliers WHERE Status BETWEEN 20 AND 30\", db)"
   ]
  },
  {
   "cell_type": "markdown",
   "metadata": {},
   "source": [
    "#### Grouping and Aggregating: `GROUP BY`"
   ]
  },
  {
   "cell_type": "code",
   "execution_count": 24,
   "metadata": {
    "collapsed": false,
    "scrolled": true
   },
   "outputs": [
    {
     "data": {
      "text/html": [
       "<div>\n",
       "<table border=\"1\" class=\"dataframe\">\n",
       "  <thead>\n",
       "    <tr style=\"text-align: right;\">\n",
       "      <th></th>\n",
       "      <th>PartID</th>\n",
       "      <th>PartName</th>\n",
       "      <th>Color</th>\n",
       "      <th>Weight</th>\n",
       "      <th>City</th>\n",
       "    </tr>\n",
       "  </thead>\n",
       "  <tbody>\n",
       "    <tr>\n",
       "      <th>0</th>\n",
       "      <td>1</td>\n",
       "      <td>Nut</td>\n",
       "      <td>Red</td>\n",
       "      <td>12.0</td>\n",
       "      <td>London</td>\n",
       "    </tr>\n",
       "    <tr>\n",
       "      <th>1</th>\n",
       "      <td>2</td>\n",
       "      <td>Bolt</td>\n",
       "      <td>Green</td>\n",
       "      <td>17.0</td>\n",
       "      <td>Paris</td>\n",
       "    </tr>\n",
       "    <tr>\n",
       "      <th>2</th>\n",
       "      <td>3</td>\n",
       "      <td>Screw</td>\n",
       "      <td>Blue</td>\n",
       "      <td>17.0</td>\n",
       "      <td>Oslo</td>\n",
       "    </tr>\n",
       "    <tr>\n",
       "      <th>3</th>\n",
       "      <td>4</td>\n",
       "      <td>Screw</td>\n",
       "      <td>Red</td>\n",
       "      <td>14.0</td>\n",
       "      <td>London</td>\n",
       "    </tr>\n",
       "    <tr>\n",
       "      <th>4</th>\n",
       "      <td>5</td>\n",
       "      <td>Cam</td>\n",
       "      <td>Blue</td>\n",
       "      <td>12.0</td>\n",
       "      <td>Paris</td>\n",
       "    </tr>\n",
       "    <tr>\n",
       "      <th>5</th>\n",
       "      <td>6</td>\n",
       "      <td>Cog</td>\n",
       "      <td>Red</td>\n",
       "      <td>19.0</td>\n",
       "      <td>London</td>\n",
       "    </tr>\n",
       "  </tbody>\n",
       "</table>\n",
       "</div>"
      ],
      "text/plain": [
       "   PartID PartName  Color  Weight    City\n",
       "0       1      Nut    Red    12.0  London\n",
       "1       2     Bolt  Green    17.0   Paris\n",
       "2       3    Screw   Blue    17.0    Oslo\n",
       "3       4    Screw    Red    14.0  London\n",
       "4       5      Cam   Blue    12.0   Paris\n",
       "5       6      Cog    Red    19.0  London"
      ]
     },
     "execution_count": 24,
     "metadata": {},
     "output_type": "execute_result"
    }
   ],
   "source": [
    "pd.read_sql(\"SELECT * FROM Parts\", db)"
   ]
  },
  {
   "cell_type": "code",
   "execution_count": 34,
   "metadata": {
    "collapsed": false
   },
   "outputs": [],
   "source": [
    "df = pd.read_sql(\"SELECT PartName, AVG(Weight) AS Avg_Weight, COUNT(*) AS Count FROM Parts GROUP BY PartName\", db)"
   ]
  },
  {
   "cell_type": "code",
   "execution_count": 35,
   "metadata": {
    "collapsed": false
   },
   "outputs": [
    {
     "data": {
      "text/html": [
       "<div>\n",
       "<table border=\"1\" class=\"dataframe\">\n",
       "  <thead>\n",
       "    <tr style=\"text-align: right;\">\n",
       "      <th></th>\n",
       "      <th>PartName</th>\n",
       "      <th>Avg_Weight</th>\n",
       "      <th>Count</th>\n",
       "    </tr>\n",
       "  </thead>\n",
       "  <tbody>\n",
       "    <tr>\n",
       "      <th>0</th>\n",
       "      <td>Bolt</td>\n",
       "      <td>17.0</td>\n",
       "      <td>1</td>\n",
       "    </tr>\n",
       "    <tr>\n",
       "      <th>1</th>\n",
       "      <td>Cam</td>\n",
       "      <td>12.0</td>\n",
       "      <td>1</td>\n",
       "    </tr>\n",
       "    <tr>\n",
       "      <th>2</th>\n",
       "      <td>Cog</td>\n",
       "      <td>19.0</td>\n",
       "      <td>1</td>\n",
       "    </tr>\n",
       "    <tr>\n",
       "      <th>3</th>\n",
       "      <td>Nut</td>\n",
       "      <td>12.0</td>\n",
       "      <td>1</td>\n",
       "    </tr>\n",
       "    <tr>\n",
       "      <th>4</th>\n",
       "      <td>Screw</td>\n",
       "      <td>15.5</td>\n",
       "      <td>2</td>\n",
       "    </tr>\n",
       "  </tbody>\n",
       "</table>\n",
       "</div>"
      ],
      "text/plain": [
       "  PartName  Avg_Weight  Count\n",
       "0     Bolt        17.0      1\n",
       "1      Cam        12.0      1\n",
       "2      Cog        19.0      1\n",
       "3      Nut        12.0      1\n",
       "4    Screw        15.5      2"
      ]
     },
     "execution_count": 35,
     "metadata": {},
     "output_type": "execute_result"
    }
   ],
   "source": [
    "df"
   ]
  },
  {
   "cell_type": "markdown",
   "metadata": {},
   "source": [
    "To do subsetting and aggregation in one query, use `GROUP BY` with `HAVING`. The tutorial linked above has more details.\n",
    "\n",
    "#### Joins: `INNER JOIN` and `LEFT JOIN`\n",
    "\n",
    "Joins combine related information from two or more different tables."
   ]
  },
  {
   "cell_type": "code",
   "execution_count": 38,
   "metadata": {
    "collapsed": false
   },
   "outputs": [
    {
     "data": {
      "text/html": [
       "<div>\n",
       "<table border=\"1\" class=\"dataframe\">\n",
       "  <thead>\n",
       "    <tr style=\"text-align: right;\">\n",
       "      <th></th>\n",
       "      <th>PartID</th>\n",
       "      <th>PartName</th>\n",
       "      <th>Color</th>\n",
       "      <th>Weight</th>\n",
       "      <th>City</th>\n",
       "      <th>PartID</th>\n",
       "      <th>SupplierID</th>\n",
       "      <th>Qty</th>\n",
       "    </tr>\n",
       "  </thead>\n",
       "  <tbody>\n",
       "    <tr>\n",
       "      <th>0</th>\n",
       "      <td>1</td>\n",
       "      <td>Nut</td>\n",
       "      <td>Red</td>\n",
       "      <td>12.0</td>\n",
       "      <td>London</td>\n",
       "      <td>1</td>\n",
       "      <td>1</td>\n",
       "      <td>300</td>\n",
       "    </tr>\n",
       "    <tr>\n",
       "      <th>1</th>\n",
       "      <td>1</td>\n",
       "      <td>Nut</td>\n",
       "      <td>Red</td>\n",
       "      <td>12.0</td>\n",
       "      <td>London</td>\n",
       "      <td>1</td>\n",
       "      <td>2</td>\n",
       "      <td>200</td>\n",
       "    </tr>\n",
       "    <tr>\n",
       "      <th>2</th>\n",
       "      <td>1</td>\n",
       "      <td>Nut</td>\n",
       "      <td>Red</td>\n",
       "      <td>12.0</td>\n",
       "      <td>London</td>\n",
       "      <td>1</td>\n",
       "      <td>3</td>\n",
       "      <td>400</td>\n",
       "    </tr>\n",
       "    <tr>\n",
       "      <th>3</th>\n",
       "      <td>1</td>\n",
       "      <td>Nut</td>\n",
       "      <td>Red</td>\n",
       "      <td>12.0</td>\n",
       "      <td>London</td>\n",
       "      <td>1</td>\n",
       "      <td>4</td>\n",
       "      <td>200</td>\n",
       "    </tr>\n",
       "    <tr>\n",
       "      <th>4</th>\n",
       "      <td>1</td>\n",
       "      <td>Nut</td>\n",
       "      <td>Red</td>\n",
       "      <td>12.0</td>\n",
       "      <td>London</td>\n",
       "      <td>1</td>\n",
       "      <td>5</td>\n",
       "      <td>100</td>\n",
       "    </tr>\n",
       "    <tr>\n",
       "      <th>5</th>\n",
       "      <td>1</td>\n",
       "      <td>Nut</td>\n",
       "      <td>Red</td>\n",
       "      <td>12.0</td>\n",
       "      <td>London</td>\n",
       "      <td>1</td>\n",
       "      <td>6</td>\n",
       "      <td>100</td>\n",
       "    </tr>\n",
       "    <tr>\n",
       "      <th>6</th>\n",
       "      <td>2</td>\n",
       "      <td>Bolt</td>\n",
       "      <td>Green</td>\n",
       "      <td>17.0</td>\n",
       "      <td>Paris</td>\n",
       "      <td>2</td>\n",
       "      <td>1</td>\n",
       "      <td>300</td>\n",
       "    </tr>\n",
       "    <tr>\n",
       "      <th>7</th>\n",
       "      <td>2</td>\n",
       "      <td>Bolt</td>\n",
       "      <td>Green</td>\n",
       "      <td>17.0</td>\n",
       "      <td>Paris</td>\n",
       "      <td>2</td>\n",
       "      <td>2</td>\n",
       "      <td>400</td>\n",
       "    </tr>\n",
       "    <tr>\n",
       "      <th>8</th>\n",
       "      <td>3</td>\n",
       "      <td>Screw</td>\n",
       "      <td>Blue</td>\n",
       "      <td>17.0</td>\n",
       "      <td>Oslo</td>\n",
       "      <td>3</td>\n",
       "      <td>2</td>\n",
       "      <td>200</td>\n",
       "    </tr>\n",
       "    <tr>\n",
       "      <th>9</th>\n",
       "      <td>4</td>\n",
       "      <td>Screw</td>\n",
       "      <td>Red</td>\n",
       "      <td>14.0</td>\n",
       "      <td>London</td>\n",
       "      <td>4</td>\n",
       "      <td>2</td>\n",
       "      <td>200</td>\n",
       "    </tr>\n",
       "    <tr>\n",
       "      <th>10</th>\n",
       "      <td>4</td>\n",
       "      <td>Screw</td>\n",
       "      <td>Red</td>\n",
       "      <td>14.0</td>\n",
       "      <td>London</td>\n",
       "      <td>4</td>\n",
       "      <td>4</td>\n",
       "      <td>300</td>\n",
       "    </tr>\n",
       "    <tr>\n",
       "      <th>11</th>\n",
       "      <td>4</td>\n",
       "      <td>Screw</td>\n",
       "      <td>Red</td>\n",
       "      <td>14.0</td>\n",
       "      <td>London</td>\n",
       "      <td>4</td>\n",
       "      <td>5</td>\n",
       "      <td>400</td>\n",
       "    </tr>\n",
       "  </tbody>\n",
       "</table>\n",
       "</div>"
      ],
      "text/plain": [
       "    PartID PartName  Color  Weight    City  PartID  SupplierID  Qty\n",
       "0        1      Nut    Red    12.0  London       1           1  300\n",
       "1        1      Nut    Red    12.0  London       1           2  200\n",
       "2        1      Nut    Red    12.0  London       1           3  400\n",
       "3        1      Nut    Red    12.0  London       1           4  200\n",
       "4        1      Nut    Red    12.0  London       1           5  100\n",
       "5        1      Nut    Red    12.0  London       1           6  100\n",
       "6        2     Bolt  Green    17.0   Paris       2           1  300\n",
       "7        2     Bolt  Green    17.0   Paris       2           2  400\n",
       "8        3    Screw   Blue    17.0    Oslo       3           2  200\n",
       "9        4    Screw    Red    14.0  London       4           2  200\n",
       "10       4    Screw    Red    14.0  London       4           4  300\n",
       "11       4    Screw    Red    14.0  London       4           5  400"
      ]
     },
     "execution_count": 38,
     "metadata": {},
     "output_type": "execute_result"
    }
   ],
   "source": [
    "pd.read_sql(\"SELECT * FROM Parts INNER JOIN SupplierParts ON Parts.PartID = SupplierParts.PartID\", db)"
   ]
  },
  {
   "cell_type": "code",
   "execution_count": 40,
   "metadata": {
    "collapsed": false
   },
   "outputs": [
    {
     "data": {
      "text/html": [
       "<div>\n",
       "<table border=\"1\" class=\"dataframe\">\n",
       "  <thead>\n",
       "    <tr style=\"text-align: right;\">\n",
       "      <th></th>\n",
       "      <th>PartID</th>\n",
       "      <th>PartName</th>\n",
       "      <th>Color</th>\n",
       "      <th>Weight</th>\n",
       "      <th>City</th>\n",
       "      <th>SupplierID</th>\n",
       "      <th>Qty</th>\n",
       "    </tr>\n",
       "  </thead>\n",
       "  <tbody>\n",
       "    <tr>\n",
       "      <th>0</th>\n",
       "      <td>1</td>\n",
       "      <td>Nut</td>\n",
       "      <td>Red</td>\n",
       "      <td>12.0</td>\n",
       "      <td>London</td>\n",
       "      <td>1</td>\n",
       "      <td>300</td>\n",
       "    </tr>\n",
       "    <tr>\n",
       "      <th>1</th>\n",
       "      <td>1</td>\n",
       "      <td>Nut</td>\n",
       "      <td>Red</td>\n",
       "      <td>12.0</td>\n",
       "      <td>London</td>\n",
       "      <td>2</td>\n",
       "      <td>200</td>\n",
       "    </tr>\n",
       "    <tr>\n",
       "      <th>2</th>\n",
       "      <td>1</td>\n",
       "      <td>Nut</td>\n",
       "      <td>Red</td>\n",
       "      <td>12.0</td>\n",
       "      <td>London</td>\n",
       "      <td>3</td>\n",
       "      <td>400</td>\n",
       "    </tr>\n",
       "    <tr>\n",
       "      <th>3</th>\n",
       "      <td>1</td>\n",
       "      <td>Nut</td>\n",
       "      <td>Red</td>\n",
       "      <td>12.0</td>\n",
       "      <td>London</td>\n",
       "      <td>4</td>\n",
       "      <td>200</td>\n",
       "    </tr>\n",
       "    <tr>\n",
       "      <th>4</th>\n",
       "      <td>1</td>\n",
       "      <td>Nut</td>\n",
       "      <td>Red</td>\n",
       "      <td>12.0</td>\n",
       "      <td>London</td>\n",
       "      <td>5</td>\n",
       "      <td>100</td>\n",
       "    </tr>\n",
       "    <tr>\n",
       "      <th>5</th>\n",
       "      <td>1</td>\n",
       "      <td>Nut</td>\n",
       "      <td>Red</td>\n",
       "      <td>12.0</td>\n",
       "      <td>London</td>\n",
       "      <td>6</td>\n",
       "      <td>100</td>\n",
       "    </tr>\n",
       "    <tr>\n",
       "      <th>6</th>\n",
       "      <td>2</td>\n",
       "      <td>Bolt</td>\n",
       "      <td>Green</td>\n",
       "      <td>17.0</td>\n",
       "      <td>Paris</td>\n",
       "      <td>1</td>\n",
       "      <td>300</td>\n",
       "    </tr>\n",
       "    <tr>\n",
       "      <th>7</th>\n",
       "      <td>2</td>\n",
       "      <td>Bolt</td>\n",
       "      <td>Green</td>\n",
       "      <td>17.0</td>\n",
       "      <td>Paris</td>\n",
       "      <td>2</td>\n",
       "      <td>400</td>\n",
       "    </tr>\n",
       "    <tr>\n",
       "      <th>8</th>\n",
       "      <td>3</td>\n",
       "      <td>Screw</td>\n",
       "      <td>Blue</td>\n",
       "      <td>17.0</td>\n",
       "      <td>Oslo</td>\n",
       "      <td>2</td>\n",
       "      <td>200</td>\n",
       "    </tr>\n",
       "    <tr>\n",
       "      <th>9</th>\n",
       "      <td>4</td>\n",
       "      <td>Screw</td>\n",
       "      <td>Red</td>\n",
       "      <td>14.0</td>\n",
       "      <td>London</td>\n",
       "      <td>2</td>\n",
       "      <td>200</td>\n",
       "    </tr>\n",
       "    <tr>\n",
       "      <th>10</th>\n",
       "      <td>4</td>\n",
       "      <td>Screw</td>\n",
       "      <td>Red</td>\n",
       "      <td>14.0</td>\n",
       "      <td>London</td>\n",
       "      <td>4</td>\n",
       "      <td>300</td>\n",
       "    </tr>\n",
       "    <tr>\n",
       "      <th>11</th>\n",
       "      <td>4</td>\n",
       "      <td>Screw</td>\n",
       "      <td>Red</td>\n",
       "      <td>14.0</td>\n",
       "      <td>London</td>\n",
       "      <td>5</td>\n",
       "      <td>400</td>\n",
       "    </tr>\n",
       "  </tbody>\n",
       "</table>\n",
       "</div>"
      ],
      "text/plain": [
       "    PartID PartName  Color  Weight    City  SupplierID  Qty\n",
       "0        1      Nut    Red    12.0  London           1  300\n",
       "1        1      Nut    Red    12.0  London           2  200\n",
       "2        1      Nut    Red    12.0  London           3  400\n",
       "3        1      Nut    Red    12.0  London           4  200\n",
       "4        1      Nut    Red    12.0  London           5  100\n",
       "5        1      Nut    Red    12.0  London           6  100\n",
       "6        2     Bolt  Green    17.0   Paris           1  300\n",
       "7        2     Bolt  Green    17.0   Paris           2  400\n",
       "8        3    Screw   Blue    17.0    Oslo           2  200\n",
       "9        4    Screw    Red    14.0  London           2  200\n",
       "10       4    Screw    Red    14.0  London           4  300\n",
       "11       4    Screw    Red    14.0  London           5  400"
      ]
     },
     "execution_count": 40,
     "metadata": {},
     "output_type": "execute_result"
    }
   ],
   "source": [
    "pd.read_sql(  # only select specific columns after INNER JOIN\n",
    "    \"SELECT L.*, R.SupplierID, R.Qty \"\n",
    "    \"FROM Parts AS L INNER JOIN SupplierParts AS R ON L.PartID = R.PartID\", db\n",
    ")"
   ]
  },
  {
   "cell_type": "code",
   "execution_count": 41,
   "metadata": {
    "collapsed": false
   },
   "outputs": [
    {
     "data": {
      "text/html": [
       "<div>\n",
       "<table border=\"1\" class=\"dataframe\">\n",
       "  <thead>\n",
       "    <tr style=\"text-align: right;\">\n",
       "      <th></th>\n",
       "      <th>PartID</th>\n",
       "      <th>PartName</th>\n",
       "      <th>Color</th>\n",
       "      <th>Weight</th>\n",
       "      <th>City</th>\n",
       "      <th>SupplierID</th>\n",
       "      <th>Qty</th>\n",
       "    </tr>\n",
       "  </thead>\n",
       "  <tbody>\n",
       "    <tr>\n",
       "      <th>0</th>\n",
       "      <td>1</td>\n",
       "      <td>Nut</td>\n",
       "      <td>Red</td>\n",
       "      <td>12.0</td>\n",
       "      <td>London</td>\n",
       "      <td>1.0</td>\n",
       "      <td>300.0</td>\n",
       "    </tr>\n",
       "    <tr>\n",
       "      <th>1</th>\n",
       "      <td>1</td>\n",
       "      <td>Nut</td>\n",
       "      <td>Red</td>\n",
       "      <td>12.0</td>\n",
       "      <td>London</td>\n",
       "      <td>2.0</td>\n",
       "      <td>200.0</td>\n",
       "    </tr>\n",
       "    <tr>\n",
       "      <th>2</th>\n",
       "      <td>1</td>\n",
       "      <td>Nut</td>\n",
       "      <td>Red</td>\n",
       "      <td>12.0</td>\n",
       "      <td>London</td>\n",
       "      <td>3.0</td>\n",
       "      <td>400.0</td>\n",
       "    </tr>\n",
       "    <tr>\n",
       "      <th>3</th>\n",
       "      <td>1</td>\n",
       "      <td>Nut</td>\n",
       "      <td>Red</td>\n",
       "      <td>12.0</td>\n",
       "      <td>London</td>\n",
       "      <td>4.0</td>\n",
       "      <td>200.0</td>\n",
       "    </tr>\n",
       "    <tr>\n",
       "      <th>4</th>\n",
       "      <td>1</td>\n",
       "      <td>Nut</td>\n",
       "      <td>Red</td>\n",
       "      <td>12.0</td>\n",
       "      <td>London</td>\n",
       "      <td>5.0</td>\n",
       "      <td>100.0</td>\n",
       "    </tr>\n",
       "    <tr>\n",
       "      <th>5</th>\n",
       "      <td>1</td>\n",
       "      <td>Nut</td>\n",
       "      <td>Red</td>\n",
       "      <td>12.0</td>\n",
       "      <td>London</td>\n",
       "      <td>6.0</td>\n",
       "      <td>100.0</td>\n",
       "    </tr>\n",
       "    <tr>\n",
       "      <th>6</th>\n",
       "      <td>2</td>\n",
       "      <td>Bolt</td>\n",
       "      <td>Green</td>\n",
       "      <td>17.0</td>\n",
       "      <td>Paris</td>\n",
       "      <td>1.0</td>\n",
       "      <td>300.0</td>\n",
       "    </tr>\n",
       "    <tr>\n",
       "      <th>7</th>\n",
       "      <td>2</td>\n",
       "      <td>Bolt</td>\n",
       "      <td>Green</td>\n",
       "      <td>17.0</td>\n",
       "      <td>Paris</td>\n",
       "      <td>2.0</td>\n",
       "      <td>400.0</td>\n",
       "    </tr>\n",
       "    <tr>\n",
       "      <th>8</th>\n",
       "      <td>3</td>\n",
       "      <td>Screw</td>\n",
       "      <td>Blue</td>\n",
       "      <td>17.0</td>\n",
       "      <td>Oslo</td>\n",
       "      <td>2.0</td>\n",
       "      <td>200.0</td>\n",
       "    </tr>\n",
       "    <tr>\n",
       "      <th>9</th>\n",
       "      <td>4</td>\n",
       "      <td>Screw</td>\n",
       "      <td>Red</td>\n",
       "      <td>14.0</td>\n",
       "      <td>London</td>\n",
       "      <td>2.0</td>\n",
       "      <td>200.0</td>\n",
       "    </tr>\n",
       "    <tr>\n",
       "      <th>10</th>\n",
       "      <td>4</td>\n",
       "      <td>Screw</td>\n",
       "      <td>Red</td>\n",
       "      <td>14.0</td>\n",
       "      <td>London</td>\n",
       "      <td>4.0</td>\n",
       "      <td>300.0</td>\n",
       "    </tr>\n",
       "    <tr>\n",
       "      <th>11</th>\n",
       "      <td>4</td>\n",
       "      <td>Screw</td>\n",
       "      <td>Red</td>\n",
       "      <td>14.0</td>\n",
       "      <td>London</td>\n",
       "      <td>5.0</td>\n",
       "      <td>400.0</td>\n",
       "    </tr>\n",
       "    <tr>\n",
       "      <th>12</th>\n",
       "      <td>5</td>\n",
       "      <td>Cam</td>\n",
       "      <td>Blue</td>\n",
       "      <td>12.0</td>\n",
       "      <td>Paris</td>\n",
       "      <td>NaN</td>\n",
       "      <td>NaN</td>\n",
       "    </tr>\n",
       "    <tr>\n",
       "      <th>13</th>\n",
       "      <td>6</td>\n",
       "      <td>Cog</td>\n",
       "      <td>Red</td>\n",
       "      <td>19.0</td>\n",
       "      <td>London</td>\n",
       "      <td>NaN</td>\n",
       "      <td>NaN</td>\n",
       "    </tr>\n",
       "  </tbody>\n",
       "</table>\n",
       "</div>"
      ],
      "text/plain": [
       "    PartID PartName  Color  Weight    City  SupplierID    Qty\n",
       "0        1      Nut    Red    12.0  London         1.0  300.0\n",
       "1        1      Nut    Red    12.0  London         2.0  200.0\n",
       "2        1      Nut    Red    12.0  London         3.0  400.0\n",
       "3        1      Nut    Red    12.0  London         4.0  200.0\n",
       "4        1      Nut    Red    12.0  London         5.0  100.0\n",
       "5        1      Nut    Red    12.0  London         6.0  100.0\n",
       "6        2     Bolt  Green    17.0   Paris         1.0  300.0\n",
       "7        2     Bolt  Green    17.0   Paris         2.0  400.0\n",
       "8        3    Screw   Blue    17.0    Oslo         2.0  200.0\n",
       "9        4    Screw    Red    14.0  London         2.0  200.0\n",
       "10       4    Screw    Red    14.0  London         4.0  300.0\n",
       "11       4    Screw    Red    14.0  London         5.0  400.0\n",
       "12       5      Cam   Blue    12.0   Paris         NaN    NaN\n",
       "13       6      Cog    Red    19.0  London         NaN    NaN"
      ]
     },
     "execution_count": 41,
     "metadata": {},
     "output_type": "execute_result"
    }
   ],
   "source": [
    "pd.read_sql(  # only select specific columns after LEFT JOIN  (this will keep all the results in the left table regardless of what's in the right table)\n",
    "    \"SELECT L.*, R.SupplierID, R.Qty \"\n",
    "    \"FROM Parts AS L LEFT JOIN SupplierParts AS R ON L.PartID = R.PartID\", db\n",
    ")"
   ]
  },
  {
   "cell_type": "markdown",
   "metadata": {},
   "source": [
    "### Database Operations: CRUD\n",
    "\n",
    "So far we've only learned 1/4 of the basic operations most databases support. They are:\n",
    "\n",
    "* Create - `CREATE`\n",
    "* Read - `SELECT`\n",
    "* Update - `UPDATE`\n",
    "* Delete - `DROP`\n",
    "\n",
    "For a data analysis, you'll usually only need to read data. The commands discussed below are most useful if you need to create or add data to database."
   ]
  },
  {
   "cell_type": "code",
   "execution_count": 14,
   "metadata": {
    "collapsed": false
   },
   "outputs": [
    {
     "data": {
      "text/plain": [
       "<sqlite3.Cursor at 0x7f9bbd442340>"
      ]
     },
     "execution_count": 14,
     "metadata": {},
     "output_type": "execute_result"
    }
   ],
   "source": [
    "# Create a new table based on data already in the database.\n",
    "# Use the connection rather than Pandas, since no table is returned.\n",
    "db.execute(\"CREATE TABLE NewTable AS SELECT * FROM Parts WHERE Weight > 14\")"
   ]
  },
  {
   "cell_type": "code",
   "execution_count": 15,
   "metadata": {
    "collapsed": false
   },
   "outputs": [
    {
     "data": {
      "text/html": [
       "<div>\n",
       "<table border=\"1\" class=\"dataframe\">\n",
       "  <thead>\n",
       "    <tr style=\"text-align: right;\">\n",
       "      <th></th>\n",
       "      <th>PartID</th>\n",
       "      <th>PartName</th>\n",
       "      <th>Color</th>\n",
       "      <th>Weight</th>\n",
       "      <th>City</th>\n",
       "    </tr>\n",
       "  </thead>\n",
       "  <tbody>\n",
       "    <tr>\n",
       "      <th>0</th>\n",
       "      <td>2</td>\n",
       "      <td>Bolt</td>\n",
       "      <td>Green</td>\n",
       "      <td>17.0</td>\n",
       "      <td>Paris</td>\n",
       "    </tr>\n",
       "    <tr>\n",
       "      <th>1</th>\n",
       "      <td>3</td>\n",
       "      <td>Screw</td>\n",
       "      <td>Blue</td>\n",
       "      <td>17.0</td>\n",
       "      <td>Oslo</td>\n",
       "    </tr>\n",
       "    <tr>\n",
       "      <th>2</th>\n",
       "      <td>6</td>\n",
       "      <td>Cog</td>\n",
       "      <td>Red</td>\n",
       "      <td>19.0</td>\n",
       "      <td>London</td>\n",
       "    </tr>\n",
       "  </tbody>\n",
       "</table>\n",
       "</div>"
      ],
      "text/plain": [
       "   PartID PartName  Color  Weight    City\n",
       "0       2     Bolt  Green    17.0   Paris\n",
       "1       3    Screw   Blue    17.0    Oslo\n",
       "2       6      Cog    Red    19.0  London"
      ]
     },
     "execution_count": 15,
     "metadata": {},
     "output_type": "execute_result"
    }
   ],
   "source": [
    "pd.read_sql(\"SELECT * FROM NewTable\", db)"
   ]
  },
  {
   "cell_type": "code",
   "execution_count": 16,
   "metadata": {
    "collapsed": false
   },
   "outputs": [
    {
     "data": {
      "text/plain": [
       "<sqlite3.Cursor at 0x7f9bbd442490>"
      ]
     },
     "execution_count": 16,
     "metadata": {},
     "output_type": "execute_result"
    }
   ],
   "source": [
    "# Delete the table we just created. Be careful--there is no undo!\n",
    "db.execute(\"DROP TABLE NewTable\")"
   ]
  },
  {
   "cell_type": "code",
   "execution_count": null,
   "metadata": {
    "collapsed": false
   },
   "outputs": [],
   "source": [
    "# Create a new table based on external data.\n",
    "df = pd.read_csv(\"fresh.csv\")\n",
    "\n",
    "df.to_sql(\"Fresh\", db) # create a new table named \"fresh\" in db database"
   ]
  },
  {
   "cell_type": "markdown",
   "metadata": {},
   "source": [
    "You can create an entirely new database by connecting to the name you want the database to have. For instance:"
   ]
  },
  {
   "cell_type": "code",
   "execution_count": null,
   "metadata": {
    "collapsed": true
   },
   "outputs": [],
   "source": [
    "new_db = sql.connect(\"my_new_database.sqlite\")"
   ]
  }
 ],
 "metadata": {
  "anaconda-cloud": {},
  "kernelspec": {
   "display_name": "Python [default]",
   "language": "python",
   "name": "python3"
  },
  "language_info": {
   "codemirror_mode": {
    "name": "ipython",
    "version": 3
   },
   "file_extension": ".py",
   "mimetype": "text/x-python",
   "name": "python",
   "nbconvert_exporter": "python",
   "pygments_lexer": "ipython3",
   "version": "3.5.2"
  }
 },
 "nbformat": 4,
 "nbformat_minor": 2
}

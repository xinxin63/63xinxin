{
 "cells": [
  {
   "cell_type": "markdown",
   "metadata": {},
   "source": [
    "# kNN classification of text documents"
   ]
  },
  {
   "cell_type": "code",
   "execution_count": 1,
   "metadata": {
    "collapsed": false
   },
   "outputs": [],
   "source": [
    "import numpy as np\n",
    "import nltk\n",
    "from nltk import corpus\n",
    "from nltk.stem.porter import PorterStemmer\n",
    "from sklearn.feature_extraction.text import TfidfVectorizer\n",
    "from sklearn.neighbors import NearestNeighbors\n",
    "from matplotlib import pyplot as plt\n",
    "plt.style.use('ggplot')\n",
    "%matplotlib inline"
   ]
  },
  {
   "cell_type": "code",
   "execution_count": 16,
   "metadata": {
    "collapsed": false
   },
   "outputs": [],
   "source": [
    "#To access the reuters corpus you will need to run this and download it\n",
    "#nltk.download()"
   ]
  },
  {
   "cell_type": "markdown",
   "metadata": {},
   "source": [
    "Let's define the lemmatization process, which in this case will just be tokenization and stemming.  I conclude by constructing the lemmatize function with takes a text document and outputs it as a list of lemmas."
   ]
  },
  {
   "cell_type": "code",
   "execution_count": 17,
   "metadata": {
    "collapsed": false
   },
   "outputs": [
    {
     "name": "stdout",
     "output_type": "stream",
     "text": [
      "commerci commerci\n"
     ]
    }
   ],
   "source": [
    "fids = corpus.reuters.fileids()\n",
    "\n",
    "stemmer = PorterStemmer().stem\n",
    "print stemmer(\"commercially\"), stemmer(\"commercial\")\n",
    "\n",
    "tokenize = nltk.word_tokenize\n",
    "\n",
    "def stem(tokens,stemmer = PorterStemmer().stem):\n",
    "    return [stemmer(w.lower()) for w in tokens] \n",
    "\n",
    "def lemmatize(text):\n",
    "    \"\"\"\n",
    "    Extract simple lemmas based on tokenization and stemming\n",
    "    Input: string\n",
    "    Output: list of strings (lemmata)\n",
    "    \"\"\"\n",
    "    return stem(tokenize(text))"
   ]
  },
  {
   "cell_type": "markdown",
   "metadata": {},
   "source": [
    "Let's look at some elements of our corpus.  The following is a short article about export, and in the next line you can see that it is in the 'trade' category."
   ]
  },
  {
   "cell_type": "code",
   "execution_count": 18,
   "metadata": {
    "collapsed": false
   },
   "outputs": [
    {
     "data": {
      "text/plain": [
       "u'ASIAN EXPORTERS FEAR DAMAGE FROM U.S.-JAPAN RIFT\\n  Mounting trade friction between the\\n  U.S. And Japan has raised fears among many of Asia\\'s exporting\\n  nations that the row could inflict far-reaching economic\\n  damage, businessmen and officials said.\\n      They told Reuter correspondents in Asian capitals a U.S.\\n  Move against Japan might boost protectionist sentiment in the\\n  U.S. And lead to curbs on American imports of their products.\\n      But some exporters said that while the conflict would hurt\\n  them in the long-run, in the short-term Tokyo\\'s loss might be\\n  their gain.\\n      The U.S. Has said it will impose 300 mln dlrs of tariffs on\\n  imports of Japanese electronics goods on April 17, in\\n  retaliation for Japan\\'s alleged failure to stick to a pact not\\n  to sell semiconductors on world markets at below cost.\\n      Unofficial Japanese estimates put the impact of the tariffs\\n  at 10 billion dlrs and spokesmen for major electronics firms\\n  said they would virtually halt exports of products hit by the\\n  new taxes.\\n      \"We wouldn\\'t be able to do business,\" said a spokesman for\\n  leading Japanese electronics firm Matsushita Electric\\n  Industrial Co Ltd &lt;MC.T>.\\n      \"If the tariffs remain in place for any length of time\\n  beyond a few months it will mean the complete erosion of\\n  exports (of goods subject to tariffs) to the U.S.,\" said Tom\\n  Murtha, a stock analyst at the Tokyo office of broker &lt;James\\n  Capel and Co>.\\n      In Taiwan, businessmen and officials are also worried.\\n      \"We are aware of the seriousness of the U.S. Threat against\\n  Japan because it serves as a warning to us,\" said a senior\\n  Taiwanese trade official who asked not to be named.\\n      Taiwan had a trade trade surplus of 15.6 billion dlrs last\\n  year, 95 pct of it with the U.S.\\n      The surplus helped swell Taiwan\\'s foreign exchange reserves\\n  to 53 billion dlrs, among the world\\'s largest.\\n      \"We must quickly open our markets, remove trade barriers and\\n  cut import tariffs to allow imports of U.S. Products, if we\\n  want to defuse problems from possible U.S. Retaliation,\" said\\n  Paul Sheen, chairman of textile exporters &lt;Taiwan Safe Group>.\\n      A senior official of South Korea\\'s trade promotion\\n  association said the trade dispute between the U.S. And Japan\\n  might also lead to pressure on South Korea, whose chief exports\\n  are similar to those of Japan.\\n      Last year South Korea had a trade surplus of 7.1 billion\\n  dlrs with the U.S., Up from 4.9 billion dlrs in 1985.\\n      In Malaysia, trade officers and businessmen said tough\\n  curbs against Japan might allow hard-hit producers of\\n  semiconductors in third countries to expand their sales to the\\n  U.S.\\n      In Hong Kong, where newspapers have alleged Japan has been\\n  selling below-cost semiconductors, some electronics\\n  manufacturers share that view. But other businessmen said such\\n  a short-term commercial advantage would be outweighed by\\n  further U.S. Pressure to block imports.\\n      \"That is a very short-term view,\" said Lawrence Mills,\\n  director-general of the Federation of Hong Kong Industry.\\n      \"If the whole purpose is to prevent imports, one day it will\\n  be extended to other sources. Much more serious for Hong Kong\\n  is the disadvantage of action restraining trade,\" he said.\\n      The U.S. Last year was Hong Kong\\'s biggest export market,\\n  accounting for over 30 pct of domestically produced exports.\\n      The Australian government is awaiting the outcome of trade\\n  talks between the U.S. And Japan with interest and concern,\\n  Industry Minister John Button said in Canberra last Friday.\\n      \"This kind of deterioration in trade relations between two\\n  countries which are major trading partners of ours is a very\\n  serious matter,\" Button said.\\n      He said Australia\\'s concerns centred on coal and beef,\\n  Australia\\'s two largest exports to Japan and also significant\\n  U.S. Exports to that country.\\n      Meanwhile U.S.-Japanese diplomatic manoeuvres to solve the\\n  trade stand-off continue.\\n      Japan\\'s ruling Liberal Democratic Party yesterday outlined\\n  a package of economic measures to boost the Japanese economy.\\n      The measures proposed include a large supplementary budget\\n  and record public works spending in the first half of the\\n  financial year.\\n      They also call for stepped-up spending as an emergency\\n  measure to stimulate the economy despite Prime Minister\\n  Yasuhiro Nakasone\\'s avowed fiscal reform program.\\n      Deputy U.S. Trade Representative Michael Smith and Makoto\\n  Kuroda, Japan\\'s deputy minister of International Trade and\\n  Industry (MITI), are due to meet in Washington this week in an\\n  effort to end the dispute.\\n  \\n\\n'"
      ]
     },
     "execution_count": 18,
     "metadata": {},
     "output_type": "execute_result"
    }
   ],
   "source": [
    "corpus.reuters.raw(fids[0])"
   ]
  },
  {
   "cell_type": "code",
   "execution_count": 19,
   "metadata": {
    "collapsed": false
   },
   "outputs": [
    {
     "data": {
      "text/plain": [
       "[u'trade']"
      ]
     },
     "execution_count": 19,
     "metadata": {},
     "output_type": "execute_result"
    }
   ],
   "source": [
    "corpus.reuters.categories(fids[0])"
   ]
  },
  {
   "cell_type": "code",
   "execution_count": 21,
   "metadata": {
    "collapsed": true
   },
   "outputs": [],
   "source": [
    "reuters = [corpus.reuters.raw(f) for f in fids]"
   ]
  },
  {
   "cell_type": "markdown",
   "metadata": {},
   "source": [
    "Quite often you need ways of converting from document ids to integer ids, lemmas to integer ids, and from the lemmas to the documents containing them.  Let's construct the relevant dictionaries."
   ]
  },
  {
   "cell_type": "code",
   "execution_count": 22,
   "metadata": {
    "collapsed": false
   },
   "outputs": [],
   "source": [
    "textd = {} #dictionary from lemmata to document ids containing that lemma\n",
    "for fid in fids:\n",
    "    t = corpus.reuters.raw(fid)\n",
    "    s = set(lemmatize(t))\n",
    "    try:\n",
    "        toks = toks | s\n",
    "    except NameError:\n",
    "        toks = s\n",
    "    for tok in s:\n",
    "        try:\n",
    "            textd[tok].append(fid)\n",
    "        except KeyError:\n",
    "            textd[tok] = [fid]\n",
    "\n",
    "docids = {} #dictionary of the document id to an integer id for the document\n",
    "N = len(fids)\n",
    "for i in xrange(N):\n",
    "    docids[fids[i]] = i\n",
    "    \n",
    "tokids = {} #dictionary of lemma to integer id for the lemma\n",
    "tok_list = list(toks)\n",
    "m = len(tok_list)\n",
    "for j in xrange(m):\n",
    "    tokids[tok_list[j]] = j"
   ]
  },
  {
   "cell_type": "markdown",
   "metadata": {
    "collapsed": false
   },
   "source": [
    "Let's construct the smoothed idf transform.  Let $N$ be the number of documents, and $n(lemma)$ be the number of documents containing the lemma.\n",
    "$$idf(lemma) = log(N / (1 + n(lemma)))$$"
   ]
  },
  {
   "cell_type": "code",
   "execution_count": 24,
   "metadata": {
    "collapsed": false
   },
   "outputs": [],
   "source": [
    "numd = {key:len(set(val)) for key,val in textd.items()}"
   ]
  },
  {
   "cell_type": "code",
   "execution_count": 25,
   "metadata": {
    "collapsed": false
   },
   "outputs": [],
   "source": [
    "logN = np.log(len(fids))"
   ]
  },
  {
   "cell_type": "code",
   "execution_count": 26,
   "metadata": {
    "collapsed": false
   },
   "outputs": [],
   "source": [
    "idf_smooth = {key:logN - np.log(1 + val) for key, val in numd.items() if val > 1}"
   ]
  },
  {
   "cell_type": "code",
   "execution_count": 27,
   "metadata": {
    "collapsed": false
   },
   "outputs": [
    {
     "data": {
      "text/plain": [
       "{u'144.04': 7.8998953231397291,\n",
       " u'petrolan': 8.1875773955915108,\n",
       " u'1,800': 7.3402795352043064,\n",
       " u'yellow': 6.7212403267980836,\n",
       " u'degussa': 7.8998953231397291,\n",
       " u'four': 2.6634533603097799,\n",
       " u'travaux': 8.1875773955915108,\n",
       " u'suzann': 8.1875773955915108,\n",
       " u'prune': 8.1875773955915108,\n",
       " u'undevelop': 7.0889651069233999,\n",
       " u'38p': 8.1875773955915108,\n",
       " u'midafternoon': 7.8998953231397291,\n",
       " u'5,010,000': 7.8998953231397291,\n",
       " u'authoris': 5.6226280381299736,\n",
       " u'reshuffl': 7.8998953231397291,\n",
       " u're-emerg': 7.6767517718255194,\n",
       " u'mid-week': 8.1875773955915108,\n",
       " u'161.5': 7.8998953231397291,\n",
       " u'161.7': 7.8998953231397291,\n",
       " u'161.6': 8.1875773955915108,\n",
       " u'153.2': 8.1875773955915108,\n",
       " u'153.3': 7.3402795352043064,\n",
       " u'215.6': 8.1875773955915108,\n",
       " u'u.s.-mad': 7.6767517718255194,\n",
       " u'hermann': 7.4944302150315654,\n",
       " u'lord': 6.5136009620198383,\n",
       " u'11p': 7.8998953231397291,\n",
       " u'757.24': 8.1875773955915108,\n",
       " u'917.4': 8.1875773955915108,\n",
       " u'45.9': 7.8998953231397291,\n",
       " u'45.8': 7.2067481425797837,\n",
       " u'rational': 7.6767517718255194,\n",
       " u'45.3': 7.3402795352043064,\n",
       " u'45.2': 6.8882944114612492,\n",
       " u'45.1': 7.4944302150315654,\n",
       " u\"d'alen\": 8.1875773955915108,\n",
       " u'45.7': 7.2067481425797837,\n",
       " u'45.6': 6.8882944114612492,\n",
       " u'45.5': 6.80128303447162,\n",
       " u'45.4': 7.6767517718255194,\n",
       " u'197.5': 8.1875773955915108,\n",
       " u'honeywel': 7.3402795352043064,\n",
       " u'sunflowerse': 6.5136009620198383,\n",
       " u'1,770': 8.1875773955915108,\n",
       " u'kaws.t': 8.1875773955915108,\n",
       " u'fur': 7.4944302150315654,\n",
       " u'147.71': 8.1875773955915108,\n",
       " u'del.': 7.8998953231397291,\n",
       " u'127.8': 8.1875773955915108,\n",
       " u'17,100,000': 7.8998953231397291,\n",
       " u'disturb': 6.80128303447162,\n",
       " u'1,068,000': 7.8998953231397291,\n",
       " u'broiler': 8.1875773955915108,\n",
       " u'secondli': 8.1875773955915108,\n",
       " u'showcas': 8.1875773955915108,\n",
       " u'17.30': 7.4944302150315654,\n",
       " u'auditor': 6.1951472309013038,\n",
       " u'wednesday': 4.651460696029984,\n",
       " u'17.35': 7.2067481425797837,\n",
       " u'tcbi': 8.1875773955915108,\n",
       " u'2,381,000': 8.1875773955915108,\n",
       " u'oxid': 7.0889651069233999,\n",
       " u'ambrit': 7.4944302150315654,\n",
       " u'76,888': 8.1875773955915108,\n",
       " u'south-west': 8.1875773955915108,\n",
       " u'1,741,437': 8.1875773955915108,\n",
       " u'politoff': 8.1875773955915108,\n",
       " u'charter': 5.1753158200863085,\n",
       " u'duffour': 8.1875773955915108,\n",
       " u'santand': 8.1875773955915108,\n",
       " u'miller': 6.0673138593914189,\n",
       " u'seper': 7.8998953231397291,\n",
       " u'millet': 7.8998953231397291,\n",
       " u'270': 6.4529763402034037,\n",
       " u'271': 8.1875773955915108,\n",
       " u'272': 7.8998953231397291,\n",
       " u'273': 7.6767517718255194,\n",
       " u'274': 7.4944302150315654,\n",
       " u'275': 6.5136009620198383,\n",
       " u'276': 7.4944302150315654,\n",
       " u'277': 7.6767517718255194,\n",
       " u'278': 8.1875773955915108,\n",
       " u'279': 7.8998953231397291,\n",
       " u'melvin': 7.2067481425797837,\n",
       " u'3.40': 7.0889651069233999,\n",
       " u'dialogu': 6.983604591265574,\n",
       " u'captain': 7.6767517718255194,\n",
       " u'one-off': 8.1875773955915108,\n",
       " u'gsm-102': 7.2067481425797837,\n",
       " u'gsm-103': 7.6767517718255194,\n",
       " u'13-member': 7.6767517718255194,\n",
       " u'moniterm': 8.1875773955915108,\n",
       " u'pct-owner': 8.1875773955915108,\n",
       " u'nvo.co': 8.1875773955915108,\n",
       " u'9,214,000': 7.8998953231397291,\n",
       " u'390,179': 8.1875773955915108,\n",
       " u'5,695,000': 8.1875773955915108,\n",
       " u'herebi': 8.1875773955915108,\n",
       " u'suleiman': 7.8998953231397291,\n",
       " u'201,660': 7.8998953231397291,\n",
       " u'nawg': 7.8998953231397291,\n",
       " u'intellectu': 7.0889651069233999,\n",
       " u'avert': 6.0280931462381382,\n",
       " u'non-execut': 8.1875773955915108,\n",
       " u'ophthalm': 8.1875773955915108,\n",
       " u'splinter': 7.4944302150315654,\n",
       " u'here': 3.5116381387152114,\n",
       " u'herd': 6.983604591265574,\n",
       " u'amswa': 8.1875773955915108,\n",
       " u'65.75': 8.1875773955915108,\n",
       " u'china': 4.2172854820393884,\n",
       " u'in-yong': 7.8998953231397291,\n",
       " u'chino': 8.1875773955915108,\n",
       " u'dorn': 8.1875773955915108,\n",
       " u'culp': 8.1875773955915108,\n",
       " u'3,800': 8.1875773955915108,\n",
       " u'299,838': 8.1875773955915108,\n",
       " u'oct/nov': 8.1875773955915108,\n",
       " u'deterior': 5.2788564990271487,\n",
       " u'aug': 5.8522024797744736,\n",
       " u'sputnik': 8.1875773955915108,\n",
       " u'militari': 4.9167418317925984,\n",
       " u'k': 6.5136009620198383,\n",
       " u'spotti': 7.8998953231397291,\n",
       " u'deregul': 5.675271771615396,\n",
       " u'3,770,341': 7.8998953231397291,\n",
       " u'pastur': 7.8998953231397291,\n",
       " u'ignasio': 8.1875773955915108,\n",
       " u'nil': 4.1328980897618406,\n",
       " u'kidd': 8.1875773955915108,\n",
       " u'58,000': 7.2067481425797837,\n",
       " u'mitsi': 7.8998953231397291,\n",
       " u\"i'm\": 8.1875773955915108,\n",
       " u'abu': 7.3402795352043064,\n",
       " u'controversi': 5.5249895685660579,\n",
       " u'j.c.': 7.2067481425797837,\n",
       " u'golden': 6.0280931462381382,\n",
       " u'norsk': 6.8882944114612492,\n",
       " u'196,000': 7.6767517718255194,\n",
       " u'47.0': 7.6767517718255194,\n",
       " u'68.26': 7.8998953231397291,\n",
       " u'885,000': 8.1875773955915108,\n",
       " u'kaneb': 7.4944302150315654,\n",
       " u'argo': 8.1875773955915108,\n",
       " u'txc': 7.8998953231397291,\n",
       " u'45': 4.1100399516857911,\n",
       " u'txa': 8.1875773955915108,\n",
       " u'1,220,000': 8.1875773955915108,\n",
       " u'alcasa': 7.8998953231397291,\n",
       " u'5.1p': 8.1875773955915108,\n",
       " u'472,000': 7.8998953231397291,\n",
       " u'sterl': 4.6133608497977141,\n",
       " u'stern': 7.3402795352043064,\n",
       " u'9p': 7.4944302150315654,\n",
       " u'txu': 8.1875773955915108,\n",
       " u'unit': 2.0341357324068055,\n",
       " u'233,000': 8.1875773955915108,\n",
       " u'dna': 7.8998953231397291,\n",
       " u'spoke': 6.5136009620198383,\n",
       " u'leutwil': 8.1875773955915108,\n",
       " u'templeton': 8.1875773955915108,\n",
       " u'dni': 8.1875773955915108,\n",
       " u'dutch-bas': 8.1875773955915108,\n",
       " u'6,650,000': 8.1875773955915108,\n",
       " u'music': 7.4944302150315654,\n",
       " u'telegraph': 6.3417507050931796,\n",
       " u'passport': 8.1875773955915108,\n",
       " u'3,166,000': 8.1875773955915108,\n",
       " u'strike': 4.330362626658359,\n",
       " u'care': 4.6910698341250301,\n",
       " u\"'s\": 1.026472723238097,\n",
       " u'until': 3.353944496811609,\n",
       " u'13.30': 8.1875773955915108,\n",
       " u'18.10': 7.2067481425797837,\n",
       " u'u.s.-west': 7.8998953231397291,\n",
       " u'relax': 6.1506954683304702,\n",
       " u'43': 4.7323127926590791,\n",
       " u'relat': 3.7064598582733979,\n",
       " u'notic': 5.5249895685660579,\n",
       " u'hurt': 4.7644011072105794,\n",
       " u'5.12': 7.2067481425797837,\n",
       " u'98': 5.8522024797744736,\n",
       " u'5.10': 7.4944302150315654,\n",
       " u'exce': 6.8882944114612492,\n",
       " u'5.16': 7.8998953231397291,\n",
       " u'5.17': 7.6767517718255194,\n",
       " u'5.14': 7.8998953231397291,\n",
       " u'5.15': 7.6767517718255194,\n",
       " u'91': 5.5973102301456841,\n",
       " u'exco': 8.1875773955915108,\n",
       " u'5.18': 8.1875773955915108,\n",
       " u'5.19': 7.8998953231397291,\n",
       " u'95': 4.8435384277693032,\n",
       " u'94': 5.5485200659762519,\n",
       " u'97': 5.4360420825495614,\n",
       " u'96': 5.4795271944893003,\n",
       " u'accid': 6.1506954683304702,\n",
       " u'murchison': 8.1875773955915108,\n",
       " u'1,415,000': 8.1875773955915108,\n",
       " u'kampala': 8.1875773955915108,\n",
       " u'240.9': 8.1875773955915108,\n",
       " u'generalis': 7.6767517718255194,\n",
       " u'sweeten': 6.1081358539116746,\n",
       " u'100.00': 7.6767517718255194,\n",
       " u'reed.l': 7.3402795352043064,\n",
       " u'locker': 8.1875773955915108,\n",
       " u'ofth': 8.1875773955915108,\n",
       " u'prawiro': 8.1875773955915108,\n",
       " u'sweeter': 8.1875773955915108,\n",
       " u'heng.o': 8.1875773955915108,\n",
       " u'unrevis': 8.1875773955915108,\n",
       " u'nppc': 7.2067481425797837,\n",
       " u'wise': 8.1875773955915108,\n",
       " u'wanb': 8.1875773955915108,\n",
       " u'665,800': 8.1875773955915108,\n",
       " u'wang': 6.5781394831574094,\n",
       " u'wane': 7.0889651069233999,\n",
       " u'unjust': 8.1875773955915108,\n",
       " u'household': 6.0673138593914189,\n",
       " u'7,012,000': 8.1875773955915108,\n",
       " u'infus': 6.8882944114612492,\n",
       " u'digit': 6.3417507050931796,\n",
       " u'cautiou': 5.7308416227702068,\n",
       " u'51.8': 7.8998953231397291,\n",
       " u'51.9': 6.8882944114612492,\n",
       " u'definit': 4.1386952074461671,\n",
       " u'caution': 5.5020000503413584,\n",
       " u'british': 3.7332300993380025,\n",
       " u'want': 3.3726866786213501,\n",
       " u'czm': 7.6767517718255194,\n",
       " u'51.0': 7.2067481425797837,\n",
       " u'51.1': 7.4944302150315654,\n",
       " u'51.2': 7.0889651069233999,\n",
       " u'51.3': 7.4944302150315654,\n",
       " u'51.4': 7.6767517718255194,\n",
       " u'51.5': 6.647132354644361,\n",
       " u'51.6': 7.0889651069233999,\n",
       " u'51.7': 7.3402795352043064,\n",
       " u'hog': 5.9903528182552908,\n",
       " u'hoc': 6.983604591265574,\n",
       " u'unpaid': 7.3402795352043064,\n",
       " u'hon': 7.3402795352043064,\n",
       " u'cypm': 7.8998953231397291,\n",
       " u'16-1/2': 8.1875773955915108,\n",
       " u'16-1/4': 7.8998953231397291,\n",
       " u'cutback': 6.2416672465361973,\n",
       " u'78,000': 7.3402795352043064,\n",
       " u'hov': 7.6767517718255194,\n",
       " u'how': 3.8880269827418674,\n",
       " u'hot': 6.5136009620198383,\n",
       " u'traver': 8.1875773955915108,\n",
       " u'77.9': 7.6767517718255194,\n",
       " u'saskatchewan': 7.2067481425797837,\n",
       " u'nazmi': 8.1875773955915108,\n",
       " u'place': 3.7255080532440923,\n",
       " u'77.6': 7.4944302150315654,\n",
       " u'77.7': 7.6767517718255194,\n",
       " u'77.0': 8.1875773955915108,\n",
       " u'77.1': 8.1875773955915108,\n",
       " u'77.2': 7.8998953231397291,\n",
       " u'501,000': 7.6767517718255194,\n",
       " u'mueller': 7.6767517718255194,\n",
       " u'45.0': 6.8882944114612492,\n",
       " u'mccl': 8.1875773955915108,\n",
       " u'343,000': 7.8998953231397291,\n",
       " u'pertain': 7.4944302150315654,\n",
       " u'swing': 5.9903528182552908,\n",
       " u'woodsid': 8.1875773955915108,\n",
       " u'260,500': 8.1875773955915108,\n",
       " u'6-mar-1987': 8.1875773955915108,\n",
       " u'wrong': 6.5781394831574094,\n",
       " u'barney': 5.884992302597464,\n",
       " u'roaster': 6.80128303447162,\n",
       " u'reassess': 7.2067481425797837,\n",
       " u'beauti': 7.3402795352043064,\n",
       " u'endang': 6.4529763402034037,\n",
       " u'oil/ga': 8.1875773955915108,\n",
       " u'14.17': 8.1875773955915108,\n",
       " u'1,115': 8.1875773955915108,\n",
       " u'30th': 7.8998953231397291,\n",
       " u'reshap': 7.3402795352043064,\n",
       " u'20-crown': 8.1875773955915108,\n",
       " u'829,000': 7.8998953231397291,\n",
       " u'sioux': 7.8998953231397291,\n",
       " u'singapor': 5.1590552992145282,\n",
       " u'warfar': 8.1875773955915108,\n",
       " u'revolt': 7.6767517718255194,\n",
       " u'revolv': 6.5781394831574094,\n",
       " u'imposs': 5.9539851740844156,\n",
       " u'dispar': 8.1875773955915108,\n",
       " u'4-7/8': 7.6767517718255194,\n",
       " u'finalis': 6.5136009620198383,\n",
       " u'upcm.o': 7.8998953231397291,\n",
       " u'heublein': 7.3402795352043064,\n",
       " u'ecusta': 8.1875773955915108,\n",
       " u'wing': 7.3402795352043064,\n",
       " u'wind': 5.8522024797744736,\n",
       " u'wine': 6.3958179263634554,\n",
       " u'origin': 4.0029859555216314,\n",
       " u'kidder': 6.2416672465361973,\n",
       " u'875': 7.8998953231397291,\n",
       " u'alon': 5.3349459656781928,\n",
       " u'telecom': 5.9188938542731453,\n",
       " u'shorten': 7.6767517718255194,\n",
       " u'govern': 2.4088936127621912,\n",
       " u'621': 8.1875773955915108,\n",
       " u'1-15': 7.6767517718255194,\n",
       " u'butan': 7.0889651069233999,\n",
       " u'foodstuff': 7.6767517718255194,\n",
       " u'1-10': 7.6767517718255194,\n",
       " u'1,598,000': 8.1875773955915108,\n",
       " u'790,000': 7.4944302150315654,\n",
       " u'u.s.-ussr': 6.8882944114612492,\n",
       " u'loctit': 8.1875773955915108,\n",
       " u'vari': 6.1081358539116746,\n",
       " u'wrought': 7.6767517718255194,\n",
       " u'fir': 7.8998953231397291,\n",
       " u'ex-dividend': 7.8998953231397291,\n",
       " u'digim': 8.1875773955915108,\n",
       " u'9,310,000': 8.1875773955915108,\n",
       " u'directli': 5.3349459656781928,\n",
       " u'fit': 5.5726176175553119,\n",
       " u'outcom': 5.4795271944893003,\n",
       " u'unforeseen': 7.8998953231397291,\n",
       " u'fix': 4.1445261277569596,\n",
       " u'xon.n': 7.8998953231397291,\n",
       " u'169,275': 8.1875773955915108,\n",
       " u'frsl': 7.8998953231397291,\n",
       " u'itali': 4.5499912358651242,\n",
       " u'hidden': 7.8998953231397291,\n",
       " u'fin': 6.983604591265574,\n",
       " u'fio': 7.6767517718255194,\n",
       " u'126.7': 7.6767517718255194,\n",
       " u'126.4': 7.8998953231397291,\n",
       " u'126.5': 8.1875773955915108,\n",
       " u'recours': 7.6767517718255194,\n",
       " u'corridor': 7.8998953231397291,\n",
       " u'126.0': 8.1875773955915108,\n",
       " u'126.1': 7.8998953231397291,\n",
       " u'proce': 4.5155050597939548,\n",
       " u'enrich': 7.4944302150315654,\n",
       " u'sovr': 8.1875773955915108,\n",
       " u'potlin': 8.1875773955915108,\n",
       " u'126.8': 7.6767517718255194,\n",
       " u'3,683,000': 8.1875773955915108,\n",
       " u'eschborn': 7.8998953231397291,\n",
       " u'all-tim': 7.6767517718255194,\n",
       " u'stoltenberg': 5.70267074580351,\n",
       " u'803,085': 8.1875773955915108,\n",
       " u'interrupt': 6.5136009620198383,\n",
       " u'pcgg': 7.8998953231397291,\n",
       " u'14.40': 8.1875773955915108,\n",
       " u'yourself': 8.1875773955915108,\n",
       " u'intla.o': 8.1875773955915108,\n",
       " u'silver': 5.1753158200863085,\n",
       " u'rumour': 5.9188938542731453,\n",
       " u'acmb': 8.1875773955915108,\n",
       " u'130,000': 6.3417507050931796,\n",
       " u'overvalu': 6.8882944114612492,\n",
       " u'420.50': 8.1875773955915108,\n",
       " u'0.80': 8.1875773955915108,\n",
       " u'cftc': 7.0889651069233999,\n",
       " u'accommod': 6.647132354644361,\n",
       " u'lockout': 7.0889651069233999,\n",
       " u'114.8': 7.8998953231397291,\n",
       " u'arrow': 8.1875773955915108,\n",
       " u'non-produc': 8.1875773955915108,\n",
       " u'114.5': 7.8998953231397291,\n",
       " u'volcano': 8.1875773955915108,\n",
       " u'114.7': 8.1875773955915108,\n",
       " u'114.6': 7.3402795352043064,\n",
       " u'114.1': 8.1875773955915108,\n",
       " u'687,000': 7.3402795352043064,\n",
       " u'114.3': 8.1875773955915108,\n",
       " u\"employers'\": 7.3402795352043064,\n",
       " u'healthcar': 6.647132354644361,\n",
       " u\"we'r\": 8.1875773955915108,\n",
       " u'petroli': 8.1875773955915108,\n",
       " u'vamga': 8.1875773955915108,\n",
       " u'wfsl': 8.1875773955915108,\n",
       " u'concord': 7.4944302150315654,\n",
       " u'resum': 4.8202815656050362,\n",
       " u'250,000': 5.675271771615396,\n",
       " u'allan': 6.7212403267980836,\n",
       " u'upc': 7.8998953231397291,\n",
       " u'393': 7.3402795352043064,\n",
       " u'392': 7.8998953231397291,\n",
       " u'391': 7.3402795352043064,\n",
       " u'390': 7.0889651069233999,\n",
       " u'735.0': 8.1875773955915108,\n",
       " u'396': 8.1875773955915108,\n",
       " u'395': 7.8998953231397291,\n",
       " u'mdr': 7.8998953231397291,\n",
       " u'ingot': 6.80128303447162,\n",
       " u'398': 8.1875773955915108,\n",
       " u'commiss': 2.9780912427500894,\n",
       " u'xp': 8.1875773955915108,\n",
       " u'camco': 7.6767517718255194,\n",
       " u'arlan': 8.1875773955915108,\n",
       " u'120,000': 6.1951472309013038,\n",
       " u'drove': 7.3402795352043064,\n",
       " u'heavy-duti': 8.1875773955915108,\n",
       " u'won': 5.3349459656781928,\n",
       " u'2300': 7.8998953231397291,\n",
       " u'dst': 8.1875773955915108,\n",
       " u'dsp': 8.1875773955915108,\n",
       " u'mason': 7.0889651069233999,\n",
       " u'semiconductor': 4.7012222055890476,\n",
       " u'dso': 7.8998953231397291,\n",
       " u'sml': 8.1875773955915108,\n",
       " u'macroeconom': 7.6767517718255194,\n",
       " u'adapt': 6.5136009620198383,\n",
       " u'rb': 8.1875773955915108,\n",
       " u'dlrs/barrel': 7.8998953231397291,\n",
       " u'smg': 8.1875773955915108,\n",
       " u'strategist': 8.1875773955915108,\n",
       " u'5,112,100': 8.1875773955915108,\n",
       " u'rj': 8.1875773955915108,\n",
       " u'1,115,000': 8.1875773955915108,\n",
       " u'murilo': 8.1875773955915108,\n",
       " u'forvaltn': 8.1875773955915108,\n",
       " u'abbott': 7.8998953231397291,\n",
       " u'fremantl': 8.1875773955915108,\n",
       " u'md.': 8.1875773955915108,\n",
       " u'navig': 6.2416672465361973,\n",
       " u'1,906,000': 8.1875773955915108,\n",
       " u'midpoint': 7.8998953231397291,\n",
       " u'strata': 7.6767517718255194,\n",
       " u'omiss': 7.6767517718255194,\n",
       " u'renegoti': 6.2904574107056295,\n",
       " u'amsouth': 8.1875773955915108,\n",
       " u'289,649': 8.1875773955915108,\n",
       " u'1986/87': 3.861239666778217,\n",
       " u'sandra': 7.4944302150315654,\n",
       " u'sheet': 5.0814970648686542,\n",
       " u'7-7/8': 8.1875773955915108,\n",
       " u'minework': 7.3402795352043064,\n",
       " u'silent': 7.8998953231397291,\n",
       " u'perform': 4.1214037103361054,\n",
       " u'speedi': 7.6767517718255194,\n",
       " u'district': 5.6226280381299736,\n",
       " u\"lawson'\": 8.1875773955915108,\n",
       " u'leiner': 8.1875773955915108,\n",
       " u'silicon': 7.2067481425797837,\n",
       " u'19.17': 8.1875773955915108,\n",
       " u'19.14': 8.1875773955915108,\n",
       " u'ekr': 8.1875773955915108,\n",
       " u'unabl': 5.3158977707074975,\n",
       " u'sahr': 7.8998953231397291,\n",
       " u'moomba': 8.1875773955915108,\n",
       " u'man-mad': 7.8998953231397291,\n",
       " u'fhr': 8.1875773955915108,\n",
       " u'confus': 6.647132354644361,\n",
       " u'multifood': 7.6767517718255194,\n",
       " u\"'d\": 6.3417507050931796,\n",
       " u'19.19': 8.1875773955915108,\n",
       " u'kfw': 7.8998953231397291,\n",
       " u'turben': 7.6767517718255194,\n",
       " u'trillion': 6.5136009620198383,\n",
       " u'nigel': 5.5249895685660579,\n",
       " u'state-run': 6.1951472309013038,\n",
       " u'elmo': 7.8998953231397291,\n",
       " u'foodgrain': 7.2067481425797837,\n",
       " u'clariti': 8.1875773955915108,\n",
       " u'elmd': 8.1875773955915108,\n",
       " u'wast': 5.4795271944893003,\n",
       " u'wash': 7.2067481425797837,\n",
       " u'instruct': 6.4529763402034037,\n",
       " u'179': 7.8998953231397291,\n",
       " u'178': 6.983604591265574,\n",
       " u'35-40': 8.1875773955915108,\n",
       " u'176': 7.8998953231397291,\n",
       " u'175': 6.1506954683304702,\n",
       " u'174': 7.3402795352043064,\n",
       " u'173': 7.0889651069233999,\n",
       " u'172': 7.8998953231397291,\n",
       " u'171': 6.8882944114612492,\n",
       " u'170': 5.5485200659762519,\n",
       " u'29-1/2': 8.1875773955915108,\n",
       " u'bilzerian': 7.0889651069233999,\n",
       " u'open-market': 7.8998953231397291,\n",
       " u'voplex': 8.1875773955915108,\n",
       " u'popularis': 8.1875773955915108,\n",
       " u'262,000': 7.8998953231397291,\n",
       " u'payless': 8.1875773955915108,\n",
       " u'evolut': 7.8998953231397291,\n",
       " u'legg': 8.1875773955915108,\n",
       " u'chicago-bas': 6.983604591265574,\n",
       " u'underlin': 6.80128303447162,\n",
       " u'master': 6.80128303447162,\n",
       " u'kravi': 7.4944302150315654,\n",
       " u'similarli': 6.647132354644361,\n",
       " u\"nation'\": 7.0889651069233999,\n",
       " u'bitter': 6.983604591265574,\n",
       " u'0.226': 8.1875773955915108,\n",
       " u'listen': 6.7212403267980836,\n",
       " u'danish': 6.2904574107056295,\n",
       " u'cts/bbl': 6.3417507050931796,\n",
       " u'scaled-down': 8.1875773955915108,\n",
       " u'geneva': 5.9903528182552908,\n",
       " u'iwc': 7.6767517718255194,\n",
       " u'bacon': 7.8998953231397291,\n",
       " u'tocom': 8.1875773955915108,\n",
       " u'22.19': 8.1875773955915108,\n",
       " u'wisdom': 7.4944302150315654,\n",
       " u'internationalis': 7.4944302150315654,\n",
       " u'shearson': 5.0376944422102605,\n",
       " u'sulphur': 6.3417507050931796,\n",
       " u'crawl': 8.1875773955915108,\n",
       " u'rockefel': 8.1875773955915108,\n",
       " u'ffom': 8.1875773955915108,\n",
       " u'roubati': 8.1875773955915108,\n",
       " u'outlay': 6.4529763402034037,\n",
       " u'amcast': 7.6767517718255194,\n",
       " u'286,969': 8.1875773955915108,\n",
       " u'1,329,000': 8.1875773955915108,\n",
       " u'1,783,000': 8.1875773955915108,\n",
       " u'second': 3.3277649912298379,\n",
       " u'project': 3.5958302299355598,\n",
       " u'nza': 7.8998953231397291,\n",
       " u'2,314,000': 8.1875773955915108,\n",
       " u'zimbabwean': 7.6767517718255194,\n",
       " u'visnew': 7.4944302150315654,\n",
       " u'entri': 6.0280931462381382,\n",
       " u'8-1/4': 7.3402795352043064,\n",
       " u'sooth': 7.6767517718255194,\n",
       " u'bergslag': 8.1875773955915108,\n",
       " u'usbc': 8.1875773955915108,\n",
       " u\"rockwell'\": 8.1875773955915108,\n",
       " u'entail': 7.3402795352043064,\n",
       " u'16.85': 7.8998953231397291,\n",
       " u'30.06': 8.1875773955915108,\n",
       " u'128.1': 7.8998953231397291,\n",
       " u'128.2': 8.1875773955915108,\n",
       " u'reassur': 7.0889651069233999,\n",
       " u'spectrum': 7.3402795352043064,\n",
       " u'hug': 7.6767517718255194,\n",
       " u'webcor': 8.1875773955915108,\n",
       " u'increment': 7.6767517718255194,\n",
       " u'melvil': 8.1875773955915108,\n",
       " u'406.5': 8.1875773955915108,\n",
       " u'apirl': 8.1875773955915108,\n",
       " u'goldsmith': 7.2067481425797837,\n",
       " u'406.6': 8.1875773955915108,\n",
       " u'dozen': 6.80128303447162,\n",
       " u'2.79': 7.8998953231397291,\n",
       " u'2.78': 6.7212403267980836,\n",
       " u're-check': 8.1875773955915108,\n",
       " u'irrevoc': 8.1875773955915108,\n",
       " u'2.71': 6.80128303447162,\n",
       " u'2.70': 6.80128303447162,\n",
       " u'2.73': 7.4944302150315654,\n",
       " u'2.72': 6.7212403267980836,\n",
       " u'2.75': 5.884992302597464,\n",
       " u'2.74': 6.647132354644361,\n",
       " u'2.77': 6.8882944114612492,\n",
       " u'2.76': 7.3402795352043064,\n",
       " u'480-lb': 7.8998953231397291,\n",
       " u'kuhlmann': 7.8998953231397291,\n",
       " u'lumpur': 7.4944302150315654,\n",
       " u'9.00': 7.8998953231397291,\n",
       " u'lasl.l': 8.1875773955915108,\n",
       " u's.africa': 7.8998953231397291,\n",
       " u'kremlin': 7.4944302150315654,\n",
       " u'papyru': 8.1875773955915108,\n",
       " u'1,715,000': 8.1875773955915108,\n",
       " u'simplifi': 7.4944302150315654,\n",
       " u'copi': 6.5781394831574094,\n",
       " u'268.3': 8.1875773955915108,\n",
       " u'9,489,000': 8.1875773955915108,\n",
       " u'shall': 6.5781394831574094,\n",
       " u'442': 8.1875773955915108,\n",
       " u'matabeleland': 7.8998953231397291,\n",
       " u'object': 4.7218414927917838,\n",
       " u'lukman': 6.983604591265574,\n",
       " u'shale': 8.1875773955915108,\n",
       " u'victoria': 6.8882944114612492,\n",
       " u'swiss': 4.8673490764630216,\n",
       " u'20.68': 7.8998953231397291,\n",
       " u'100.9': 7.4944302150315654,\n",
       " u'mouth': 6.647132354644361,\n",
       " u'specifi': 5.5485200659762519,\n",
       " u'letter': 3.8925621379072579,\n",
       " u'100.2': 7.4944302150315654,\n",
       " u'drought': 5.3741666788314735,\n",
       " u'9.06': 7.6767517718255194,\n",
       " u'100.6': 7.8998953231397291,\n",
       " u'100.7': 7.6767517718255194,\n",
       " u'100.4': 7.3402795352043064,\n",
       " u'100.5': 8.1875773955915108,\n",
       " u'cross-bord': 7.8998953231397291,\n",
       " u'28.8': 6.80128303447162,\n",
       " u'singer': 7.3402795352043064,\n",
       " u'6,813': 8.1875773955915108,\n",
       " u'leahi': 7.2067481425797837,\n",
       " u'antitrust': 6.1951472309013038,\n",
       " u'grove': 7.2067481425797837,\n",
       " u'maje': 8.1875773955915108,\n",
       " u'professor': 6.647132354644361,\n",
       " u'camp': 7.0889651069233999,\n",
       " u'150.00': 7.8998953231397291,\n",
       " u'lpp': 8.1875773955915108,\n",
       " u'208': 7.3402795352043064,\n",
       " u'tech': 6.80128303447162,\n",
       " u'hiatu': 8.1875773955915108,\n",
       " u'teck': 7.3402795352043064,\n",
       " u'tecd': 8.1875773955915108,\n",
       " u'6-1/2-year-old': 7.8998953231397291,\n",
       " u'non-publ': 7.2067481425797837,\n",
       " u'came': 4.3883498843087088,\n",
       " u'isda': 8.1875773955915108,\n",
       " u'sawmil': 7.4944302150315654,\n",
       " u'bomb': 6.983604591265574,\n",
       " u'reactor': 8.1875773955915108,\n",
       " u'4.0p': 8.1875773955915108,\n",
       " u'dickey': 8.1875773955915108,\n",
       " u'hungari': 6.5781394831574094,\n",
       " u'24-nation': 8.1875773955915108,\n",
       " u'670,000': 7.8998953231397291,\n",
       " u'one-year': 6.7212403267980836,\n",
       " u'150-180': 8.1875773955915108,\n",
       " u'104': 6.5781394831574094,\n",
       " u'advisori': 5.7308416227702068,\n",
       " u'2,800,000': 8.1875773955915108,\n",
       " u'decre': 6.3958179263634554,\n",
       " u'ulcer': 8.1875773955915108,\n",
       " u'mcguin': 8.1875773955915108,\n",
       " u'3,000,000': 7.6767517718255194,\n",
       " u'bramalea': 7.4944302150315654,\n",
       " u'five-week': 8.1875773955915108,\n",
       " u'30.07': 8.1875773955915108,\n",
       " u'newly-acquir': 8.1875773955915108,\n",
       " u'692': 8.1875773955915108,\n",
       " u'693': 8.1875773955915108,\n",
       " u'690': 7.8998953231397291,\n",
       " u'peck': 8.1875773955915108,\n",
       " u'696': 8.1875773955915108,\n",
       " u'695': 8.1875773955915108,\n",
       " u'28.4': 6.8882944114612492,\n",
       " u'siew': 7.4944302150315654,\n",
       " u'restaur': 5.6486035245332342,\n",
       " u'surrend': 7.8998953231397291,\n",
       " u'rico': 6.7212403267980836,\n",
       " u'lube': 8.1875773955915108,\n",
       " u'busi': 2.6945159522509616,\n",
       " u'rick': 8.1875773955915108,\n",
       " u'rich': 6.5136009620198383,\n",
       " u'7,046,000': 8.1875773955915108,\n",
       " u'sieb': 8.1875773955915108,\n",
       " u'rice': 4.9294808575700282,\n",
       " u'sieg': 8.1875773955915108,\n",
       " u'capel': 6.3417507050931796,\n",
       " u'rica': 6.1951472309013038,\n",
       " u'4.06': 7.3402795352043064,\n",
       " u'plate': 6.983604591265574,\n",
       " u'4.04': 7.3402795352043064,\n",
       " u'4.05': 7.0889651069233999,\n",
       " u'reflat': 7.3402795352043064,\n",
       " u'4.03': 7.4944302150315654,\n",
       " u'4.00': 6.983604591265574,\n",
       " u'4.01': 8.1875773955915108,\n",
       " u'thorensen': 8.1875773955915108,\n",
       " u'pre-empt': 8.1875773955915108,\n",
       " u'4.08': 8.1875773955915108,\n",
       " u'ceil': 5.0814970648686542,\n",
       " u'pocket': 7.4944302150315654,\n",
       " u'nstc.t': 7.6767517718255194,\n",
       " u'cushion': 7.3402795352043064,\n",
       " u'reflag': 7.6767517718255194,\n",
       " u'nikkeiren': 8.1875773955915108,\n",
       " u'glatfelt': 7.8998953231397291,\n",
       " u'randal': 8.1875773955915108,\n",
       " u'receiv': 3.0498200940559155,\n",
       " u'jaguar': 7.8998953231397291,\n",
       " u'flour': 5.9539851740844156,\n",
       " u'ner': 7.8998953231397291,\n",
       " u'1,756,000': 8.1875773955915108,\n",
       " u'22.25': 8.1875773955915108,\n",
       " u'22.24': 8.1875773955915108,\n",
       " u'patch': 7.2067481425797837,\n",
       " u'sauc': 7.8998953231397291,\n",
       " u'indigen': 8.1875773955915108,\n",
       " u'ldp': 6.8882944114612492,\n",
       " u'three-year': 5.7896821227931401,\n",
       " u'998,000': 8.1875773955915108,\n",
       " u'peltier': 8.1875773955915108,\n",
       " u'possibilti': 8.1875773955915108,\n",
       " u'vereins-': 7.8998953231397291,\n",
       " u'non-canadian': 8.1875773955915108,\n",
       " u'25,873,904': 8.1875773955915108,\n",
       " u'saul': 7.6767517718255194,\n",
       " u'unexpectedli': 7.0889651069233999,\n",
       " u'fair': 4.9687015707233098,\n",
       " u'ongo': 5.7598291596434583,\n",
       " u'clev': 7.6767517718255194,\n",
       " u'unti': 8.1875773955915108,\n",
       " u'196.4': 8.1875773955915108,\n",
       " u'mandatori': 6.5136009620198383,\n",
       " u'196.2': 8.1875773955915108,\n",
       " u'respons': 3.6730615778715494,\n",
       " u'fail': 4.071253926650634,\n",
       " u'267.9': 8.1875773955915108,\n",
       " u'665,000': 8.1875773955915108,\n",
       " u'237,000': 7.6767517718255194,\n",
       " u'mid-year': 7.0889651069233999,\n",
       " u'best': 4.4659081186545828,\n",
       " u'293,000': 7.2067481425797837,\n",
       " u'oceania': 8.1875773955915108,\n",
       " u'50,100': 8.1875773955915108,\n",
       " u'k.k': 8.1875773955915108,\n",
       " u'33.14': 8.1875773955915108,\n",
       " u'easi': 6.5136009620198383,\n",
       " u'2,499,000': 8.1875773955915108,\n",
       " u'lotu': 8.1875773955915108,\n",
       " u'iri': 7.8998953231397291,\n",
       " u'2,441,000': 8.1875773955915108,\n",
       " u'score': 7.6767517718255194,\n",
       " u'ira': 8.1875773955915108,\n",
       " u'594,000': 7.8998953231397291,\n",
       " u'side': 4.5325994931532554,\n",
       " u'depriv': 7.6767517718255194,\n",
       " u'40.8': 6.80128303447162,\n",
       " u'40.9': 6.7212403267980836,\n",
       " u'extend': 3.9248975185501944,\n",
       " u'40.2': 7.8998953231397291,\n",
       " u'40.3': 6.983604591265574,\n",
       " u'40.0': 6.8882944114612492,\n",
       " u'40.1': 6.983604591265574,\n",
       " u'40.6': 7.4944302150315654,\n",
       " u'40.7': 7.2067481425797837,\n",
       " u'40.4': 7.2067481425797837,\n",
       " u'40.5': 6.647132354644361,\n",
       " u'797,000': 8.1875773955915108,\n",
       " u'extens': 4.9041630495857387,\n",
       " u'chargeoff': 7.8998953231397291,\n",
       " u'wtc': 7.2067481425797837,\n",
       " u'17.14': 7.6767517718255194,\n",
       " u'17.15': 8.1875773955915108,\n",
       " u'extent': 5.2086522403539002,\n",
       " u'17.18': 8.1875773955915108,\n",
       " u'carbon': 6.5136009620198383,\n",
       " u'advertis': 5.6226280381299736,\n",
       " u'debt': 3.1747223447569413,\n",
       " u'861.2': 8.1875773955915108,\n",
       " u'118,350': 7.6767517718255194,\n",
       " u'unfound': 7.3402795352043064,\n",
       " u'planner': 7.6767517718255194,\n",
       " u'62.8': 7.3402795352043064,\n",
       " u'buoy': 6.983604591265574,\n",
       " u'62.6': 8.1875773955915108,\n",
       " u'62.7': 7.6767517718255194,\n",
       " u'62.4': 7.6767517718255194,\n",
       " u'unemploy': 4.8435384277693032,\n",
       " u'62.2': 7.8998953231397291,\n",
       " u'nowruz': 7.8998953231397291,\n",
       " u'edgar': 7.8998953231397291,\n",
       " u'62.1': 7.3402795352043064,\n",
       " u'piti': 7.8998953231397291,\n",
       " u'stuttgart': 8.1875773955915108,\n",
       " u'109': 6.8882944114612492,\n",
       " u'1,750': 7.3402795352043064,\n",
       " u'crdn': 8.1875773955915108,\n",
       " u'logic': 6.80128303447162,\n",
       " u'countri': 2.5257749931761921,\n",
       " u'arc.n': 8.1875773955915108,\n",
       " u'southeastern': 6.8882944114612492,\n",
       " u'588,000': 7.8998953231397291,\n",
       " u'compromis': 5.4360420825495614,\n",
       " u'libyan': 7.8998953231397291,\n",
       " u'assur': 4.9821245910554497,\n",
       " u'heldr': 8.1875773955915108,\n",
       " u'3.8750': 8.1875773955915108,\n",
       " u'vain': 7.8998953231397291,\n",
       " u'map': 7.6767517718255194,\n",
       " u'11.11': 8.1875773955915108,\n",
       " u'wagyu': 8.1875773955915108,\n",
       " u'258': 7.6767517718255194,\n",
       " u'denmark': 5.6226280381299736,\n",
       " u'month-long': 7.6767517718255194,\n",
       " u'252': 7.4944302150315654,\n",
       " u'253': 7.6767517718255194,\n",
       " u'250': 4.9821245910554497,\n",
       " u'251': 7.6767517718255194,\n",
       " u'assum': 4.8318423880061125,\n",
       " u'257': 7.3402795352043064,\n",
       " u'254': 7.4944302150315654,\n",
       " u'255': 7.6767517718255194,\n",
       " u'3.83': 7.6767517718255194,\n",
       " u'3.81': 7.4944302150315654,\n",
       " u'3.80': 6.1081358539116746,\n",
       " u'3.87': 6.983604591265574,\n",
       " u'3.86': 7.4944302150315654,\n",
       " u'3.85': 6.2416672465361973,\n",
       " u'3.84': 7.6767517718255194,\n",
       " u'union': 3.4397509092018952,\n",
       " u'fri': 7.3402795352043064,\n",
       " u'3.88': 7.0889651069233999,\n",
       " u'frn': 7.6767517718255194,\n",
       " u'jan/dec': 8.1875773955915108,\n",
       " u'3,500,000': 6.983604591265574,\n",
       " u'13-d': 7.6767517718255194,\n",
       " u'much': 3.3022534035724291,\n",
       " u'1,134': 8.1875773955915108,\n",
       " u'interpret': 6.0673138593914189,\n",
       " u'dissatisfact': 7.6767517718255194,\n",
       " u'advers': 5.1430549578680873,\n",
       " u'2,506,000': 8.1875773955915108,\n",
       " u'countrywid': 7.8998953231397291,\n",
       " u'505,000': 8.1875773955915108,\n",
       " u'1,411': 8.1875773955915108,\n",
       " u'hesit': 7.0889651069233999,\n",
       " u'liff': 8.1875773955915108,\n",
       " u'life': 4.5070661911480903,\n",
       " u'toyko': 8.1875773955915108,\n",
       " u'regul': 4.5676908129645257,\n",
       " u'sydney': 6.2904574107056295,\n",
       " u'rockvil': 8.1875773955915108,\n",
       " u'lifo': 6.80128303447162,\n",
       " u'zico': 7.4944302150315654,\n",
       " u'azpurua': 7.3402795352043064,\n",
       " u'worker': 4.3025830625512835,\n",
       " u'lifi': 8.1875773955915108,\n",
       " u'export-driven': 7.6767517718255194,\n",
       " u'363': 8.1875773955915108,\n",
       " u'dave': 7.6767517718255194,\n",
       " u'lift': 4.4263772798979479,\n",
       " u'346,000': 7.8998953231397291,\n",
       " u'chile': 6.2904574107056295,\n",
       " u'child': 7.8998953231397291,\n",
       " u'davo': 8.1875773955915108,\n",
       " u'duim': 7.8998953231397291,\n",
       " u'spin': 6.3958179263634554,\n",
       " u'persuas': 8.1875773955915108,\n",
       " u'davi': 6.647132354644361,\n",
       " u'chill': 7.0889651069233999,\n",
       " u'unsold': 7.4944302150315654,\n",
       " u'm-1-a': 7.3402795352043064,\n",
       " u'0.125': 8.1875773955915108,\n",
       " u'611,000': 8.1875773955915108,\n",
       " u'commerci': 3.8223578792340094,\n",
       " u'employ': 4.2889774104955052,\n",
       " u'burr-brown': 8.1875773955915108,\n",
       " u'unsolv': 8.1875773955915108,\n",
       " u'cut-rat': 8.1875773955915108,\n",
       " u'gerhard': 5.7598291596434583,\n",
       " u'7,960,000': 8.1875773955915108,\n",
       " u'nonresidenti': 7.8998953231397291,\n",
       " u'hmoa': 8.1875773955915108,\n",
       " u'seipp': 7.8998953231397291,\n",
       " u'biotech': 7.4944302150315654,\n",
       " u'2,665,000': 7.8998953231397291,\n",
       " u'mid-may': 7.2067481425797837,\n",
       " u'canadian-l': 7.8998953231397291,\n",
       " u'0.077': 7.8998953231397291,\n",
       " u'0.073': 8.1875773955915108,\n",
       " u'kohl': 7.0889651069233999,\n",
       " u'quak': 6.7212403267980836,\n",
       " u'4,798,000': 8.1875773955915108,\n",
       " u'unoc': 6.8882944114612492,\n",
       " u'sjt': 8.1875773955915108,\n",
       " u'craft': 6.983604591265574,\n",
       " u'shift': 4.8318423880061125,\n",
       " u'specter': 7.8998953231397291,\n",
       " u'7,300,000': 7.6767517718255194,\n",
       " u'153,000': 7.6767517718255194,\n",
       " u'recover': 6.983604591265574,\n",
       " u'35.83': 8.1875773955915108,\n",
       " u'dilut': 4.434159420340003,\n",
       " u'undamag': 8.1875773955915108,\n",
       " u'wendel': 8.1875773955915108,\n",
       " u'81.7': 7.4944302150315654,\n",
       " u'transpar': 7.3402795352043064,\n",
       " u'bti.l': 7.6767517718255194,\n",
       " u'968': 8.1875773955915108,\n",
       " u'split': 3.4870970297990942,\n",
       " u'bristol-my': 7.3402795352043064,\n",
       " u'jungl': 6.3417507050931796,\n",
       " u'elliott': 7.8998953231397291,\n",
       " u'electro': 7.3402795352043064,\n",
       " u'dhr': 7.8998953231397291,\n",
       " u'european': 3.2177640960155092,\n",
       " u'cdv': 8.1875773955915108,\n",
       " u'8,403,000': 8.1875773955915108,\n",
       " u'legally-bind': 7.8998953231397291,\n",
       " u'issam': 8.1875773955915108,\n",
       " u'25-mar-1987': 8.1875773955915108,\n",
       " u'149.98': 7.6767517718255194,\n",
       " u'josef': 8.1875773955915108,\n",
       " u'341,000': 7.6767517718255194,\n",
       " u'5.78': 7.8998953231397291,\n",
       " u'5.79': 7.8998953231397291,\n",
       " u'boiler': 7.6767517718255194,\n",
       " u'ownership': 4.7323127926590791,\n",
       " u'refin': 4.3662087584314948,\n",
       " u'5.70': 7.0889651069233999,\n",
       " u'5.72': 8.1875773955915108,\n",
       " u'5.73': 8.1875773955915108,\n",
       " u'5.74': 8.1875773955915108,\n",
       " u'5.75': 6.983604591265574,\n",
       " u'5.76': 8.1875773955915108,\n",
       " u'5.77': 7.8998953231397291,\n",
       " u'nibbl': 8.1875773955915108,\n",
       " u'adm': 7.2067481425797837,\n",
       " u'777,000': 7.8998953231397291,\n",
       " u'blatantli': 7.8998953231397291,\n",
       " u'2,751,000': 7.8998953231397291,\n",
       " u'dent': 7.6767517718255194,\n",
       " u'50.76': 8.1875773955915108,\n",
       " u'july/septemb': 7.8998953231397291,\n",
       " u'3,701,000': 8.1875773955915108,\n",
       " u'subpoena': 8.1875773955915108,\n",
       " u'229,000': 7.6767517718255194,\n",
       " u'smbs.st': 7.8998953231397291,\n",
       " u'aqazadeh': 7.0889651069233999,\n",
       " u'legisl': 4.5155050597939548,\n",
       " u'bonni': 7.6767517718255194,\n",
       " u'capitol': 7.0889651069233999,\n",
       " u'txn': 8.1875773955915108,\n",
       " u'367,000': 7.6767517718255194,\n",
       " u'terrorist': 7.8998953231397291,\n",
       " u'31.85': 8.1875773955915108,\n",
       " u'207.7': 8.1875773955915108,\n",
       " u'207.5': 8.1875773955915108,\n",
       " u'intercontinent': 8.1875773955915108,\n",
       " u'aristech': 7.8998953231397291,\n",
       " u'falcon': 8.1875773955915108,\n",
       " u'rainbow/progress': 8.1875773955915108,\n",
       " u'previous': 3.1858707322395556,\n",
       " u'smc': 7.4944302150315654,\n",
       " u'hal': 7.4944302150315654,\n",
       " u'ham': 7.8998953231397291,\n",
       " u'han': 6.1951472309013038,\n",
       " u'haa': 7.4944302150315654,\n",
       " u'deterr': 7.6767517718255194,\n",
       " u'had': 1.8001370663964797,\n",
       " u'mr.': 6.5781394831574094,\n",
       " u'woodstock': 8.1875773955915108,\n",
       " u'precambrian': 7.8998953231397291,\n",
       " u'macdonald': 7.8998953231397291,\n",
       " u'hay': 7.6767517718255194,\n",
       " u'bnl': 7.3402795352043064,\n",
       " u'falter': 7.4944302150315654,\n",
       " u'haq': 7.8998953231397291,\n",
       " u'wrather': 7.8998953231397291,\n",
       " u'match': 5.4360420825495614,\n",
       " u'hat': 8.1875773955915108,\n",
       " u'20-25': 7.8998953231397291,\n",
       " u'deterg': 7.6767517718255194,\n",
       " u'10-3/4': 8.1875773955915108,\n",
       " u'exploratori': 6.3958179263634554,\n",
       " u'preserv': 5.8522024797744736,\n",
       " u'company-own': 7.2067481425797837,\n",
       " u'gkn': 7.8998953231397291,\n",
       " u'271-288': 8.1875773955915108,\n",
       " u'january-septemb': 8.1875773955915108,\n",
       " u'firmer': 5.884992302597464,\n",
       " u'zondervan': 7.8998953231397291,\n",
       " u'4,161.0': 8.1875773955915108,\n",
       " u'9,400,000': 7.6767517718255194,\n",
       " u'homemad': 8.1875773955915108,\n",
       " u'852,000': 7.4944302150315654,\n",
       " u'21.50': 7.2067481425797837,\n",
       " u'shadow': 7.2067481425797837,\n",
       " u'istat': 7.2067481425797837,\n",
       " u'monteil': 8.1875773955915108,\n",
       " u'1,045,000': 8.1875773955915108,\n",
       " u'3-mar-1987': 7.8998953231397291,\n",
       " u'semi': 7.8998953231397291,\n",
       " u'specif': 4.3735347985235675,\n",
       " u'mid-jun': 7.6767517718255194,\n",
       " u'new-found': 8.1875773955915108,\n",
       " u'blunt': 7.2067481425797837,\n",
       " u'39.8': 7.2067481425797837,\n",
       " u'12-3/8': 7.8998953231397291,\n",
       " u'remind': 6.8882944114612492,\n",
       " u'paperboard': 7.8998953231397291,\n",
       " u'accessori': 7.0889651069233999,\n",
       " u'cents/litr': 7.3402795352043064,\n",
       " u'142.20': 7.8998953231397291,\n",
       " u'underli': 4.9821245910554497,\n",
       " u'1.774': 7.8998953231397291,\n",
       " u'attorney': 6.5781394831574094,\n",
       " u'right': 3.565877907652208,\n",
       " u'2,731,000': 8.1875773955915108,\n",
       " u'yoweri': 7.8998953231397291,\n",
       " u'crowd': 7.8998953231397291,\n",
       " u'266,389': 8.1875773955915108,\n",
       " u'fiduciari': 6.5781394831574094,\n",
       " u'midyear': 8.1875773955915108,\n",
       " u'crown': 5.0965349422331947,\n",
       " u'fcr': 8.1875773955915108,\n",
       " u'oln': 7.8998953231397291,\n",
       " u'ever-grow': 8.1875773955915108,\n",
       " u'welch': 8.1875773955915108,\n",
       " u'221.8': 7.6767517718255194,\n",
       " u'wellhead': 7.8998953231397291,\n",
       " u'billboard': 8.1875773955915108,\n",
       " u'221.5': 8.1875773955915108,\n",
       " u'unip': 8.1875773955915108,\n",
       " u'transmiss': 6.3417507050931796,\n",
       " ...}"
      ]
     },
     "execution_count": 27,
     "metadata": {},
     "output_type": "execute_result"
    }
   ],
   "source": [
    "idf_smooth"
   ]
  },
  {
   "cell_type": "code",
   "execution_count": 61,
   "metadata": {
    "collapsed": false
   },
   "outputs": [
    {
     "data": {
      "text/plain": [
       "(array([  1.40000000e+01,   6.00000000e+00,   1.70000000e+01,\n",
       "          2.70000000e+01,   4.20000000e+01,   6.60000000e+01,\n",
       "          1.24000000e+02,   1.34000000e+02,   1.88000000e+02,\n",
       "          2.00000000e+02,   2.53000000e+02,   3.64000000e+02,\n",
       "          4.27000000e+02,   5.67000000e+02,   7.22000000e+02,\n",
       "          9.36000000e+02,   1.34800000e+03,   1.80900000e+03,\n",
       "          2.67600000e+03,   9.09900000e+03]),\n",
       " array([ 0.25330274,  0.65001647,  1.0467302 ,  1.44344394,  1.84015767,\n",
       "         2.2368714 ,  2.63358514,  3.03029887,  3.4270126 ,  3.82372633,\n",
       "         4.22044007,  4.6171538 ,  5.01386753,  5.41058127,  5.807295  ,\n",
       "         6.20400873,  6.60072246,  6.9974362 ,  7.39414993,  7.79086366,\n",
       "         8.1875774 ]),\n",
       " <a list of 20 Patch objects>)"
      ]
     },
     "execution_count": 61,
     "metadata": {},
     "output_type": "execute_result"
    },
    {
     "data": {
      "image/png": "[encoded data removed]",
      "text/plain": [
       "<matplotlib.figure.Figure at 0x16fd29b0>"
      ]
     },
     "metadata": {},
     "output_type": "display_data"
    }
   ],
   "source": [
    "plt.hist(idf_smooth.values(),bins=20)"
   ]
  },
  {
   "cell_type": "markdown",
   "metadata": {},
   "source": [
    "In order to form a idf weighted similarity we'll use the built in TfidfVectorizer method from scikit-learn.  This will construct the full tfidf transform as a N times m matrix, where N is the number of documents and m is the number of lemmas."
   ]
  },
  {
   "cell_type": "code",
   "execution_count": 29,
   "metadata": {
    "collapsed": true
   },
   "outputs": [],
   "source": [
    "vectorizer = TfidfVectorizer(tokenizer=lemmatize,stop_words=\"english\",smooth_idf=True,norm=None)\n",
    "\n",
    "tfs = vectorizer.fit_transform(reuters)"
   ]
  },
  {
   "cell_type": "code",
   "execution_count": 30,
   "metadata": {
    "collapsed": false
   },
   "outputs": [],
   "source": [
    "sim = tfs.dot(tfs.T)"
   ]
  },
  {
   "cell_type": "code",
   "execution_count": 31,
   "metadata": {
    "collapsed": true
   },
   "outputs": [],
   "source": [
    "tok = tok_list[0]"
   ]
  },
  {
   "cell_type": "code",
   "execution_count": 62,
   "metadata": {
    "collapsed": false
   },
   "outputs": [
    {
     "data": {
      "text/plain": [
       "u'mid-week'"
      ]
     },
     "execution_count": 62,
     "metadata": {},
     "output_type": "execute_result"
    }
   ],
   "source": [
    "tok"
   ]
  },
  {
   "cell_type": "code",
   "execution_count": 32,
   "metadata": {
    "collapsed": false
   },
   "outputs": [],
   "source": [
    "reu_label = [1*('earn' in corpus.reuters.categories(fid)) for fid in fids]"
   ]
  },
  {
   "cell_type": "code",
   "execution_count": 33,
   "metadata": {
    "collapsed": false
   },
   "outputs": [],
   "source": [
    "testdocs = [docids[tname] for tname in textd[tok]]"
   ]
  },
  {
   "cell_type": "code",
   "execution_count": 34,
   "metadata": {
    "collapsed": false
   },
   "outputs": [
    {
     "data": {
      "text/plain": [
       "[1788, 1968]"
      ]
     },
     "execution_count": 34,
     "metadata": {},
     "output_type": "execute_result"
    }
   ],
   "source": [
    "testdocs"
   ]
  },
  {
   "cell_type": "code",
   "execution_count": 35,
   "metadata": {
    "collapsed": false
   },
   "outputs": [
    {
     "data": {
      "text/plain": [
       "921.37458311348655"
      ]
     },
     "execution_count": 35,
     "metadata": {},
     "output_type": "execute_result"
    }
   ],
   "source": [
    "sim[tuple(testdocs)]"
   ]
  },
  {
   "cell_type": "code",
   "execution_count": 63,
   "metadata": {
    "collapsed": false
   },
   "outputs": [
    {
     "data": {
      "text/plain": [
       "220.83943604072664"
      ]
     },
     "execution_count": 63,
     "metadata": {},
     "output_type": "execute_result"
    }
   ],
   "source": [
    "sim.mean()"
   ]
  },
  {
   "cell_type": "code",
   "execution_count": 64,
   "metadata": {
    "collapsed": false
   },
   "outputs": [
    {
     "data": {
      "text/plain": [
       "u'WEST TEXAS COTTON CROP UNSCATHED BY STORM\\n  The West Texas cotton crop was largely\\n  unscathed by an isolated thunderstorm in that region last night\\n  that packed hurricane-force winds, crop and weather experts\\n  said.\\n      \"There might have been some isolated storms, but certainly\\n  nothing damaging,\" said Charles Stichler, an extension\\n  agronomist with the Agricultural Extension Service in far West\\n  Texas.\\n      Rumors of a damaging storm in West Texas helped the New\\n  York cotton futures market rally sharply this morning.\\n     Cotton for December delivery was 1.35 cents higher at 70.95\\n  cents a lb at midsession after peaking this morning at 71.25\\n  cents.\\n      \"What happened is that the storm hit Lubbock airport, and\\n  when that happens, everybody sees it,\" said Dale Mohler, a\\n  senior meteorologist with Accu-Weather Inc.\\n      Lubbock is the heart of the West Texas cotton region, which\\n  produces about 80 pct of that state\\'s crop.\\n      The storm produced winds of about 75 mph. \"That\\'s hurricane\\n  force. But they were isolated to just a small portion of the\\n  West Texas area, probably less than five pct,\" Mohler said.\\n      \"No doubt there was some damage. But if it had hit in July\\n  or August (when fruiting would be underway) it would have been\\n  worse,\" Mohler said.\\n      About 60 pct of the West Texas cotton crop has been\\n  planted, and the remainder could be done by the weekend if\\n  weather remains hot and dry, Stichler said.\\n      The temperature in West Texas since mid-week has been about\\n  95 degrees. But a hot spell was sorely needed after far heavier\\n  than normal rainfall for several weeks, he said.\\n  \\n\\n'"
      ]
     },
     "execution_count": 64,
     "metadata": {},
     "output_type": "execute_result"
    }
   ],
   "source": [
    "reuters[1788]"
   ]
  },
  {
   "cell_type": "code",
   "execution_count": 65,
   "metadata": {
    "collapsed": false
   },
   "outputs": [
    {
     "data": {
      "text/plain": [
       "u'FAIRLY HECTIC WEEK IN RAW SUGAR, WOODHOUSE SAYS\\n  It has been a fairly hectic trading week\\n  in raw sugar with China paying market levels for nearby\\n  shipments, London trader, Woodhouse, Drake and Carey, said in\\n  its weekly report.\\n      July shipment Thai raws traded to China early in the week\\n  at fob levels equivalent to 20/25 points discount to July New\\n  York futures, it said. Mid-week saw these same sales covered by\\n  the trade at 10/15 points discount.\\n      Enquiries for July/Sep 15 raw sugars then filtered in and\\n  here again, traded values rose quickly from 13 points premium\\n  to New York July up to 18, Woodhouse said.\\n      In the Western Hemisphere, both Dominican Republic and\\n  Mexican nearby raws were bid 15 points discount to July New\\n  York and offered five points under, but in limited trading, it\\n  said.\\n      All the action of the past week has been in the Far East\\n  raws market whereas the whites market saw little fresh prospect\\n  of nearby offtake, Whitehouse added.\\n  \\n\\n'"
      ]
     },
     "execution_count": 65,
     "metadata": {},
     "output_type": "execute_result"
    }
   ],
   "source": [
    "reuters[1968]"
   ]
  },
  {
   "cell_type": "markdown",
   "metadata": {},
   "source": [
    "Finally, we can find the nearest neighbors of each document (excluding itself).  Let us define the precision as the percentage of documents classified correctly in this way."
   ]
  },
  {
   "cell_type": "code",
   "execution_count": 58,
   "metadata": {
    "collapsed": false
   },
   "outputs": [],
   "source": [
    "k_max = 20\n",
    "nbrs = NearestNeighbors(n_neighbors=k_max).fit(tfs)\n",
    "err_list = []\n",
    "\n",
    "for k in xrange(1,k_max+1,2):\n",
    "    neighmat = nbrs.kneighbors_graph(n_neighbors=k)\n",
    "    pred_lab = (neighmat.dot(reu_label) > k/2.)*1 #Why should this be knn classification?\n",
    "    err =  np.mean(pred_lab != reu_label)\n",
    "    err_list.append(err)"
   ]
  },
  {
   "cell_type": "code",
   "execution_count": 59,
   "metadata": {
    "collapsed": false
   },
   "outputs": [
    {
     "data": {
      "text/plain": [
       "<matplotlib.text.Text at 0x184af080>"
      ]
     },
     "execution_count": 59,
     "metadata": {},
     "output_type": "execute_result"
    },
    {
     "data": {
      "image/png": "[encoded data removed]",
      "text/plain": [
       "<matplotlib.figure.Figure at 0x1794bd30>"
      ]
     },
     "metadata": {},
     "output_type": "display_data"
    }
   ],
   "source": [
    "plt.plot(range(1,k_max + 1,2),err_list)\n",
    "plt.xlabel('k')\n",
    "plt.ylabel('Error Rate')"
   ]
  },
  {
   "cell_type": "markdown",
   "metadata": {},
   "source": [
    "Let's also use the bigrams as the tokens for the tfidf nearest neighbor classification.  First, I'll replace the old tokenizer with a bigram version of it."
   ]
  },
  {
   "cell_type": "code",
   "execution_count": 49,
   "metadata": {
    "collapsed": false
   },
   "outputs": [],
   "source": [
    "bigramitize = lambda text: [a + ' ' + b for a,b in nltk.bigrams(lemmatize(text))]"
   ]
  },
  {
   "cell_type": "code",
   "execution_count": 50,
   "metadata": {
    "collapsed": true
   },
   "outputs": [],
   "source": [
    "vectorizer = TfidfVectorizer(tokenizer=bigramitize,stop_words=\"english\",smooth_idf=True,norm=None)\n",
    "bitfs = vectorizer.fit_transform(reuters)"
   ]
  },
  {
   "cell_type": "code",
   "execution_count": 55,
   "metadata": {
    "collapsed": true
   },
   "outputs": [],
   "source": [
    "k_max = 20\n",
    "nbrs = NearestNeighbors(n_neighbors=k_max).fit(bitfs)\n",
    "err_list = []\n",
    "\n",
    "for k in xrange(1,k_max+1,2):\n",
    "    neighmat = nbrs.kneighbors_graph(n_neighbors=k)\n",
    "    pred_lab = (neighmat.dot(reu_label) > k/2.)*1 \n",
    "    err =  np.mean(pred_lab != reu_label)\n",
    "    err_list.append(err)"
   ]
  },
  {
   "cell_type": "code",
   "execution_count": 56,
   "metadata": {
    "collapsed": false
   },
   "outputs": [
    {
     "data": {
      "text/plain": [
       "<matplotlib.text.Text at 0x1750f978>"
      ]
     },
     "execution_count": 56,
     "metadata": {},
     "output_type": "execute_result"
    },
    {
     "data": {
      "image/png": "[encoded data removed]",
      "text/plain": [
       "<matplotlib.figure.Figure at 0x16e8e588>"
      ]
     },
     "metadata": {},
     "output_type": "display_data"
    }
   ],
   "source": [
    "plt.plot(range(1,k_max + 1,2),err_list)\n",
    "plt.xlabel('k')\n",
    "plt.ylabel('Error Rate')"
   ]
  },
  {
   "cell_type": "markdown",
   "metadata": {},
   "source": [
    "The conclusion is that the word content provides a better similarity measure than the bigram content.  This is probably because there is not sufficient overlap between document bigrams."
   ]
  }
 ],
 "metadata": {
  "anaconda-cloud": {},
  "kernelspec": {
   "display_name": "Python 2",
   "language": "python",
   "name": "python2"
  },
  "language_info": {
   "codemirror_mode": {
    "name": "ipython",
    "version": 2
   },
   "file_extension": ".py",
   "mimetype": "text/x-python",
   "name": "python",
   "nbconvert_exporter": "python",
   "pygments_lexer": "ipython2",
   "version": "2.7.13"
  }
 },
 "nbformat": 4,
 "nbformat_minor": 1
}

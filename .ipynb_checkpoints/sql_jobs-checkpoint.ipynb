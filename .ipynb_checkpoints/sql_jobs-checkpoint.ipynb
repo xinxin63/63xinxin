{
 "cells": [
  {
   "cell_type": "markdown",
   "metadata": {},
   "source": [
    "## SQL with Pandas"
   ]
  },
  {
   "cell_type": "code",
   "execution_count": 26,
   "metadata": {
    "collapsed": false
   },
   "outputs": [],
   "source": [
    "import pandas as pd\n",
    "from matplotlib import pyplot as plt\n",
    "import sqlalchemy as sqla\n",
    "import sqlite3\n",
    "%matplotlib inline\n",
    "plt.style.use('ggplot')"
   ]
  },
  {
   "cell_type": "markdown",
   "metadata": {},
   "source": [
    "Let's create a reader object, which will make it so that we can read the csv in chunks.  When we specify the chunksize this indicates that we want an iterator that will reach these chunks into memory."
   ]
  },
  {
   "cell_type": "code",
   "execution_count": 3,
   "metadata": {
    "collapsed": false
   },
   "outputs": [],
   "source": [
    "nycjobs_reader = pd.read_csv('../data/DOB_Job_Application_Filings.csv',\n",
    "                             chunksize=10000,low_memory=False,encoding='latin-1')"
   ]
  },
  {
   "cell_type": "code",
   "execution_count": 4,
   "metadata": {
    "collapsed": false
   },
   "outputs": [],
   "source": [
    "nycjobs_chunk = nycjobs_reader.next()\n",
    "nyc_cols = nycjobs_chunk.columns"
   ]
  },
  {
   "cell_type": "markdown",
   "metadata": {},
   "source": [
    "Let's create the sqlite file, and create the connection."
   ]
  },
  {
   "cell_type": "code",
   "execution_count": 5,
   "metadata": {
    "collapsed": false
   },
   "outputs": [],
   "source": [
    "sqlite_file = '../data/nycjobs.sqlite'\n",
    "nyc_conn = sqla.create_engine('sqlite:///' + sqlite_file)"
   ]
  },
  {
   "cell_type": "markdown",
   "metadata": {},
   "source": [
    "The following code will create the table jobs and fill it in."
   ]
  },
  {
   "cell_type": "code",
   "execution_count": 6,
   "metadata": {
    "collapsed": false
   },
   "outputs": [],
   "source": [
    "nycjobs_chunk.to_sql('jobs',nyc_conn,if_exists='replace')\n",
    "for nycjobs_chunk in nycjobs_reader:\n",
    "    nycjobs_chunk.to_sql('jobs',nyc_conn,if_exists='append')"
   ]
  },
  {
   "cell_type": "markdown",
   "metadata": {},
   "source": [
    "Now, we get to make our first query.  Let's count the number of records in the jobs table.  We can also count the number of plumbing jobs."
   ]
  },
  {
   "cell_type": "code",
   "execution_count": 8,
   "metadata": {
    "collapsed": false
   },
   "outputs": [
    {
     "data": {
      "text/html": [
       "<div>\n",
       "<table border=\"1\" class=\"dataframe\">\n",
       "  <thead>\n",
       "    <tr style=\"text-align: right;\">\n",
       "      <th></th>\n",
       "      <th>count(*)</th>\n",
       "    </tr>\n",
       "  </thead>\n",
       "  <tbody>\n",
       "    <tr>\n",
       "      <th>0</th>\n",
       "      <td>275557</td>\n",
       "    </tr>\n",
       "  </tbody>\n",
       "</table>\n",
       "</div>"
      ],
      "text/plain": [
       "   count(*)\n",
       "0    275557"
      ]
     },
     "execution_count": 8,
     "metadata": {},
     "output_type": "execute_result"
    }
   ],
   "source": [
    "pd.read_sql_query(\"select count(*) from jobs\",nyc_conn)"
   ]
  },
  {
   "cell_type": "code",
   "execution_count": 9,
   "metadata": {
    "collapsed": false
   },
   "outputs": [
    {
     "data": {
      "text/html": [
       "<div>\n",
       "<table border=\"1\" class=\"dataframe\">\n",
       "  <thead>\n",
       "    <tr style=\"text-align: right;\">\n",
       "      <th></th>\n",
       "      <th>count(*)</th>\n",
       "    </tr>\n",
       "  </thead>\n",
       "  <tbody>\n",
       "    <tr>\n",
       "      <th>0</th>\n",
       "      <td>84881</td>\n",
       "    </tr>\n",
       "  </tbody>\n",
       "</table>\n",
       "</div>"
      ],
      "text/plain": [
       "   count(*)\n",
       "0     84881"
      ]
     },
     "execution_count": 9,
     "metadata": {},
     "output_type": "execute_result"
    }
   ],
   "source": [
    "pd.read_sql_query(\"select count(*) from jobs where Plumbing='X'\",nyc_conn)"
   ]
  },
  {
   "cell_type": "code",
   "execution_count": 10,
   "metadata": {
    "collapsed": false
   },
   "outputs": [
    {
     "data": {
      "text/html": [
       "<div>\n",
       "<table border=\"1\" class=\"dataframe\">\n",
       "  <thead>\n",
       "    <tr style=\"text-align: right;\">\n",
       "      <th></th>\n",
       "      <th>Plumbing</th>\n",
       "      <th>count(*)</th>\n",
       "    </tr>\n",
       "  </thead>\n",
       "  <tbody>\n",
       "    <tr>\n",
       "      <th>0</th>\n",
       "      <td>None</td>\n",
       "      <td>144606</td>\n",
       "    </tr>\n",
       "    <tr>\n",
       "      <th>1</th>\n",
       "      <td></td>\n",
       "      <td>46070</td>\n",
       "    </tr>\n",
       "    <tr>\n",
       "      <th>2</th>\n",
       "      <td>X</td>\n",
       "      <td>84881</td>\n",
       "    </tr>\n",
       "  </tbody>\n",
       "</table>\n",
       "</div>"
      ],
      "text/plain": [
       "  Plumbing  count(*)\n",
       "0     None    144606\n",
       "1              46070\n",
       "2        X     84881"
      ]
     },
     "execution_count": 10,
     "metadata": {},
     "output_type": "execute_result"
    }
   ],
   "source": [
    "pd.read_sql_query(\"select Plumbing, count(*) as count from jobs group by Plumbing\",nyc_conn)"
   ]
  },
  {
   "cell_type": "markdown",
   "metadata": {},
   "source": [
    "We can also order these by the initial cost in descending order."
   ]
  },
  {
   "cell_type": "code",
   "execution_count": 11,
   "metadata": {
    "collapsed": true
   },
   "outputs": [],
   "source": [
    "sql_query = \"\"\"\n",
    "select * from jobs \n",
    "where Plumbing='X' \n",
    "order by \"Initial Cost\" desc\n",
    "\"\"\"\n",
    "plumbing = pd.read_sql_query(sql_query,nyc_conn)"
   ]
  },
  {
   "cell_type": "code",
   "execution_count": 12,
   "metadata": {
    "collapsed": false
   },
   "outputs": [
    {
     "data": {
      "text/html": [
       "<div>\n",
       "<table border=\"1\" class=\"dataframe\">\n",
       "  <thead>\n",
       "    <tr style=\"text-align: right;\">\n",
       "      <th></th>\n",
       "      <th>index</th>\n",
       "      <th>Job #</th>\n",
       "      <th>Doc #</th>\n",
       "      <th>Borough</th>\n",
       "      <th>House #</th>\n",
       "      <th>Street Name</th>\n",
       "      <th>Block</th>\n",
       "      <th>Lot</th>\n",
       "      <th>Bin #</th>\n",
       "      <th>Job Type</th>\n",
       "      <th>...</th>\n",
       "      <th>Owner's Last Name</th>\n",
       "      <th>Owner's Business Name</th>\n",
       "      <th>Owner's House Number</th>\n",
       "      <th>Owner'sHouse Street Name</th>\n",
       "      <th>City</th>\n",
       "      <th>State</th>\n",
       "      <th>Zip</th>\n",
       "      <th>Owner'sPhone #</th>\n",
       "      <th>Job Description</th>\n",
       "      <th>DOBRunDate</th>\n",
       "    </tr>\n",
       "  </thead>\n",
       "  <tbody>\n",
       "    <tr>\n",
       "      <th>0</th>\n",
       "      <td>2800</td>\n",
       "      <td>320771198</td>\n",
       "      <td>1</td>\n",
       "      <td>BROOKLYN</td>\n",
       "      <td>68</td>\n",
       "      <td>GRAND STREET</td>\n",
       "      <td>2390</td>\n",
       "      <td>23</td>\n",
       "      <td>3062758</td>\n",
       "      <td>A1</td>\n",
       "      <td>...</td>\n",
       "      <td>DENNIS</td>\n",
       "      <td>N/A</td>\n",
       "      <td>68</td>\n",
       "      <td>GRAND STREET</td>\n",
       "      <td>BROOKLYN</td>\n",
       "      <td>NY</td>\n",
       "      <td>11249</td>\n",
       "      <td>7185992245</td>\n",
       "      <td>INTERIOR RENOVATION OF AN EXISTING 3 STORY PLU...</td>\n",
       "      <td>06/13/2013 12:00:00 AM</td>\n",
       "    </tr>\n",
       "    <tr>\n",
       "      <th>1</th>\n",
       "      <td>6346</td>\n",
       "      <td>220416841</td>\n",
       "      <td>1</td>\n",
       "      <td>BRONX</td>\n",
       "      <td>1160</td>\n",
       "      <td>CROMWELL AVENUE</td>\n",
       "      <td>2496</td>\n",
       "      <td>34</td>\n",
       "      <td>2003023</td>\n",
       "      <td>A2</td>\n",
       "      <td>...</td>\n",
       "      <td>FINKELSTEIN</td>\n",
       "      <td>1160 CROMWELL AVE LLC</td>\n",
       "      <td>111</td>\n",
       "      <td>BROOK STREET</td>\n",
       "      <td>SCARSTALE</td>\n",
       "      <td>NY</td>\n",
       "      <td>10585</td>\n",
       "      <td>9144724900</td>\n",
       "      <td>HEREWITH TO PROPOSE INTERIOR RENOVATION BATH R...</td>\n",
       "      <td>12/06/2014 12:00:00 AM</td>\n",
       "    </tr>\n",
       "    <tr>\n",
       "      <th>2</th>\n",
       "      <td>7727</td>\n",
       "      <td>321427595</td>\n",
       "      <td>2</td>\n",
       "      <td>BROOKLYN</td>\n",
       "      <td>441</td>\n",
       "      <td>COLUMBIA STREET</td>\n",
       "      <td>538</td>\n",
       "      <td>1</td>\n",
       "      <td>3334251</td>\n",
       "      <td>A2</td>\n",
       "      <td>...</td>\n",
       "      <td>MOORE</td>\n",
       "      <td>NEW YORK CITY HOUSING AUTHORITY</td>\n",
       "      <td>90</td>\n",
       "      <td>CHURCH STREET</td>\n",
       "      <td>NEW YORK</td>\n",
       "      <td>NY</td>\n",
       "      <td>10007</td>\n",
       "      <td>2123068563</td>\n",
       "      <td>REMOVE EXISTING HVAC EQUIPMENT AND PROVIDE NEW...</td>\n",
       "      <td>07/30/2016 12:00:00 AM</td>\n",
       "    </tr>\n",
       "    <tr>\n",
       "      <th>3</th>\n",
       "      <td>7519</td>\n",
       "      <td>122059084</td>\n",
       "      <td>1</td>\n",
       "      <td>MANHATTAN</td>\n",
       "      <td>160</td>\n",
       "      <td>WEST 66TH ST</td>\n",
       "      <td>1137</td>\n",
       "      <td>7501</td>\n",
       "      <td>1077844</td>\n",
       "      <td>A2</td>\n",
       "      <td>...</td>\n",
       "      <td>LO</td>\n",
       "      <td>None</td>\n",
       "      <td>160</td>\n",
       "      <td>WEST 66TH ST</td>\n",
       "      <td>NY</td>\n",
       "      <td>NY</td>\n",
       "      <td>10023</td>\n",
       "      <td>2154785182</td>\n",
       "      <td>RENOVATION AND COMBINATION OF APTS 22G AND 22H...</td>\n",
       "      <td>07/08/2014 12:00:00 AM</td>\n",
       "    </tr>\n",
       "    <tr>\n",
       "      <th>4</th>\n",
       "      <td>6898</td>\n",
       "      <td>321140975</td>\n",
       "      <td>1</td>\n",
       "      <td>BROOKLYN</td>\n",
       "      <td>100</td>\n",
       "      <td>MADISON STREET</td>\n",
       "      <td>1990</td>\n",
       "      <td>20</td>\n",
       "      <td>3057205</td>\n",
       "      <td>A2</td>\n",
       "      <td>...</td>\n",
       "      <td>GRIEVE</td>\n",
       "      <td>None</td>\n",
       "      <td>592</td>\n",
       "      <td>HANCOCK STREET</td>\n",
       "      <td>BROOKLYN</td>\n",
       "      <td>NY</td>\n",
       "      <td>11233</td>\n",
       "      <td>9176747891</td>\n",
       "      <td>REPLACEMENT OF DAMAGED FLOOR JOISTS, FINISHES,...</td>\n",
       "      <td>07/02/2015 12:00:00 AM</td>\n",
       "    </tr>\n",
       "  </tbody>\n",
       "</table>\n",
       "<p>5 rows × 83 columns</p>\n",
       "</div>"
      ],
      "text/plain": [
       "   index      Job #  Doc #    Borough       House #  \\\n",
       "0   2800  320771198      1   BROOKLYN  68             \n",
       "1   6346  220416841      1      BRONX          1160   \n",
       "2   7727  321427595      2   BROOKLYN           441   \n",
       "3   7519  122059084      1  MANHATTAN           160   \n",
       "4   6898  321140975      1   BROOKLYN           100   \n",
       "\n",
       "                        Street Name  Block   Lot    Bin # Job Type  \\\n",
       "0  GRAND STREET                       2390    23  3062758       A1   \n",
       "1                   CROMWELL AVENUE   2496    34  2003023       A2   \n",
       "2                   COLUMBIA STREET    538     1  3334251       A2   \n",
       "3                      WEST 66TH ST   1137  7501  1077844       A2   \n",
       "4                    MADISON STREET   1990    20  3057205       A2   \n",
       "\n",
       "            ...                         Owner's Last Name  \\\n",
       "0           ...            DENNIS                           \n",
       "1           ...                               FINKELSTEIN   \n",
       "2           ...                                     MOORE   \n",
       "3           ...                                        LO   \n",
       "4           ...                                    GRIEVE   \n",
       "\n",
       "              Owner's Business Name Owner's House Number  \\\n",
       "0  N/A                                      68             \n",
       "1             1160 CROMWELL AVE LLC                  111   \n",
       "2   NEW YORK CITY HOUSING AUTHORITY                   90   \n",
       "3                              None                  160   \n",
       "4                              None                  592   \n",
       "\n",
       "           Owner'sHouse Street Name            City  State    Zip  \\\n",
       "0  GRAND STREET                      BROOKLYN           NY  11249   \n",
       "1                      BROOK STREET        SCARSTALE    NY  10585   \n",
       "2                     CHURCH STREET         NEW YORK    NY  10007   \n",
       "3                      WEST 66TH ST               NY    NY  10023   \n",
       "4                    HANCOCK STREET         BROOKLYN    NY  11233   \n",
       "\n",
       "  Owner'sPhone #                                    Job Description  \\\n",
       "0     7185992245  INTERIOR RENOVATION OF AN EXISTING 3 STORY PLU...   \n",
       "1     9144724900  HEREWITH TO PROPOSE INTERIOR RENOVATION BATH R...   \n",
       "2     2123068563  REMOVE EXISTING HVAC EQUIPMENT AND PROVIDE NEW...   \n",
       "3     2154785182  RENOVATION AND COMBINATION OF APTS 22G AND 22H...   \n",
       "4     9176747891  REPLACEMENT OF DAMAGED FLOOR JOISTS, FINISHES,...   \n",
       "\n",
       "               DOBRunDate  \n",
       "0  06/13/2013 12:00:00 AM  \n",
       "1  12/06/2014 12:00:00 AM  \n",
       "2  07/30/2016 12:00:00 AM  \n",
       "3  07/08/2014 12:00:00 AM  \n",
       "4  07/02/2015 12:00:00 AM  \n",
       "\n",
       "[5 rows x 83 columns]"
      ]
     },
     "execution_count": 12,
     "metadata": {},
     "output_type": "execute_result"
    }
   ],
   "source": [
    "plumbing.head()"
   ]
  },
  {
   "cell_type": "markdown",
   "metadata": {},
   "source": [
    "Now, let's look at the \"group by\" clause, which will count the number of postings for each owner business name."
   ]
  },
  {
   "cell_type": "code",
   "execution_count": 18,
   "metadata": {
    "collapsed": false
   },
   "outputs": [],
   "source": [
    "query = \"\"\"select \"Owner's Business Name\", count(*) as count from jobs \n",
    "    where \"Owner's Business Name\"!=\" \" \n",
    "    group by \"Owner's Business Name\" \"\"\"\n",
    "owner_counts = pd.read_sql_query(query,nyc_conn)"
   ]
  },
  {
   "cell_type": "code",
   "execution_count": 23,
   "metadata": {
    "collapsed": false
   },
   "outputs": [
    {
     "data": {
      "text/html": [
       "<div>\n",
       "<table border=\"1\" class=\"dataframe\">\n",
       "  <thead>\n",
       "    <tr style=\"text-align: right;\">\n",
       "      <th></th>\n",
       "      <th>Owner's Business Name</th>\n",
       "      <th>count</th>\n",
       "    </tr>\n",
       "  </thead>\n",
       "  <tbody>\n",
       "    <tr>\n",
       "      <th>0</th>\n",
       "      <td>20 EAST 35 STREET OWNERS CORP</td>\n",
       "      <td>1</td>\n",
       "    </tr>\n",
       "    <tr>\n",
       "      <th>1</th>\n",
       "      <td>204 FORSYTH STREET LLC</td>\n",
       "      <td>1</td>\n",
       "    </tr>\n",
       "    <tr>\n",
       "      <th>2</th>\n",
       "      <td>30 WEST 76TH ST REALTY LLC</td>\n",
       "      <td>2</td>\n",
       "    </tr>\n",
       "    <tr>\n",
       "      <th>3</th>\n",
       "      <td>40 FLATBUSH REALTY ASSOCIATES</td>\n",
       "      <td>1</td>\n",
       "    </tr>\n",
       "    <tr>\n",
       "      <th>4</th>\n",
       "      <td>BRONXWOOD HOME FOR THE AGED IN</td>\n",
       "      <td>1</td>\n",
       "    </tr>\n",
       "  </tbody>\n",
       "</table>\n",
       "</div>"
      ],
      "text/plain": [
       "              Owner's Business Name  count\n",
       "0    20 EAST 35 STREET OWNERS CORP       1\n",
       "1    204 FORSYTH STREET LLC              1\n",
       "2    30 WEST 76TH ST REALTY LLC          2\n",
       "3    40 FLATBUSH REALTY ASSOCIATES       1\n",
       "4    BRONXWOOD HOME FOR THE AGED IN      1"
      ]
     },
     "execution_count": 23,
     "metadata": {},
     "output_type": "execute_result"
    }
   ],
   "source": [
    "owner_counts.head()"
   ]
  },
  {
   "cell_type": "code",
   "execution_count": 27,
   "metadata": {
    "collapsed": false
   },
   "outputs": [
    {
     "data": {
      "image/png": "[encoded data removed]",
      "text/plain": [
       "<matplotlib.figure.Figure at 0x211acd68>"
      ]
     },
     "metadata": {},
     "output_type": "display_data"
    }
   ],
   "source": [
    "_ = owner_counts.plot.hist(\"count\",bins=20)"
   ]
  },
  {
   "cell_type": "markdown",
   "metadata": {},
   "source": [
    "Good thing we looked at this, there seem to be lots of outliers here, and so there are a few businesses with many postings."
   ]
  },
  {
   "cell_type": "code",
   "execution_count": 45,
   "metadata": {
    "collapsed": false
   },
   "outputs": [
    {
     "data": {
      "text/plain": [
       "10"
      ]
     },
     "execution_count": 45,
     "metadata": {},
     "output_type": "execute_result"
    }
   ],
   "source": [
    "(owner_counts['count'] > 1000).sum()"
   ]
  },
  {
   "cell_type": "code",
   "execution_count": 46,
   "metadata": {
    "collapsed": false
   },
   "outputs": [
    {
     "data": {
      "text/html": [
       "<div>\n",
       "<table border=\"1\" class=\"dataframe\">\n",
       "  <thead>\n",
       "    <tr style=\"text-align: right;\">\n",
       "      <th></th>\n",
       "      <th>Owner's Business Name</th>\n",
       "      <th>count</th>\n",
       "    </tr>\n",
       "  </thead>\n",
       "  <tbody>\n",
       "    <tr>\n",
       "      <th>58185</th>\n",
       "      <td>N/A</td>\n",
       "      <td>8682</td>\n",
       "    </tr>\n",
       "    <tr>\n",
       "      <th>58223</th>\n",
       "      <td>NA</td>\n",
       "      <td>1163</td>\n",
       "    </tr>\n",
       "    <tr>\n",
       "      <th>58994</th>\n",
       "      <td>NEW YORK CITY HOUSING AUTHORITY</td>\n",
       "      <td>1138</td>\n",
       "    </tr>\n",
       "    <tr>\n",
       "      <th>59515</th>\n",
       "      <td>NONE</td>\n",
       "      <td>1069</td>\n",
       "    </tr>\n",
       "    <tr>\n",
       "      <th>60359</th>\n",
       "      <td>NYC SCA</td>\n",
       "      <td>1003</td>\n",
       "    </tr>\n",
       "    <tr>\n",
       "      <th>60433</th>\n",
       "      <td>NYCHA</td>\n",
       "      <td>1336</td>\n",
       "    </tr>\n",
       "    <tr>\n",
       "      <th>61373</th>\n",
       "      <td>OWNER</td>\n",
       "      <td>1267</td>\n",
       "    </tr>\n",
       "    <tr>\n",
       "      <th>69643</th>\n",
       "      <td>SL GREEN REALTY CORP.</td>\n",
       "      <td>1227</td>\n",
       "    </tr>\n",
       "    <tr>\n",
       "      <th>70453</th>\n",
       "      <td>SPRING SCAFFOLDING LLC</td>\n",
       "      <td>1138</td>\n",
       "    </tr>\n",
       "    <tr>\n",
       "      <th>77249</th>\n",
       "      <td>VORNADO OFFICE MANAGEMENT</td>\n",
       "      <td>1303</td>\n",
       "    </tr>\n",
       "  </tbody>\n",
       "</table>\n",
       "</div>"
      ],
      "text/plain": [
       "                  Owner's Business Name  count\n",
       "58185  N/A                                8682\n",
       "58223  NA                                 1163\n",
       "58994   NEW YORK CITY HOUSING AUTHORITY   1138\n",
       "59515                              NONE   1069\n",
       "60359                           NYC SCA   1003\n",
       "60433                             NYCHA   1336\n",
       "61373                             OWNER   1267\n",
       "69643             SL GREEN REALTY CORP.   1227\n",
       "70453            SPRING SCAFFOLDING LLC   1138\n",
       "77249         VORNADO OFFICE MANAGEMENT   1303"
      ]
     },
     "execution_count": 46,
     "metadata": {},
     "output_type": "execute_result"
    }
   ],
   "source": [
    "owner_counts[owner_counts['count'] > 1000]"
   ]
  },
  {
   "cell_type": "markdown",
   "metadata": {},
   "source": [
    "So, we need to worry about the other encodings of NAs and the rest of these seem to be large organizations."
   ]
  },
  {
   "cell_type": "markdown",
   "metadata": {},
   "source": [
    "## sqlite3 package\n",
    "Now, let's use the sqlite3 package to make more sql statements other than the select queries.  We will create a table of owners, and then make a join with the jobs table to demonstrate join."
   ]
  },
  {
   "cell_type": "code",
   "execution_count": 37,
   "metadata": {
    "collapsed": false
   },
   "outputs": [],
   "source": [
    "conn3 = sqlite3.connect(sqlite_file)"
   ]
  },
  {
   "cell_type": "code",
   "execution_count": 38,
   "metadata": {
    "collapsed": true
   },
   "outputs": [],
   "source": [
    "c = conn3.cursor()"
   ]
  },
  {
   "cell_type": "code",
   "execution_count": 39,
   "metadata": {
    "collapsed": false
   },
   "outputs": [
    {
     "name": "stderr",
     "output_type": "stream",
     "text": [
      "ERROR:root:An unexpected error occurred while tokenizing input\n",
      "The following traceback may be corrupted or invalid\n",
      "The error message is: ('EOF in multi-line string', (1, 56))\n",
      "\n"
     ]
    },
    {
     "ename": "OperationalError",
     "evalue": "table owner already exists",
     "output_type": "error",
     "traceback": [
      "\u001b[0;31m\u001b[0m",
      "\u001b[0;31mOperationalError\u001b[0mTraceback (most recent call last)",
      "\u001b[0;32m<ipython-input-39-89b032dbec8d>\u001b[0m in \u001b[0;36m<module>\u001b[0;34m()\u001b[0m\n\u001b[1;32m      2\u001b[0m     \u001b[0mselect\u001b[0m \u001b[1;34m\"Owner's Last Name\"\u001b[0m\u001b[1;33m,\u001b[0m \u001b[1;34m\"Owner's First Name\"\u001b[0m\u001b[1;33m,\u001b[0m\u001b[1;33m\u001b[0m\u001b[0m\n\u001b[1;32m      3\u001b[0m     \u001b[1;34m\"Owner's Business Name\"\u001b[0m\u001b[1;33m,\u001b[0m \u001b[1;34m\"Owner's House Number\"\u001b[0m\u001b[1;33m,\u001b[0m \u001b[1;34m\"Owner'sPhone #\"\u001b[0m\u001b[1;33m,\u001b[0m\u001b[1;33m\u001b[0m\u001b[0m\n\u001b[0;32m----> 4\u001b[0;31m     count(*) from jobs group by \"Owner's Business Name\" \"\"\")\n\u001b[0m",
      "\u001b[0;31mOperationalError\u001b[0m: table owner already exists"
     ]
    }
   ],
   "source": [
    "c.execute(\"\"\"create table owner as\n",
    "    select \"Owner's Last Name\", \"Owner's First Name\", \n",
    "    \"Owner's Business Name\", \"Owner's House Number\", \"Owner'sPhone #\",\n",
    "    count(*) from jobs group by \"Owner's Business Name\" \"\"\")"
   ]
  },
  {
   "cell_type": "code",
   "execution_count": 40,
   "metadata": {
    "collapsed": false
   },
   "outputs": [
    {
     "data": {
      "text/plain": [
       "(u'HAYDUK______',\n",
       " u'RICHARD',\n",
       " u'__STUYTOWN PROPERTY SERVICES__',\n",
       " u'__276',\n",
       " 2124205000,\n",
       " 1,\n",
       " 80085)"
      ]
     },
     "execution_count": 40,
     "metadata": {},
     "output_type": "execute_result"
    }
   ],
   "source": [
    "c.execute(\"\"\"select *, count(*) from owner\"\"\")\n",
    "c.fetchone()"
   ]
  },
  {
   "cell_type": "code",
   "execution_count": 43,
   "metadata": {
    "collapsed": false
   },
   "outputs": [
    {
     "data": {
      "text/plain": [
       "(0,\n",
       " 121577873,\n",
       " 2,\n",
       " u'MANHATTAN',\n",
       " u'386         ',\n",
       " u'PARK AVENUE SOUTH               ',\n",
       " 857,\n",
       " 38,\n",
       " 1016890,\n",
       " u'A2',\n",
       " u'D',\n",
       " u'APPLICATION PROCESSED - ENTIRE          ',\n",
       " u'04/25/2013',\n",
       " u'OTHER',\n",
       " u'105',\n",
       " None,\n",
       " None,\n",
       " None,\n",
       " None,\n",
       " None,\n",
       " None,\n",
       " None,\n",
       " u'Y',\n",
       " u'X',\n",
       " u'X',\n",
       " u' ',\n",
       " u' ',\n",
       " u' ',\n",
       " u' ',\n",
       " u' ',\n",
       " u' ',\n",
       " u' ',\n",
       " u' ',\n",
       " u' ',\n",
       " u' ',\n",
       " u'               ',\n",
       " u'DOUGLAS        ',\n",
       " u'MASS                          ',\n",
       " u'PE',\n",
       " u'0058375',\n",
       " None,\n",
       " u'04/25/2013',\n",
       " u'04/25/2013',\n",
       " u'04/25/2013',\n",
       " None,\n",
       " None,\n",
       " None,\n",
       " u'$75000.00',\n",
       " u'$986.00',\n",
       " u'STANDARD',\n",
       " 0,\n",
       " 0,\n",
       " None,\n",
       " None,\n",
       " 0,\n",
       " 0,\n",
       " 0,\n",
       " 0,\n",
       " 0,\n",
       " 0,\n",
       " u'     ',\n",
       " u'     ',\n",
       " u'    ',\n",
       " u'    ',\n",
       " None,\n",
       " None,\n",
       " None,\n",
       " None,\n",
       " None,\n",
       " None,\n",
       " None,\n",
       " None,\n",
       " u'JAMES          ',\n",
       " u'MIGLIORE                      ',\n",
       " u'MACKLOWE MANAGEMENT             ',\n",
       " u'126         ',\n",
       " u'EAST 56TH STREET                ',\n",
       " u'NEW YORK       ',\n",
       " u'NY',\n",
       " 10222,\n",
       " 2125545837,\n",
       " u'GENERAL MECHANICAL & PLUMBING MODIFICATIONS AS PER PLANS FILED HEREWITH. NO      CHANGE TO USE, EGRESS OR OCCUPANCY                                              ',\n",
       " u'04/26/2013 12:00:00 AM',\n",
       " None,\n",
       " None,\n",
       " None,\n",
       " None,\n",
       " None,\n",
       " None)"
      ]
     },
     "execution_count": 43,
     "metadata": {},
     "output_type": "execute_result"
    }
   ],
   "source": [
    "c.execute(\"\"\"select * from jobs left join owner \n",
    "    on \"jobs.Owner's Business Name\"=\"owner.Owner's Business Name\" \"\"\")\n",
    "c.fetchone()"
   ]
  }
 ],
 "metadata": {
  "anaconda-cloud": {},
  "kernelspec": {
   "display_name": "Python 2",
   "language": "python",
   "name": "python2"
  },
  "language_info": {
   "codemirror_mode": {
    "name": "ipython",
    "version": 2
   },
   "file_extension": ".py",
   "mimetype": "text/x-python",
   "name": "python",
   "nbconvert_exporter": "python",
   "pygments_lexer": "ipython2",
   "version": "2.7.13"
  }
 },
 "nbformat": 4,
 "nbformat_minor": 1
}

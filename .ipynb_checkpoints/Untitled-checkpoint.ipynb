{
 "cells": [
  {
   "cell_type": "code",
   "execution_count": 1,
   "metadata": {
    "collapsed": true
   },
   "outputs": [],
   "source": [
    "import pandas as pd\n",
    "import numpy as np\n",
    "import os.path\n",
    "path = \"C:/Users/Xin~/Courses/Winter2017/STA141b/Final Project\"\n",
    "filenames = os.listdir(path)\n",
    "ft = pd.read_excel(path+\"/CALIFORNIA.xls\",header=5)\n",
    "ft = ft.rename(columns={\"County\":\"RegionName\"}).ix[:56,:]\n",
    "import re\n",
    "ft[\"RegionName\"] = [re.sub(\"[0-9]+\",\"\",x) for x in ft[\"RegionName\"]]\n"
   ]
  },
  {
   "cell_type": "code",
   "execution_count": 13,
   "metadata": {
    "collapsed": true
   },
   "outputs": [],
   "source": [
    "\n",
    "import requests\n",
    "import requests_cache\n",
    "from matplotlib import pyplot as plt\n",
    "import lxml.html\n",
    "import pandas as pd\n",
    "import re\n",
    "import json \n",
    "import lxml.html as lx\n",
    "import urllib\n",
    "from urllib2 import Request, urlopen, HTTPError\n",
    "from urlparse import urlunparse, urlparse, urljoin\n",
    "import numpy\n",
    "def fetch_page(url):\n",
    "    response = requests.get(url)\n",
    "    # Throw an error if status isn't 200 OK.\n",
    "    response.raise_for_status()\n",
    "    return response\n",
    "\n",
    "url=\"https://www.zillow.com/browse/homes/ca/\"\n",
    "requests_cache.install_cache(\"cache\")\n",
    "page = fetch_page(url)\n",
    "html = lx.fromstring(page.text)\n",
    "county_html = html.xpath('//main/div/div/ul/li/a')\n",
    "county = [i.text_content() for i in county_html]\n",
    "county_name = pd.DataFrame({\"RegionName\":[\" \".join(k) for k in [i.split(\" \")[:-2] for i in county]]})"
   ]
  },
  {
   "cell_type": "code",
   "execution_count": 16,
   "metadata": {
    "collapsed": false
   },
   "outputs": [
    {
     "data": {
      "text/html": [
       "<div>\n",
       "<table border=\"1\" class=\"dataframe\">\n",
       "  <thead>\n",
       "    <tr style=\"text-align: right;\">\n",
       "      <th></th>\n",
       "      <th>RegionName</th>\n",
       "    </tr>\n",
       "  </thead>\n",
       "  <tbody>\n",
       "    <tr>\n",
       "      <th>0</th>\n",
       "      <td>Los Angeles</td>\n",
       "    </tr>\n",
       "    <tr>\n",
       "      <th>1</th>\n",
       "      <td>Orange</td>\n",
       "    </tr>\n",
       "    <tr>\n",
       "      <th>2</th>\n",
       "      <td>San Diego</td>\n",
       "    </tr>\n",
       "    <tr>\n",
       "      <th>3</th>\n",
       "      <td>Riverside</td>\n",
       "    </tr>\n",
       "    <tr>\n",
       "      <th>4</th>\n",
       "      <td>San Bernardino</td>\n",
       "    </tr>\n",
       "  </tbody>\n",
       "</table>\n",
       "</div>"
      ],
      "text/plain": [
       "       RegionName\n",
       "0     Los Angeles\n",
       "1          Orange\n",
       "2       San Diego\n",
       "3       Riverside\n",
       "4  San Bernardino"
      ]
     },
     "execution_count": 16,
     "metadata": {},
     "output_type": "execute_result"
    }
   ],
   "source": [
    "county_name.head()"
   ]
  }
 ],
 "metadata": {
  "kernelspec": {
   "display_name": "Python [conda env:ipykernel_py2]",
   "language": "python",
   "name": "conda-env-ipykernel_py2-py"
  },
  "language_info": {
   "codemirror_mode": {
    "name": "ipython",
    "version": 2
   },
   "file_extension": ".py",
   "mimetype": "text/x-python",
   "name": "python",
   "nbconvert_exporter": "python",
   "pygments_lexer": "ipython2",
   "version": "2.7.13"
  }
 },
 "nbformat": 4,
 "nbformat_minor": 1
}

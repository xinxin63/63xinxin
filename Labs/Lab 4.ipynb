{
 "cells": [
  {
   "cell_type": "markdown",
   "metadata": {},
   "source": [
    "# Understanding college debt\n",
    "I want to see what types of universities have students in debt.  We will be using the college scorecard API from data.gov.  I am interested in a number of variables, these are admissions rate, tuition, median household income, student size, etc.\n",
    "\n",
    "It seems that the UC office of president <a href=\"http://www.ucop.edu/institutional-research-academic-planning/_files/College%20Scorecard%20Brief.pdf\">claims that the UC schools are a good deal</a> based on data from the college scorecard.\n",
    "\n",
    "You should go begin by getting an <a href=\"https://api.data.gov/signup/\">API key for data.gov</a>.  There are many data.gov APIs that you can use this key for and they have fairly relaxed limits on the number of requests.\n",
    "\n",
    "The documentation for the API can be found here...<br>\n",
    "https://github.com/RTICWDT/open-data-maker/blob/master/API.md<br>\n",
    "https://collegescorecard.ed.gov/data/\n",
    "\n",
    "Let's import some packages."
   ]
  },
  {
   "cell_type": "code",
   "execution_count": 1,
   "metadata": {
    "collapsed": true
   },
   "outputs": [],
   "source": [
    "from urllib2 import Request, urlopen, HTTPError\n",
    "from urlparse import urlunparse, urlparse\n",
    "import pandas as pd\n",
    "import json\n",
    "from matplotlib import pyplot as plt\n",
    "plt.style.use('ggplot')\n",
    "%matplotlib inline"
   ]
  },
  {
   "cell_type": "markdown",
   "metadata": {},
   "source": [
    "Here are some variable names that we will be interested in."
   ]
  },
  {
   "cell_type": "code",
   "execution_count": 2,
   "metadata": {
    "collapsed": true
   },
   "outputs": [],
   "source": [
    "varnames = \"\"\"id\n",
    "school.name\n",
    "school.degrees_awarded.predominant\n",
    "2014.admissions.admission_rate.overall\n",
    "2014.cost.tuition.in_state\n",
    "2014.cost.tuition.out_of_state\n",
    "2014.aid.median_debt.completers.overall\n",
    "2014.aid.median_debt.noncompleters\n",
    "2005.student.demographics.median_hh_income\n",
    "2005.student.demographics.poverty_rate\n",
    "2014.aid.federal_loan_rate\n",
    "2014.aid.pell_grant_rate\n",
    "2014.student.size\"\"\""
   ]
  },
  {
   "cell_type": "markdown",
   "metadata": {},
   "source": [
    "__Exercise (1)__ I would like to make a complicated query from the API.  An example query from the API is \n",
    "\n",
    "<pre>https://api.data.gov/ed/collegescorecard/v1/schools.json?school.degrees_awarded.predominant=3&_fields=school.name,\n",
    "2014.aid.pell_grant_rate&_sort=2014.student.size:desc&_page=1\n",
    "&_per_page=100&api_key=YOURKEY\n",
    "</pre>\n",
    "\n",
    "Which can be parsed as  \n",
    "1. the base url: https://api.data.gov/ed/collegescorecard/v1/schools.json, \n",
    "2. a filter of school.degrees_awarded.predominant=3, \n",
    "3. return the fields school.name,2014.aid.pell_grant_rate, \n",
    "4. sort by 2014.student.size in descending order, \n",
    "5. return 1 page of 100 entries, \n",
    "6. and use your api key\n",
    "\n",
    "You can find a more complete description: https://github.com/RTICWDT/open-data-maker/blob/master/API.md\n",
    "\n",
    "Fill in the following def that fits the following docstring, and gives the shown output.\n",
    "<pre>\n",
    "def query_url(key,fieldnames,filterstring,sortvar,numpages):\n",
    "    \"\"\"\n",
    "    This takes all of the necessary parameters to form a query \n",
    "    to college scorecard\n",
    "    Input: key (data.gov API key, string), fieldnames (list of variable \n",
    "      names), filterstring (string for filtering), sortvar (variable to \n",
    "      sort with by descending), numpages (number of pages to return)\n",
    "    Output: url (string)\n",
    "    \"\"\"\n",
    "\n",
    "\n",
    "query_url(key,fieldnames,'school.degrees_awarded.predominant=3',\n",
    "  '2014.student.size',2)\n",
    "\n",
    "https://api.data.gov/ed/collegescorecard/v1/schools.json?school.degrees_awarded.predominant=3&_fields=id,school.name,school.degrees_awarded.predominant,school.degree_urbanization,2014.admissions.admission_rate.overall,2014.cost.tuition.in_state,2014.cost.tuition.out_of_state,2014.aid.median_debt.completers.overall,2014.aid.median_debt.noncompleters,2005.student.demographics.median_hh_income,2005.student.demographics.poverty_rate,2014.aid.federal_loan_rate,2014.aid.pell_grant_rate,2014.student.size&_page=2&_per_page=100&_sort=2014.student.size:desc&api_key=YOURKEYHERE\n",
    "</pre>\n",
    "\n",
    "Try to reproduce the above behavior."
   ]
  },
  {
   "cell_type": "code",
   "execution_count": 3,
   "metadata": {
    "collapsed": true
   },
   "outputs": [],
   "source": [
    "key = \"kobWXP04Lsu1S36fRrBGBymVfMt4Rp3aJUc9pslo\"\n",
    "debt_uri = \"https://api.data.gov/ed/collegescorecard/v1/schools.json?school.degrees_awarded.predominant=3&_fields=school.name,2014.aid.pell_grant_rate&_sort=2014.student.size:desc&_page=1&_per_page=100&api_key={}\".format(key)\n",
    "request = Request(debt_uri)\n",
    "response = urlopen(request)\n",
    "rr = response.read()"
   ]
  },
  {
   "cell_type": "code",
   "execution_count": 4,
   "metadata": {
    "collapsed": false
   },
   "outputs": [
    {
     "name": "stdout",
     "output_type": "stream",
     "text": [
      "<type 'str'>\n",
      "{\"metadata\":{\"total\":2102,\"page\":1,\"per_page\":100},\"results\":[{\"school.name\":\"California State University-Fresno\",\"2014.aid.pell_grant_rate\":0.5699},{\"school.name\":\"University of Nebraska-Lincoln\",\"2014.aid.pell_grant_rate\":0.1989},{\"school.name\":\"Middle Tennessee State University\",\"2014.aid.pell_grant_rate\":0.4473},{\"school.name\":\"Old Dominion University\",\"2014.aid.pell_grant_rate\":0.35},{\"school...\n"
     ]
    }
   ],
   "source": [
    "print type(rr)\n",
    "print rr[0:400]+\"...\""
   ]
  },
  {
   "cell_type": "code",
   "execution_count": 5,
   "metadata": {
    "collapsed": false
   },
   "outputs": [
    {
     "name": "stdout",
     "output_type": "stream",
     "text": [
      "<type 'dict'>\n"
     ]
    },
    {
     "data": {
      "text/plain": [
       "[u'results', u'metadata']"
      ]
     },
     "execution_count": 5,
     "metadata": {},
     "output_type": "execute_result"
    }
   ],
   "source": [
    "js = json.loads(rr)\n",
    "print type(js)\n",
    "js.keys()"
   ]
  },
  {
   "cell_type": "code",
   "execution_count": 6,
   "metadata": {
    "collapsed": false
   },
   "outputs": [
    {
     "data": {
      "text/plain": [
       "[u'2014.aid.pell_grant_rate', u'school.name']"
      ]
     },
     "execution_count": 6,
     "metadata": {},
     "output_type": "execute_result"
    }
   ],
   "source": [
    "js[u'results'][1].keys()"
   ]
  },
  {
   "cell_type": "code",
   "execution_count": 7,
   "metadata": {
    "collapsed": false
   },
   "outputs": [
    {
     "name": "stdout",
     "output_type": "stream",
     "text": [
      "['https', 'api.data.gov', '/ed/collegescorecard/v1/schools.json', '', 'school.degrees_awarded.predominant=3&_fields=school.name,2014.aid.pell_grant_rate&_sort=2014.student.size:desc&_page=1&_per_page=100&api_key=kobWXP04Lsu1S36fRrBGBymVfMt4Rp3aJUc9pslo', '']\n"
     ]
    }
   ],
   "source": [
    "urll = list(urlparse(debt_uri))\n",
    "print urll"
   ]
  },
  {
   "cell_type": "code",
   "execution_count": 8,
   "metadata": {
    "collapsed": true
   },
   "outputs": [],
   "source": [
    "def query_url(key,fieldnames,filterstring,sortvar,numpages):\n",
    "    \"\"\"\n",
    "    This takes all of the necessary parameters to form a query \n",
    "    to college scorecard\n",
    "    Input: key (data.gov API key, string), fieldnames (list of variable \n",
    "      names), filterstring (string for filtering), sortvar (variable to \n",
    "      sort with by descending), numpages (number of pages to return)\n",
    "    Output: url (string)\n",
    "    \"\"\"\n",
    "    urll = list(urlparse(\"https://api.data.gov/ed/collegescorecard/v1/schools.json\"))\n",
    "    #method = \"ed/collegescorecard/v1/schools.json\"\n",
    "    params = \"{}&_fields={},2014.aid.pell_grant_rate&_sort={}:desc&_page={}&_per_page=100&api_key={}\".format(filterstring,fieldnames.strip(),sortvar,numpages,key)\n",
    "    urll[4] = params\n",
    "    return urlunparse(urll)"
   ]
  },
  {
   "cell_type": "code",
   "execution_count": 9,
   "metadata": {
    "collapsed": false
   },
   "outputs": [
    {
     "data": {
      "text/plain": [
       "'https://api.data.gov/ed/collegescorecard/v1/schools.json?school.degrees_awarded.predominant=3&_fields=id,school.name,school.degrees_awarded.predominant,2014.admissions.admission_rate.overall,2014.cost.tuition.in_state,2014.cost.tuition.out_of_state,2014.aid.median_debt.completers.overall,2014.aid.median_debt.noncompleters,2005.student.demographics.median_hh_income,2005.student.demographics.poverty_rate,2014.aid.federal_loan_rate,2014.aid.pell_grant_rate,2014.student.size,2014.aid.pell_grant_rate&_sort=2014.student.size:desc&_page=2&_per_page=100&api_key=kobWXP04Lsu1S36fRrBGBymVfMt4Rp3aJUc9pslo'"
      ]
     },
     "execution_count": 9,
     "metadata": {},
     "output_type": "execute_result"
    }
   ],
   "source": [
    "# there are multiple \"\\n\" new lines in the string (varnames). Use replace\n",
    "qr = query_url(key,varnames.replace(\"\\n\",\",\"),'school.degrees_awarded.predominant=3','2014.student.size',2)\n",
    "qr"
   ]
  },
  {
   "cell_type": "markdown",
   "metadata": {},
   "source": [
    "__Exercise (2)__ Make the query using Request and load the results into a DataFrame that makes sense."
   ]
  },
  {
   "cell_type": "code",
   "execution_count": 56,
   "metadata": {
    "collapsed": false
   },
   "outputs": [
    {
     "data": {
      "text/plain": [
       "[u'results', u'metadata']"
      ]
     },
     "execution_count": 56,
     "metadata": {},
     "output_type": "execute_result"
    }
   ],
   "source": [
    "\"\"\"\n",
    "request = Request(qr)\n",
    "response = urlopen(request)\n",
    "rr = response.read()\n",
    "js = json.loads(rr)\n",
    "js.keys()\n",
    "\"\"\""
   ]
  },
  {
   "cell_type": "code",
   "execution_count": 10,
   "metadata": {
    "collapsed": true
   },
   "outputs": [],
   "source": [
    "import requests\n",
    "import requests_cache\n",
    "# Set up a cache for requests.\n",
    "requests_cache.install_cache(\"cache\")\n"
   ]
  },
  {
   "cell_type": "code",
   "execution_count": 11,
   "metadata": {
    "collapsed": false
   },
   "outputs": [],
   "source": [
    "response = requests.get(query_url(key,varnames.replace(\"\\n\",\",\"),'school.degrees_awarded.predominant=3','2014.student.size',2))\n",
    "results = response.json()[u'results']\n",
    "results[1].keys()\n",
    "# join same keys dictionaries into a dataframe, simply make them as a list and put it in pd.DataFrame\n",
    "debts = pd.DataFrame([x for x in results])   "
   ]
  },
  {
   "cell_type": "code",
   "execution_count": 12,
   "metadata": {
    "collapsed": false
   },
   "outputs": [
    {
     "data": {
      "text/html": [
       "<div>\n",
       "<table border=\"1\" class=\"dataframe\">\n",
       "  <thead>\n",
       "    <tr style=\"text-align: right;\">\n",
       "      <th></th>\n",
       "      <th>2005.student.demographics.median_hh_income</th>\n",
       "      <th>2005.student.demographics.poverty_rate</th>\n",
       "      <th>2014.admissions.admission_rate.overall</th>\n",
       "      <th>2014.aid.federal_loan_rate</th>\n",
       "      <th>2014.aid.median_debt.completers.overall</th>\n",
       "      <th>2014.aid.median_debt.noncompleters</th>\n",
       "      <th>2014.aid.pell_grant_rate</th>\n",
       "      <th>2014.cost.tuition.in_state</th>\n",
       "      <th>2014.cost.tuition.out_of_state</th>\n",
       "      <th>2014.student.size</th>\n",
       "      <th>id</th>\n",
       "      <th>school.degrees_awarded.predominant</th>\n",
       "      <th>school.name</th>\n",
       "    </tr>\n",
       "  </thead>\n",
       "  <tbody>\n",
       "    <tr>\n",
       "      <th>0</th>\n",
       "      <td>21682.0</td>\n",
       "      <td>43.689999</td>\n",
       "      <td>NaN</td>\n",
       "      <td>0.3931</td>\n",
       "      <td>6789.5</td>\n",
       "      <td>3275.0</td>\n",
       "      <td>0.8644</td>\n",
       "      <td>5580</td>\n",
       "      <td>5580</td>\n",
       "      <td>12198</td>\n",
       "      <td>243346</td>\n",
       "      <td>3</td>\n",
       "      <td>Universidad Del Este</td>\n",
       "    </tr>\n",
       "    <tr>\n",
       "      <th>1</th>\n",
       "      <td>76546.0</td>\n",
       "      <td>6.540000</td>\n",
       "      <td>0.6201</td>\n",
       "      <td>0.5744</td>\n",
       "      <td>25000.0</td>\n",
       "      <td>10422.0</td>\n",
       "      <td>0.2884</td>\n",
       "      <td>12447</td>\n",
       "      <td>27400</td>\n",
       "      <td>12190</td>\n",
       "      <td>166513</td>\n",
       "      <td>3</td>\n",
       "      <td>University of Massachusetts-Lowell</td>\n",
       "    </tr>\n",
       "    <tr>\n",
       "      <th>2</th>\n",
       "      <td>48071.0</td>\n",
       "      <td>21.600000</td>\n",
       "      <td>0.3806</td>\n",
       "      <td>0.2225</td>\n",
       "      <td>11551.0</td>\n",
       "      <td>7000.0</td>\n",
       "      <td>0.5180</td>\n",
       "      <td>6389</td>\n",
       "      <td>13199</td>\n",
       "      <td>12175</td>\n",
       "      <td>190567</td>\n",
       "      <td>3</td>\n",
       "      <td>CUNY City College</td>\n",
       "    </tr>\n",
       "    <tr>\n",
       "      <th>3</th>\n",
       "      <td>43867.0</td>\n",
       "      <td>17.799999</td>\n",
       "      <td>0.6960</td>\n",
       "      <td>0.4002</td>\n",
       "      <td>18340.0</td>\n",
       "      <td>7624.0</td>\n",
       "      <td>0.4191</td>\n",
       "      <td>5950</td>\n",
       "      <td>19112</td>\n",
       "      <td>12171</td>\n",
       "      <td>188030</td>\n",
       "      <td>3</td>\n",
       "      <td>New Mexico State University-Main Campus</td>\n",
       "    </tr>\n",
       "    <tr>\n",
       "      <th>4</th>\n",
       "      <td>68463.0</td>\n",
       "      <td>9.010000</td>\n",
       "      <td>0.7077</td>\n",
       "      <td>0.5523</td>\n",
       "      <td>NaN</td>\n",
       "      <td>NaN</td>\n",
       "      <td>0.3857</td>\n",
       "      <td>11966</td>\n",
       "      <td>28390</td>\n",
       "      <td>12108</td>\n",
       "      <td>166638</td>\n",
       "      <td>3</td>\n",
       "      <td>University of Massachusetts-Boston</td>\n",
       "    </tr>\n",
       "  </tbody>\n",
       "</table>\n",
       "</div>"
      ],
      "text/plain": [
       "   2005.student.demographics.median_hh_income  \\\n",
       "0                                     21682.0   \n",
       "1                                     76546.0   \n",
       "2                                     48071.0   \n",
       "3                                     43867.0   \n",
       "4                                     68463.0   \n",
       "\n",
       "   2005.student.demographics.poverty_rate  \\\n",
       "0                               43.689999   \n",
       "1                                6.540000   \n",
       "2                               21.600000   \n",
       "3                               17.799999   \n",
       "4                                9.010000   \n",
       "\n",
       "   2014.admissions.admission_rate.overall  2014.aid.federal_loan_rate  \\\n",
       "0                                     NaN                      0.3931   \n",
       "1                                  0.6201                      0.5744   \n",
       "2                                  0.3806                      0.2225   \n",
       "3                                  0.6960                      0.4002   \n",
       "4                                  0.7077                      0.5523   \n",
       "\n",
       "   2014.aid.median_debt.completers.overall  \\\n",
       "0                                   6789.5   \n",
       "1                                  25000.0   \n",
       "2                                  11551.0   \n",
       "3                                  18340.0   \n",
       "4                                      NaN   \n",
       "\n",
       "   2014.aid.median_debt.noncompleters  2014.aid.pell_grant_rate  \\\n",
       "0                              3275.0                    0.8644   \n",
       "1                             10422.0                    0.2884   \n",
       "2                              7000.0                    0.5180   \n",
       "3                              7624.0                    0.4191   \n",
       "4                                 NaN                    0.3857   \n",
       "\n",
       "   2014.cost.tuition.in_state  2014.cost.tuition.out_of_state  \\\n",
       "0                        5580                            5580   \n",
       "1                       12447                           27400   \n",
       "2                        6389                           13199   \n",
       "3                        5950                           19112   \n",
       "4                       11966                           28390   \n",
       "\n",
       "   2014.student.size      id  school.degrees_awarded.predominant  \\\n",
       "0              12198  243346                                   3   \n",
       "1              12190  166513                                   3   \n",
       "2              12175  190567                                   3   \n",
       "3              12171  188030                                   3   \n",
       "4              12108  166638                                   3   \n",
       "\n",
       "                               school.name  \n",
       "0                     Universidad Del Este  \n",
       "1       University of Massachusetts-Lowell  \n",
       "2                        CUNY City College  \n",
       "3  New Mexico State University-Main Campus  \n",
       "4       University of Massachusetts-Boston  "
      ]
     },
     "execution_count": 12,
     "metadata": {},
     "output_type": "execute_result"
    }
   ],
   "source": [
    "debts.head()"
   ]
  },
  {
   "cell_type": "markdown",
   "metadata": {},
   "source": [
    "__Exercise (3)__ Produce scatterplots to demonstrate the associations between student debt (for 'completers') and median household income, pell grant rates, student poverty rate, tuition, and federal loan rate.  Do you have an explanation for the associations that you are seeing?  Are there some surprising associations."
   ]
  },
  {
   "cell_type": "code",
   "execution_count": 76,
   "metadata": {
    "collapsed": false
   },
   "outputs": [
    {
     "data": {
      "text/plain": [
       "Index([u'2005.student.demographics.median_hh_income',\n",
       "       u'2005.student.demographics.poverty_rate',\n",
       "       u'2014.admissions.admission_rate.overall',\n",
       "       u'2014.aid.federal_loan_rate',\n",
       "       u'2014.aid.median_debt.completers.overall',\n",
       "       u'2014.aid.median_debt.noncompleters', u'2014.aid.pell_grant_rate',\n",
       "       u'2014.cost.tuition.in_state', u'2014.cost.tuition.out_of_state',\n",
       "       u'2014.student.size', u'id', u'school.degrees_awarded.predominant',\n",
       "       u'school.name'],\n",
       "      dtype='object')"
      ]
     },
     "execution_count": 76,
     "metadata": {},
     "output_type": "execute_result"
    }
   ],
   "source": [
    "debts.keys()"
   ]
  },
  {
   "cell_type": "code",
   "execution_count": 52,
   "metadata": {
    "collapsed": false
   },
   "outputs": [
    {
     "data": {
      "image/png": "[encoded data removed]",
      "text/plain": [
       "<matplotlib.figure.Figure at 0xa95a518>"
      ]
     },
     "metadata": {},
     "output_type": "display_data"
    },
    {
     "data": {
      "image/png": "[encoded data removed]",
      "text/plain": [
       "<matplotlib.figure.Figure at 0x9f43e10>"
      ]
     },
     "metadata": {},
     "output_type": "display_data"
    },
    {
     "data": {
      "image/png": "[encoded data removed]",
      "text/plain": [
       "<matplotlib.figure.Figure at 0xa9e04e0>"
      ]
     },
     "metadata": {},
     "output_type": "display_data"
    }
   ],
   "source": [
    "# Matplotlib\n",
    "import matplotlib.pyplot as plt\n",
    "#(1) student debt (for 'completers') and median household income\n",
    "#(2) pell grant rates\n",
    "#(3) student poverty rate\n",
    "#(4) tuition\n",
    "#(5) federal loan rate\n",
    "\n",
    "def scatter(df,v1,v2):\n",
    "    plt.plot(df[v1], df[v2],\"o\")\n",
    "    #ax.set(xlabel = \"carat\", ylabel = \"price\")\n",
    "    \n",
    "fig,ax = plt.subplots(1,2,sharey=True)\n",
    "ax[0].scatter(debts[\"2005.student.demographics.median_hh_income\"],debts[\"2014.aid.median_debt.completers.overall\"])\n",
    "ax[0].set(ylabel=\"student debt\",xlabel=\"median hh income\")\n",
    "\n",
    "\n",
    "ax[1].scatter(debts[\"2014.aid.pell_grant_rate\"],debts[\"2014.aid.median_debt.completers.overall\"])\n",
    "#plt.ylabel(\"student debt\")\n",
    "ax[1].set(xlabel=\"pell grant rates\")\n",
    "plt.show()\n",
    "\n",
    "fig,ax = plt.subplots(1,2,sharey=True)\n",
    "ax[0].scatter(debts[\"2005.student.demographics.poverty_rate\"],debts[\"2014.aid.median_debt.completers.overall\"])\n",
    "ax[0].set(ylabel=\"student debt\",xlabel=\"poverty rate\")\n",
    "\n",
    "\n",
    "ax[1].scatter(debts[\"2014.cost.tuition.in_state\"],debts[\"2014.aid.median_debt.completers.overall\"])\n",
    "#plt.ylabel(\"student debt\")\n",
    "ax[1].set(xlabel=\"tuition\")\n",
    "plt.show()\n",
    "\n",
    "scatter(debts,\"2014.aid.federal_loan_rate\",\"2014.aid.median_debt.completers.overall\")\n",
    "plt.ylabel(\"student debt\")\n",
    "plt.xlabel(\"federal loan rate\")\n",
    "plt.show()"
   ]
  },
  {
   "cell_type": "markdown",
   "metadata": {},
   "source": [
    "<p> Student debt has positive linear relationship with median household income and federal loan rate. Student debt has negative linear relationship with pell grant rates and poverty rate. Student debt has curvilinear relationship with tuition. With the increasing trend of tuition, student debt first increase and then decrease. <br>\n",
    "It is suprising to know that student debt increases with the increase of median household income. Also, student debt decreases with the the increase of poverty rate.</p>"
   ]
  }
 ],
 "metadata": {
  "anaconda-cloud": {},
  "kernelspec": {
   "display_name": "Python 2",
   "language": "python",
   "name": "python2"
  },
  "language_info": {
   "codemirror_mode": {
    "name": "ipython",
    "version": 2
   },
   "file_extension": ".py",
   "mimetype": "text/x-python",
   "name": "python",
   "nbconvert_exporter": "python",
   "pygments_lexer": "ipython2",
   "version": "2.7.13"
  }
 },
 "nbformat": 4,
 "nbformat_minor": 1
}

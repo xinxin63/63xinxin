{
 "cells": [
  {
   "cell_type": "markdown",
   "metadata": {},
   "source": [
    "# Understanding college debt\n",
    "I want to see what types of universities have students in debt.  We will be using the college scorecard API from data.gov.  I am interested in a number of variables, these are admissions rate, tuition, median household income, student size, etc.\n",
    "\n",
    "It seems that the UC office of president <a href=\"http://www.ucop.edu/institutional-research-academic-planning/_files/College%20Scorecard%20Brief.pdf\">claims that the UC schools are a good deal</a> based on data from the college scorecard.\n",
    "\n",
    "You should go begin by getting an <a href=\"https://api.data.gov/signup/\">API key for data.gov</a>.  There are many data.gov APIs that you can use this key for and they have fairly relaxed limits on the number of requests.\n",
    "\n",
    "The documentation for the API can be found here...<br>\n",
    "https://github.com/RTICWDT/open-data-maker/blob/master/API.md<br>\n",
    "https://collegescorecard.ed.gov/data/\n",
    "\n",
    "Let's import some packages."
   ]
  },
  {
   "cell_type": "code",
   "execution_count": 1,
   "metadata": {
    "collapsed": true
   },
   "outputs": [],
   "source": [
    "from urllib2 import Request, urlopen\n",
    "import pandas as pd\n",
    "import json\n",
    "from matplotlib import pyplot as plt\n",
    "plt.style.use('ggplot')\n",
    "%matplotlib inline"
   ]
  },
  {
   "cell_type": "markdown",
   "metadata": {},
   "source": [
    "Here are some variable names that we will be interested in."
   ]
  },
  {
   "cell_type": "code",
   "execution_count": 304,
   "metadata": {
    "collapsed": true
   },
   "outputs": [],
   "source": [
    "varnames = \"\"\"id\n",
    "school.name\n",
    "school.degrees_awarded.predominant\n",
    "2014.admissions.admission_rate.overall\n",
    "2014.cost.tuition.in_state\n",
    "2014.cost.tuition.out_of_state\n",
    "2014.aid.median_debt.completers.overall\n",
    "2014.aid.median_debt.noncompleters\n",
    "2005.student.demographics.median_hh_income\n",
    "2005.student.demographics.poverty_rate\n",
    "2014.aid.federal_loan_rate\n",
    "2014.aid.pell_grant_rate\n",
    "2014.student.size\"\"\""
   ]
  },
  {
   "cell_type": "markdown",
   "metadata": {},
   "source": [
    "__Exercise (1)__ I would like to make a complicated query from the API.  An example query from the API is \n",
    "\n",
    "<pre>https://api.data.gov/ed/collegescorecard/v1/schools.json?school.degrees_awarded.predominant=3&_fields=school.name,\n",
    "2014.aid.pell_grant_rate&_sort=2014.student.size:desc&_page=1\n",
    "&_per_page=100&api_key=YOURKEY\n",
    "</pre>\n",
    "\n",
    "Which can be parsed as  \n",
    "1. the base url: https://api.data.gov/ed/collegescorecard/v1/schools.json, \n",
    "2. a filter of school.degrees_awarded.predominant=3, \n",
    "3. return the fields school.name,2014.aid.pell_grant_rate, \n",
    "4. sort by 2014.student.size in descending order, \n",
    "5. return 1 page of 100 entries, \n",
    "6. and use your api key\n",
    "\n",
    "You can find a more complete description: https://github.com/RTICWDT/open-data-maker/blob/master/API.md\n",
    "\n",
    "Fill in the following def that fits the following docstring, and gives the shown output.\n",
    "<pre>\n",
    "def query_url(key,fieldnames,filterstring,sortvar,numpages):\n",
    "    \"\"\"\n",
    "    This takes all of the necessary parameters to form a query \n",
    "    to college scorecard\n",
    "    Input: key (data.gov API key, string), fieldnames (list of variable \n",
    "      names), filterstring (string for filtering), sortvar (variable to \n",
    "      sort with by descending), numpages (number of pages to return)\n",
    "    Output: JSON object\n",
    "    \"\"\"\n",
    "\n",
    "\n",
    "query_url(key,fieldnames,'school.degrees_awarded.predominant=3',\n",
    "  '2014.student.size',2)\n",
    "\n",
    "https://api.data.gov/ed/collegescorecard/v1/schools.json?school.degrees_awarded.predominant=3,4&_fields=id,school.name,school.degrees_awarded.predominant,school.degree_urbanization,2014.admissions.admission_rate.overall,2014.cost.tuition.in_state,2014.cost.tuition.out_of_state,2014.aid.median_debt.completers.overall,2014.aid.median_debt.noncompleters,2005.student.demographics.median_hh_income,2005.student.demographics.poverty_rate,2014.aid.federal_loan_rate,2014.aid.pell_grant_rate,2014.student.size&_page=2&_per_page=100&_sort=2014.student.size:desc&api_key=YOURKEYHERE\n",
    "</pre>\n",
    "\n",
    "Try to reproduce the above behavior."
   ]
  },
  {
   "cell_type": "markdown",
   "metadata": {},
   "source": [
    "__Exercise (2)__ Make the query using Request and load the results into a DataFrame that makes sense."
   ]
  },
  {
   "cell_type": "markdown",
   "metadata": {},
   "source": [
    "__Exercise (3)__ Produce scatterplots to demonstrate the associations between student debt (for 'completers') and median household income, pell grant rates, student poverty rate, tuition, and federal loan rate.  Do you have an explanation for the associations that you are seeing?  Are there some surprising associations."
   ]
  }
 ],
 "metadata": {
  "anaconda-cloud": {},
  "kernelspec": {
   "display_name": "Python 2",
   "language": "python",
   "name": "python2"
  },
  "language_info": {
   "codemirror_mode": {
    "name": "ipython",
    "version": 2
   },
   "file_extension": ".py",
   "mimetype": "text/x-python",
   "name": "python",
   "nbconvert_exporter": "python",
   "pygments_lexer": "ipython2",
   "version": "2.7.13"
  }
 },
 "nbformat": 4,
 "nbformat_minor": 1
}

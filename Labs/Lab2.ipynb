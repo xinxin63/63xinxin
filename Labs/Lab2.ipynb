{
 "cells": [
  {
   "cell_type": "markdown",
   "metadata": {},
   "source": [
    "<h1>141B Lab 2: Pythonic things</h1>\n",
    "In this lab, you will add python code to the empty cells according to the instructions.  Tests with the intended output are included so that you can check your progress."
   ]
  },
  {
   "cell_type": "markdown",
   "metadata": {},
   "source": [
    "Exercise 1. create a function that takes a character as an argument, if it is 'a' then return 'A' otherwise return the original character. f('a') = 'A' and f(x) = x for all other x. "
   ]
  },
  {
   "cell_type": "code",
   "execution_count": 2,
   "metadata": {
    "collapsed": false
   },
   "outputs": [
    {
     "data": {
      "text/plain": [
       "'3'"
      ]
     },
     "execution_count": 2,
     "metadata": {},
     "output_type": "execute_result"
    }
   ],
   "source": [
    "def f(x):\n",
    "    if x == 'a':\n",
    "        return 'A'\n",
    "    else:\n",
    "        return x"
   ]
  },
  {
   "cell_type": "markdown",
   "metadata": {},
   "source": [
    "<ul>\n",
    "<li>Using a list comprehension, apply f to each element of 'banana' and return a list of characters.</li>\n",
    "<li>Try to do the same thing with the map function.</li>\n",
    "<li>Using ''.join concatenate the characters in the list to make a string (the result should be 'bAnAnA').</li>\n",
    "</ul>"
   ]
  },
  {
   "cell_type": "code",
   "execution_count": 8,
   "metadata": {
    "collapsed": false
   },
   "outputs": [
    {
     "data": {
      "text/plain": [
       "'bA'"
      ]
     },
     "execution_count": 8,
     "metadata": {},
     "output_type": "execute_result"
    }
   ],
   "source": [
    "def g(x):\n",
    "    wj=list(map(f,x))\n",
    "    return \"\".join(wj)"
   ]
  },
  {
   "cell_type": "markdown",
   "metadata": {},
   "source": [
    "Exercise 2. Sum the first 100 numbers in a for loop."
   ]
  },
  {
   "cell_type": "code",
   "execution_count": 26,
   "metadata": {
    "collapsed": false
   },
   "outputs": [
    {
     "name": "stdout",
     "output_type": "stream",
     "text": [
      "5050\n"
     ]
    }
   ],
   "source": [
    "s = 0\n",
    "for i in range(1,101):\n",
    "   s = s + i\n",
    "print s"
   ]
  },
  {
   "cell_type": "markdown",
   "metadata": {},
   "source": [
    "Sum the first 100 numbers, but using a generator expression."
   ]
  },
  {
   "cell_type": "code",
   "execution_count": 38,
   "metadata": {
    "collapsed": false
   },
   "outputs": [
    {
     "data": {
      "text/plain": [
       "5050"
      ]
     },
     "execution_count": 38,
     "metadata": {},
     "output_type": "execute_result"
    }
   ],
   "source": [
    "sum(x for x in range(1,101)) # less memory and time without using bracket inside the sum function"
   ]
  },
  {
   "cell_type": "markdown",
   "metadata": {},
   "source": [
    "Using a generator expression sum the square of the first 100 numbers."
   ]
  },
  {
   "cell_type": "code",
   "execution_count": 39,
   "metadata": {
    "collapsed": false
   },
   "outputs": [
    {
     "data": {
      "text/plain": [
       "338350"
      ]
     },
     "execution_count": 39,
     "metadata": {},
     "output_type": "execute_result"
    }
   ],
   "source": [
    "sum (x*x for x in range(1,101))"
   ]
  },
  {
   "cell_type": "markdown",
   "metadata": {},
   "source": [
    "Exercise 3. Let's create the Fibonacci sequence.  Start a list $Fib$ of where the first elements are 1,1, and follow the relation that\n",
    "$$Fib[i] = Fib[i-1] + Fib[i-2]$$\n",
    "Generate the Fibonacci numbers less than 1000 and store it in a list."
   ]
  },
  {
   "cell_type": "code",
   "execution_count": 41,
   "metadata": {
    "collapsed": false
   },
   "outputs": [],
   "source": [
    "Fib = []# list()\n",
    "Fib.append(1)\n",
    "Fib.append(2)\n",
    "for i in range(2,15):\n",
    "    f = Fib[i-1]+Fib[i-2]\n",
    "    Fib.append(f)\n",
    "    if Fib[i]>1000:\n",
    "        break"
   ]
  },
  {
   "cell_type": "code",
   "execution_count": 12,
   "metadata": {
    "collapsed": false
   },
   "outputs": [
    {
     "name": "stdout",
     "output_type": "stream",
     "text": [
      "[1, 1, 2, 3, 5, 8, 13, 21, 34, 55, 89, 144, 233, 377, 610, 987]\n"
     ]
    }
   ],
   "source": [
    "print Fib"
   ]
  },
  {
   "cell_type": "markdown",
   "metadata": {},
   "source": [
    "Exercise 4. Create a function called addone that does the following depending on the type of the input.  \n",
    "<ul>\n",
    "<li>Integer: add 1</li>\n",
    "<li>Float: add 1.0</li>\n",
    "<li>String: take the last character and increment the character to the next character in alphabetical order using ord and chr.</li>\n",
    "</ul>"
   ]
  },
  {
   "cell_type": "code",
   "execution_count": 112,
   "metadata": {
    "collapsed": false
   },
   "outputs": [],
   "source": [
    "from ast import literal_eval\n",
    "\n",
    "def get_type(input_data):\n",
    "    try:\n",
    "        return type(literal_eval(input_data))\n",
    "    except (ValueError, SyntaxError):\n",
    "        # A string, so return str\n",
    "        return str\n",
    "def addone(x):\n",
    "    if get_type(str(x))==int:\n",
    "        return x+1\n",
    "    else:\n",
    "        if get_type(str(x))==float:\n",
    "            return x+1.0\n",
    "        else:\n",
    "            y = x[len(x)-1]\n",
    "            y = ord(y)+1\n",
    "            y = chr(y)\n",
    "            x = list(x)\n",
    "            x[len(x)-1] = y\n",
    "            x = \"\".join(x)\n",
    "            return x  \n",
    "  "
   ]
  },
  {
   "cell_type": "code",
   "execution_count": 113,
   "metadata": {
    "collapsed": false
   },
   "outputs": [
    {
     "name": "stdout",
     "output_type": "stream",
     "text": [
      "bonfirf 2 4.2\n"
     ]
    }
   ],
   "source": [
    "print addone('bonfire'), addone(1), addone(3.2)"
   ]
  },
  {
   "cell_type": "markdown",
   "metadata": {},
   "source": [
    "Exercise 5. Create a function called commarem that removes all commas from a string.  Try to make it so that it will run faster if there is no comma in it.  Below is a timing of these two different inputs."
   ]
  },
  {
   "cell_type": "code",
   "execution_count": 114,
   "metadata": {
    "collapsed": false
   },
   "outputs": [],
   "source": [
    "def commarem(x):\n",
    "    x = x.replace(\",\",\"\")\n",
    "    return x"
   ]
  },
  {
   "cell_type": "code",
   "execution_count": 115,
   "metadata": {
    "collapsed": false
   },
   "outputs": [
    {
     "name": "stdout",
     "output_type": "stream",
     "text": [
      "The slowest run took 16.49 times longer than the fastest. This could mean that an intermediate result is being cached.\n",
      "1000000 loops, best of 3: 311 ns per loop\n"
     ]
    }
   ],
   "source": [
    "%timeit commarem('1300')"
   ]
  },
  {
   "cell_type": "code",
   "execution_count": 116,
   "metadata": {
    "collapsed": false
   },
   "outputs": [
    {
     "name": "stdout",
     "output_type": "stream",
     "text": [
      "The slowest run took 12.41 times longer than the fastest. This could mean that an intermediate result is being cached.\n",
      "1000000 loops, best of 3: 338 ns per loop\n"
     ]
    }
   ],
   "source": [
    "%timeit commarem('1,300')"
   ]
  },
  {
   "cell_type": "markdown",
   "metadata": {},
   "source": [
    "Exercise 6. Create a set of the 5 lower case vowels and the set of 21 lower case consonants by removing the set of vowels from the alphabet."
   ]
  },
  {
   "cell_type": "code",
   "execution_count": 6,
   "metadata": {
    "collapsed": false
   },
   "outputs": [
    {
     "name": "stdout",
     "output_type": "stream",
     "text": [
      "['a', 'e', 'i', 'o', 'u']\n",
      "['b', 'c', 'd', 'f', 'g', 'h', 'j', 'k', 'l', 'm', 'n', 'p', 'q', 'r', 's', 't', 'u', 'v', 'w', 'x', 'y', 'z']\n"
     ]
    }
   ],
   "source": [
    "vowels = [\"a\",\"e\",\"i\",\"o\",\"u\"]\n",
    "print vowels\n",
    "# ASCII for vowels\n",
    "indices = []\n",
    "for i in range(0,4):\n",
    "    indices.append(ord(vowels[i]))\n",
    "\n",
    "constants = [chr(i) for i in range(ord('a'),ord('z')+1) if i not in indices]  #create 26 letters\n",
    "print constants"
   ]
  },
  {
   "cell_type": "markdown",
   "metadata": {},
   "source": [
    "Create a function called newletters that takes a string, s, and returns a list of strings formed by appending a new character to s, with the provision that that character must be a vowel if the last letter of s is a consonant and must be a consonant if the last letter of s is a vowel."
   ]
  },
  {
   "cell_type": "code",
   "execution_count": 4,
   "metadata": {
    "collapsed": false
   },
   "outputs": [],
   "source": [
    "def newletters(s):\n",
    "    s = list(s)\n",
    "    last = s[len(s)-1]\n",
    "    new = []\n",
    "    if last in vowels:\n",
    "        for i in range(0,19):\n",
    "            s.append(constants[i])\n",
    "            new.append(\"\".join(s))\n",
    "            del s[-1]\n",
    "    else:\n",
    "        for j in range(0,5):  # in range it stops at 4 and start from 0\n",
    "            s.append(vowels[j])\n",
    "            new.append(\"\".join(s))\n",
    "            del s[-1]   # delete the last elements in a list\n",
    "    return new\n"
   ]
  },
  {
   "cell_type": "code",
   "execution_count": 180,
   "metadata": {
    "collapsed": false
   },
   "outputs": [
    {
     "data": {
      "text/plain": [
       "['banana', 'banane', 'banani', 'banano', 'bananu']"
      ]
     },
     "execution_count": 180,
     "metadata": {},
     "output_type": "execute_result"
    }
   ],
   "source": [
    "newletters('banan')"
   ]
  },
  {
   "cell_type": "code",
   "execution_count": 2,
   "metadata": {
    "collapsed": true
   },
   "outputs": [],
   "source": [
    "words = ['hamburge','chicke','hotdog','rubarb','tahini']"
   ]
  },
  {
   "cell_type": "markdown",
   "metadata": {},
   "source": [
    "For the words list above, using a generator expression, create a dictionary with the keys being the elements of words and the items being newletters applied to the key."
   ]
  },
  {
   "cell_type": "code",
   "execution_count": 7,
   "metadata": {
    "collapsed": false
   },
   "outputs": [
    {
     "data": {
      "text/plain": [
       "{'chicke': ['chickeb',\n",
       "  'chickec',\n",
       "  'chicked',\n",
       "  'chickef',\n",
       "  'chickeg',\n",
       "  'chickeh',\n",
       "  'chickej',\n",
       "  'chickek',\n",
       "  'chickel',\n",
       "  'chickem',\n",
       "  'chicken',\n",
       "  'chickep',\n",
       "  'chickeq',\n",
       "  'chicker',\n",
       "  'chickes',\n",
       "  'chicket',\n",
       "  'chickeu',\n",
       "  'chickev',\n",
       "  'chickew'],\n",
       " 'hamburge': ['hamburgeb',\n",
       "  'hamburgec',\n",
       "  'hamburged',\n",
       "  'hamburgef',\n",
       "  'hamburgeg',\n",
       "  'hamburgeh',\n",
       "  'hamburgej',\n",
       "  'hamburgek',\n",
       "  'hamburgel',\n",
       "  'hamburgem',\n",
       "  'hamburgen',\n",
       "  'hamburgep',\n",
       "  'hamburgeq',\n",
       "  'hamburger',\n",
       "  'hamburges',\n",
       "  'hamburget',\n",
       "  'hamburgeu',\n",
       "  'hamburgev',\n",
       "  'hamburgew'],\n",
       " 'hotdog': ['hotdoga', 'hotdoge', 'hotdogi', 'hotdogo', 'hotdogu'],\n",
       " 'rubarb': ['rubarba', 'rubarbe', 'rubarbi', 'rubarbo', 'rubarbu'],\n",
       " 'tahini': ['tahinib',\n",
       "  'tahinic',\n",
       "  'tahinid',\n",
       "  'tahinif',\n",
       "  'tahinig',\n",
       "  'tahinih',\n",
       "  'tahinij',\n",
       "  'tahinik',\n",
       "  'tahinil',\n",
       "  'tahinim',\n",
       "  'tahinin',\n",
       "  'tahinip',\n",
       "  'tahiniq',\n",
       "  'tahinir',\n",
       "  'tahinis',\n",
       "  'tahinit',\n",
       "  'tahiniu',\n",
       "  'tahiniv',\n",
       "  'tahiniw']}"
      ]
     },
     "execution_count": 7,
     "metadata": {},
     "output_type": "execute_result"
    }
   ],
   "source": [
    " {x: newletters(x) for x in words}"
   ]
  },
  {
   "cell_type": "code",
   "execution_count": 30,
   "metadata": {
    "collapsed": false
   },
   "outputs": [
    {
     "data": {
      "text/plain": [
       "['hotdoga', 'hotdogi', 'hotdoge', 'hotdogu', 'hotdogo']"
      ]
     },
     "execution_count": 30,
     "metadata": {},
     "output_type": "execute_result"
    }
   ],
   "source": [
    "newwords['hotdog']"
   ]
  }
 ],
 "metadata": {
  "anaconda-cloud": {},
  "kernelspec": {
   "display_name": "Python 2",
   "language": "python",
   "name": "python2"
  },
  "language_info": {
   "codemirror_mode": {
    "name": "ipython",
    "version": 2
   },
   "file_extension": ".py",
   "mimetype": "text/x-python",
   "name": "python",
   "nbconvert_exporter": "python",
   "pygments_lexer": "ipython2",
   "version": "2.7.13"
  }
 },
 "nbformat": 4,
 "nbformat_minor": 1
}

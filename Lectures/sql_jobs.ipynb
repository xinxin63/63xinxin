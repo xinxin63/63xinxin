{
 "cells": [
  {
   "cell_type": "markdown",
   "metadata": {},
   "source": [
    "## SQL with Pandas"
   ]
  },
  {
   "cell_type": "code",
   "execution_count": 1,
   "metadata": {
    "collapsed": false
   },
   "outputs": [],
   "source": [
    "import pandas as pd\n",
    "from matplotlib import pyplot as plt\n",
    "import sqlalchemy as sqla\n",
    "import sqlite3\n",
    "##????????\n",
    "%matplotlib inline  \n",
    "plt.style.use('ggplot')"
   ]
  },
  {
   "cell_type": "markdown",
   "metadata": {},
   "source": [
    "Let's create a reader object, which will make it so that we can read the csv in chunks.  When we specify the chunksize this indicates that we want an iterator that will reach these chunks into memory."
   ]
  },
  {
   "cell_type": "code",
   "execution_count": 2,
   "metadata": {
    "collapsed": false
   },
   "outputs": [],
   "source": [
    "nycjobs_reader = pd.read_csv('jobs.csv',\n",
    "                             chunksize=10000,low_memory=False,encoding='latin-1')"
   ]
  },
  {
   "cell_type": "code",
   "execution_count": 10,
   "metadata": {
    "collapsed": false
   },
   "outputs": [
    {
     "data": {
      "text/plain": [
       "Engine(sqlite:///../data/nycjobs.sqlite)"
      ]
     },
     "execution_count": 10,
     "metadata": {},
     "output_type": "execute_result"
    }
   ],
   "source": [
    "nyc_conn"
   ]
  },
  {
   "cell_type": "code",
   "execution_count": 3,
   "metadata": {
    "collapsed": false
   },
   "outputs": [],
   "source": [
    "nycjobs_chunk = nycjobs_reader.next()\n",
    "nyc_cols = nycjobs_chunk.columns"
   ]
  },
  {
   "cell_type": "markdown",
   "metadata": {},
   "source": [
    "Let's create the sqlite file, and create the connection."
   ]
  },
  {
   "cell_type": "code",
   "execution_count": 14,
   "metadata": {
    "collapsed": false
   },
   "outputs": [],
   "source": [
    "sqlite_file = './data/nycjobs.sqlite'\n",
    "nyc_conn = sqla.create_engine('sqlite:///' + sqlite_file)"
   ]
  },
  {
   "cell_type": "markdown",
   "metadata": {},
   "source": [
    "The following code will create the table jobs and fill it in."
   ]
  },
  {
   "cell_type": "code",
   "execution_count": 15,
   "metadata": {
    "collapsed": false
   },
   "outputs": [],
   "source": [
    "nycjobs_chunk.to_sql('jobs',nyc_conn,if_exists='replace')\n",
    "for nycjobs_chunk in nycjobs_reader:\n",
    "    nycjobs_chunk.to_sql('jobs',nyc_conn,if_exists='append')"
   ]
  },
  {
   "cell_type": "markdown",
   "metadata": {},
   "source": [
    "Now, we get to make our first query.  Let's count the number of records in the jobs table.  We can also count the number of plumbing jobs."
   ]
  },
  {
   "cell_type": "code",
   "execution_count": 16,
   "metadata": {
    "collapsed": false
   },
   "outputs": [
    {
     "data": {
      "text/html": [
       "<div>\n",
       "<table border=\"1\" class=\"dataframe\">\n",
       "  <thead>\n",
       "    <tr style=\"text-align: right;\">\n",
       "      <th></th>\n",
       "      <th>count(*)</th>\n",
       "    </tr>\n",
       "  </thead>\n",
       "  <tbody>\n",
       "    <tr>\n",
       "      <th>0</th>\n",
       "      <td>90000</td>\n",
       "    </tr>\n",
       "  </tbody>\n",
       "</table>\n",
       "</div>"
      ],
      "text/plain": [
       "   count(*)\n",
       "0     90000"
      ]
     },
     "execution_count": 16,
     "metadata": {},
     "output_type": "execute_result"
    }
   ],
   "source": [
    "pd.read_sql_query(\"select count(*) from jobs\",nyc_conn)"
   ]
  },
  {
   "cell_type": "code",
   "execution_count": 17,
   "metadata": {
    "collapsed": false
   },
   "outputs": [
    {
     "data": {
      "text/html": [
       "<div>\n",
       "<table border=\"1\" class=\"dataframe\">\n",
       "  <thead>\n",
       "    <tr style=\"text-align: right;\">\n",
       "      <th></th>\n",
       "      <th>count(*)</th>\n",
       "    </tr>\n",
       "  </thead>\n",
       "  <tbody>\n",
       "    <tr>\n",
       "      <th>0</th>\n",
       "      <td>28258</td>\n",
       "    </tr>\n",
       "  </tbody>\n",
       "</table>\n",
       "</div>"
      ],
      "text/plain": [
       "   count(*)\n",
       "0     28258"
      ]
     },
     "execution_count": 17,
     "metadata": {},
     "output_type": "execute_result"
    }
   ],
   "source": [
    "pd.read_sql_query(\"select count(*) from jobs where Plumbing='X'\",nyc_conn)"
   ]
  },
  {
   "cell_type": "code",
   "execution_count": 18,
   "metadata": {
    "collapsed": false
   },
   "outputs": [
    {
     "data": {
      "text/html": [
       "<div>\n",
       "<table border=\"1\" class=\"dataframe\">\n",
       "  <thead>\n",
       "    <tr style=\"text-align: right;\">\n",
       "      <th></th>\n",
       "      <th>Plumbing</th>\n",
       "      <th>count</th>\n",
       "    </tr>\n",
       "  </thead>\n",
       "  <tbody>\n",
       "    <tr>\n",
       "      <th>0</th>\n",
       "      <td>None</td>\n",
       "      <td>22405</td>\n",
       "    </tr>\n",
       "    <tr>\n",
       "      <th>1</th>\n",
       "      <td></td>\n",
       "      <td>39337</td>\n",
       "    </tr>\n",
       "    <tr>\n",
       "      <th>2</th>\n",
       "      <td>X</td>\n",
       "      <td>28258</td>\n",
       "    </tr>\n",
       "  </tbody>\n",
       "</table>\n",
       "</div>"
      ],
      "text/plain": [
       "  Plumbing  count\n",
       "0     None  22405\n",
       "1           39337\n",
       "2        X  28258"
      ]
     },
     "execution_count": 18,
     "metadata": {},
     "output_type": "execute_result"
    }
   ],
   "source": [
    "pd.read_sql_query(\"select Plumbing, count(*) as count from jobs group by Plumbing\",nyc_conn)"
   ]
  },
  {
   "cell_type": "markdown",
   "metadata": {},
   "source": [
    "We can also order these by the initial cost in descending order."
   ]
  },
  {
   "cell_type": "code",
   "execution_count": 19,
   "metadata": {
    "collapsed": true
   },
   "outputs": [],
   "source": [
    "sql_query = \"\"\"\n",
    "select * from jobs \n",
    "where Plumbing='X' \n",
    "order by \"Initial Cost\" desc\n",
    "\"\"\"\n",
    "plumbing = pd.read_sql_query(sql_query,nyc_conn)"
   ]
  },
  {
   "cell_type": "code",
   "execution_count": 20,
   "metadata": {
    "collapsed": false
   },
   "outputs": [
    {
     "data": {
      "text/html": [
       "<div>\n",
       "<table border=\"1\" class=\"dataframe\">\n",
       "  <thead>\n",
       "    <tr style=\"text-align: right;\">\n",
       "      <th></th>\n",
       "      <th>index</th>\n",
       "      <th>Unnamed: 0</th>\n",
       "      <th>Job #</th>\n",
       "      <th>Doc #</th>\n",
       "      <th>Borough</th>\n",
       "      <th>House #</th>\n",
       "      <th>Street Name</th>\n",
       "      <th>Block</th>\n",
       "      <th>Lot</th>\n",
       "      <th>Bin #</th>\n",
       "      <th>...</th>\n",
       "      <th>Owner's Last Name</th>\n",
       "      <th>Owner's Business Name</th>\n",
       "      <th>Owner's House Number</th>\n",
       "      <th>Owner'sHouse Street Name</th>\n",
       "      <th>City</th>\n",
       "      <th>State</th>\n",
       "      <th>Zip</th>\n",
       "      <th>Owner'sPhone #</th>\n",
       "      <th>Job Description</th>\n",
       "      <th>DOBRunDate</th>\n",
       "    </tr>\n",
       "  </thead>\n",
       "  <tbody>\n",
       "    <tr>\n",
       "      <th>0</th>\n",
       "      <td>12800</td>\n",
       "      <td>12800</td>\n",
       "      <td>320771198</td>\n",
       "      <td>1</td>\n",
       "      <td>BROOKLYN</td>\n",
       "      <td>68</td>\n",
       "      <td>GRAND STREET</td>\n",
       "      <td>2390</td>\n",
       "      <td>23</td>\n",
       "      <td>3062758</td>\n",
       "      <td>...</td>\n",
       "      <td>DENNIS</td>\n",
       "      <td>N/A</td>\n",
       "      <td>68</td>\n",
       "      <td>GRAND STREET</td>\n",
       "      <td>BROOKLYN</td>\n",
       "      <td>NY</td>\n",
       "      <td>11249</td>\n",
       "      <td>7185992245</td>\n",
       "      <td>INTERIOR RENOVATION OF AN EXISTING 3 STORY PLU...</td>\n",
       "      <td>06/13/2013 12:00:00 AM</td>\n",
       "    </tr>\n",
       "    <tr>\n",
       "      <th>1</th>\n",
       "      <td>97519</td>\n",
       "      <td>97519</td>\n",
       "      <td>122059084</td>\n",
       "      <td>1</td>\n",
       "      <td>MANHATTAN</td>\n",
       "      <td>160</td>\n",
       "      <td>WEST 66TH ST</td>\n",
       "      <td>1137</td>\n",
       "      <td>7501</td>\n",
       "      <td>1077844</td>\n",
       "      <td>...</td>\n",
       "      <td>LO</td>\n",
       "      <td>None</td>\n",
       "      <td>160</td>\n",
       "      <td>WEST 66TH ST</td>\n",
       "      <td>NY</td>\n",
       "      <td>NY</td>\n",
       "      <td>10023</td>\n",
       "      <td>2154785182</td>\n",
       "      <td>RENOVATION AND COMBINATION OF APTS 22G AND 22H...</td>\n",
       "      <td>07/08/2014 12:00:00 AM</td>\n",
       "    </tr>\n",
       "    <tr>\n",
       "      <th>2</th>\n",
       "      <td>89083</td>\n",
       "      <td>89083</td>\n",
       "      <td>340146498</td>\n",
       "      <td>1</td>\n",
       "      <td>BROOKLYN</td>\n",
       "      <td>134</td>\n",
       "      <td>AMITY STREET</td>\n",
       "      <td>296</td>\n",
       "      <td>17</td>\n",
       "      <td>3003125</td>\n",
       "      <td>...</td>\n",
       "      <td>HORNBECK</td>\n",
       "      <td>None</td>\n",
       "      <td>134</td>\n",
       "      <td>AMITY STREET</td>\n",
       "      <td>BROOKLYN</td>\n",
       "      <td>NY</td>\n",
       "      <td>11201</td>\n",
       "      <td>9178594901</td>\n",
       "      <td>PROPOSED INTERIOR RENOVATION TO MERGE EXISTING...</td>\n",
       "      <td>05/21/2014 12:00:00 AM</td>\n",
       "    </tr>\n",
       "    <tr>\n",
       "      <th>3</th>\n",
       "      <td>25690</td>\n",
       "      <td>25690</td>\n",
       "      <td>420874405</td>\n",
       "      <td>1</td>\n",
       "      <td>QUEENS</td>\n",
       "      <td>102-21</td>\n",
       "      <td>CORONA AVENUE</td>\n",
       "      <td>1983</td>\n",
       "      <td>66</td>\n",
       "      <td>4048758</td>\n",
       "      <td>...</td>\n",
       "      <td>RAYMOND</td>\n",
       "      <td>N/A</td>\n",
       "      <td>102-21</td>\n",
       "      <td>CORONA AVENUE</td>\n",
       "      <td>QUEENS</td>\n",
       "      <td>NY</td>\n",
       "      <td>11368</td>\n",
       "      <td>9174025031</td>\n",
       "      <td>CONVERT EXISTING 2 FAMILY DWELLING TO 3 FAMILY...</td>\n",
       "      <td>07/31/2013 12:00:00 AM</td>\n",
       "    </tr>\n",
       "    <tr>\n",
       "      <th>4</th>\n",
       "      <td>94952</td>\n",
       "      <td>94952</td>\n",
       "      <td>122017389</td>\n",
       "      <td>1</td>\n",
       "      <td>MANHATTAN</td>\n",
       "      <td>251</td>\n",
       "      <td>EAST 51 STREET</td>\n",
       "      <td>1325</td>\n",
       "      <td>24</td>\n",
       "      <td>1038472</td>\n",
       "      <td>...</td>\n",
       "      <td>BAKER</td>\n",
       "      <td>251 E 51 STREET CORP.</td>\n",
       "      <td>251</td>\n",
       "      <td>E 51 STREET</td>\n",
       "      <td>NEW YORK</td>\n",
       "      <td>NY</td>\n",
       "      <td>10022</td>\n",
       "      <td>4062201100</td>\n",
       "      <td>INTERIOR RENOVATION OF APT. 17C. MINOR NON BEA...</td>\n",
       "      <td>06/25/2014 12:00:00 AM</td>\n",
       "    </tr>\n",
       "  </tbody>\n",
       "</table>\n",
       "<p>5 rows × 84 columns</p>\n",
       "</div>"
      ],
      "text/plain": [
       "   index  Unnamed: 0      Job #  Doc #    Borough       House #  \\\n",
       "0  12800       12800  320771198      1   BROOKLYN  68             \n",
       "1  97519       97519  122059084      1  MANHATTAN           160   \n",
       "2  89083       89083  340146498      1   BROOKLYN           134   \n",
       "3  25690       25690  420874405      1     QUEENS  102-21         \n",
       "4  94952       94952  122017389      1  MANHATTAN           251   \n",
       "\n",
       "                        Street Name  Block   Lot    Bin #  \\\n",
       "0  GRAND STREET                       2390    23  3062758   \n",
       "1                      WEST 66TH ST   1137  7501  1077844   \n",
       "2                      AMITY STREET    296    17  3003125   \n",
       "3  CORONA AVENUE                      1983    66  4048758   \n",
       "4                    EAST 51 STREET   1325    24  1038472   \n",
       "\n",
       "            ...                         Owner's Last Name  \\\n",
       "0           ...            DENNIS                           \n",
       "1           ...                                        LO   \n",
       "2           ...                                  HORNBECK   \n",
       "3           ...            RAYMOND                          \n",
       "4           ...                                     BAKER   \n",
       "\n",
       "              Owner's Business Name Owner's House Number  \\\n",
       "0  N/A                                      68             \n",
       "1                              None                  160   \n",
       "2                              None                  134   \n",
       "3  N/A                                      102-21         \n",
       "4             251 E 51 STREET CORP.                  251   \n",
       "\n",
       "           Owner'sHouse Street Name            City  State    Zip  \\\n",
       "0  GRAND STREET                      BROOKLYN           NY  11249   \n",
       "1                      WEST 66TH ST               NY    NY  10023   \n",
       "2                      AMITY STREET         BROOKLYN    NY  11201   \n",
       "3  CORONA AVENUE                     QUEENS             NY  11368   \n",
       "4                       E 51 STREET         NEW YORK    NY  10022   \n",
       "\n",
       "  Owner'sPhone #                                    Job Description  \\\n",
       "0     7185992245  INTERIOR RENOVATION OF AN EXISTING 3 STORY PLU...   \n",
       "1     2154785182  RENOVATION AND COMBINATION OF APTS 22G AND 22H...   \n",
       "2     9178594901  PROPOSED INTERIOR RENOVATION TO MERGE EXISTING...   \n",
       "3     9174025031  CONVERT EXISTING 2 FAMILY DWELLING TO 3 FAMILY...   \n",
       "4     4062201100  INTERIOR RENOVATION OF APT. 17C. MINOR NON BEA...   \n",
       "\n",
       "               DOBRunDate  \n",
       "0  06/13/2013 12:00:00 AM  \n",
       "1  07/08/2014 12:00:00 AM  \n",
       "2  05/21/2014 12:00:00 AM  \n",
       "3  07/31/2013 12:00:00 AM  \n",
       "4  06/25/2014 12:00:00 AM  \n",
       "\n",
       "[5 rows x 84 columns]"
      ]
     },
     "execution_count": 20,
     "metadata": {},
     "output_type": "execute_result"
    }
   ],
   "source": [
    "plumbing.head()"
   ]
  },
  {
   "cell_type": "markdown",
   "metadata": {},
   "source": [
    "Now, let's look at the \"group by\" clause, which will count the number of postings for each owner business name."
   ]
  },
  {
   "cell_type": "code",
   "execution_count": 26,
   "metadata": {
    "collapsed": false
   },
   "outputs": [],
   "source": [
    "query = \"\"\"select \"Owner's Business Name\", count(*) as count from jobs \n",
    "    where \"Owner's Business Name\"!=\" \" \n",
    "    group by \"Owner's Business Name\" \"\"\"\n",
    "owner_counts = pd.read_sql_query(query,nyc_conn)"
   ]
  },
  {
   "cell_type": "code",
   "execution_count": 22,
   "metadata": {
    "collapsed": false
   },
   "outputs": [
    {
     "data": {
      "text/html": [
       "<div>\n",
       "<table border=\"1\" class=\"dataframe\">\n",
       "  <thead>\n",
       "    <tr style=\"text-align: right;\">\n",
       "      <th></th>\n",
       "      <th>Owner's Business Name</th>\n",
       "      <th>count</th>\n",
       "    </tr>\n",
       "  </thead>\n",
       "  <tbody>\n",
       "    <tr>\n",
       "      <th>0</th>\n",
       "      <td>20 EAST 35 STREET OWNERS CORP</td>\n",
       "      <td>1</td>\n",
       "    </tr>\n",
       "    <tr>\n",
       "      <th>1</th>\n",
       "      <td>30 WEST 76TH ST REALTY LLC</td>\n",
       "      <td>2</td>\n",
       "    </tr>\n",
       "    <tr>\n",
       "      <th>2</th>\n",
       "      <td>40 FLATBUSH REALTY ASSOCIATES</td>\n",
       "      <td>1</td>\n",
       "    </tr>\n",
       "    <tr>\n",
       "      <th>3</th>\n",
       "      <td>BRONXWOOD HOME FOR THE AGED IN</td>\n",
       "      <td>1</td>\n",
       "    </tr>\n",
       "    <tr>\n",
       "      <th>4</th>\n",
       "      <td>CHELSEA REALTY GROUP LLC</td>\n",
       "      <td>1</td>\n",
       "    </tr>\n",
       "  </tbody>\n",
       "</table>\n",
       "</div>"
      ],
      "text/plain": [
       "              Owner's Business Name  count\n",
       "0    20 EAST 35 STREET OWNERS CORP       1\n",
       "1    30 WEST 76TH ST REALTY LLC          2\n",
       "2    40 FLATBUSH REALTY ASSOCIATES       1\n",
       "3    BRONXWOOD HOME FOR THE AGED IN      1\n",
       "4    CHELSEA REALTY GROUP LLC            1"
      ]
     },
     "execution_count": 22,
     "metadata": {},
     "output_type": "execute_result"
    }
   ],
   "source": [
    "owner_counts.head()"
   ]
  },
  {
   "cell_type": "code",
   "execution_count": 23,
   "metadata": {
    "collapsed": false
   },
   "outputs": [
    {
     "data": {
      "image/png": "[encoded data removed]",
      "text/plain": [
       "<matplotlib.figure.Figure at 0x908a9b0>"
      ]
     },
     "metadata": {},
     "output_type": "display_data"
    }
   ],
   "source": [
    "_ = owner_counts.plot.hist(\"count\",bins=20)"
   ]
  },
  {
   "cell_type": "markdown",
   "metadata": {},
   "source": [
    "Good thing we looked at this, there seem to be lots of outliers here, and so there are a few businesses with many postings."
   ]
  },
  {
   "cell_type": "code",
   "execution_count": 24,
   "metadata": {
    "collapsed": false
   },
   "outputs": [
    {
     "data": {
      "text/plain": [
       "1"
      ]
     },
     "execution_count": 24,
     "metadata": {},
     "output_type": "execute_result"
    }
   ],
   "source": [
    "(owner_counts['count'] > 1000).sum()"
   ]
  },
  {
   "cell_type": "code",
   "execution_count": 27,
   "metadata": {
    "collapsed": false
   },
   "outputs": [
    {
     "data": {
      "text/html": [
       "<div>\n",
       "<table border=\"1\" class=\"dataframe\">\n",
       "  <thead>\n",
       "    <tr style=\"text-align: right;\">\n",
       "      <th></th>\n",
       "      <th>Owner's Business Name</th>\n",
       "      <th>count</th>\n",
       "    </tr>\n",
       "  </thead>\n",
       "  <tbody>\n",
       "    <tr>\n",
       "      <th>23315</th>\n",
       "      <td>N/A</td>\n",
       "      <td>7474</td>\n",
       "    </tr>\n",
       "  </tbody>\n",
       "</table>\n",
       "</div>"
      ],
      "text/plain": [
       "                  Owner's Business Name  count\n",
       "23315  N/A                                7474"
      ]
     },
     "execution_count": 27,
     "metadata": {},
     "output_type": "execute_result"
    }
   ],
   "source": [
    "owner_counts[owner_counts['count'] > 1000]"
   ]
  },
  {
   "cell_type": "markdown",
   "metadata": {},
   "source": [
    "So, we need to worry about the other encodings of NAs and the rest of these seem to be large organizations."
   ]
  },
  {
   "cell_type": "markdown",
   "metadata": {},
   "source": [
    "## sqlite3 package\n",
    "Now, let's use the sqlite3 package to make more sql statements other than the select queries.  We will create a table of owners, and then make a join with the jobs table to demonstrate join."
   ]
  },
  {
   "cell_type": "code",
   "execution_count": 28,
   "metadata": {
    "collapsed": false
   },
   "outputs": [],
   "source": [
    "conn3 = sqlite3.connect(sqlite_file) #sqlite_file is just a path: sqlite_file = './data/nycjobs.sqlite'"
   ]
  },
  {
   "cell_type": "code",
   "execution_count": 29,
   "metadata": {
    "collapsed": true
   },
   "outputs": [],
   "source": [
    "c = conn3.cursor() # ????"
   ]
  },
  {
   "cell_type": "code",
   "execution_count": 30,
   "metadata": {
    "collapsed": false
   },
   "outputs": [
    {
     "data": {
      "text/plain": [
       "<sqlite3.Cursor at 0x1a3c6ea0>"
      ]
     },
     "execution_count": 30,
     "metadata": {},
     "output_type": "execute_result"
    }
   ],
   "source": [
    "c.execute(\"\"\"create table owner as\n",
    "    select \"Owner's Last Name\", \"Owner's First Name\", \n",
    "    \"Owner's Business Name\", \"Owner's House Number\", \"Owner'sPhone #\",\n",
    "    count(*) from jobs group by \"Owner's Business Name\" \"\"\")"
   ]
  },
  {
   "cell_type": "code",
   "execution_count": 31,
   "metadata": {
    "collapsed": false
   },
   "outputs": [
    {
     "data": {
      "text/plain": [
       "(u'JACOB                         ',\n",
       " u'YUVAL          ',\n",
       " u'ZYP, INC.                       ',\n",
       " u'167-10      ',\n",
       " 7185410223L,\n",
       " 3,\n",
       " 32454)"
      ]
     },
     "execution_count": 31,
     "metadata": {},
     "output_type": "execute_result"
    }
   ],
   "source": [
    "c.execute(\"\"\"select *, count(*) from owner\"\"\")\n",
    "c.fetchone() # get the value???"
   ]
  },
  {
   "cell_type": "code",
   "execution_count": 32,
   "metadata": {
    "collapsed": false
   },
   "outputs": [
    {
     "data": {
      "text/plain": [
       "(10000,\n",
       " 10000,\n",
       " 420851536,\n",
       " 1,\n",
       " u'QUEENS',\n",
       " u'118-15      ',\n",
       " u'150 AVENUE                      ',\n",
       " 11819,\n",
       " 1,\n",
       " 4256899,\n",
       " u'A2',\n",
       " u'D',\n",
       " u'APPLICATION PROCESSED - ENTIRE          ',\n",
       " u'05/31/2013',\n",
       " u'1-2-3 FAMILY',\n",
       " u'410',\n",
       " None,\n",
       " None,\n",
       " None,\n",
       " None,\n",
       " None,\n",
       " None,\n",
       " None,\n",
       " u'Y',\n",
       " u' ',\n",
       " u' ',\n",
       " u' ',\n",
       " u' ',\n",
       " u' ',\n",
       " u' ',\n",
       " u' ',\n",
       " u' ',\n",
       " u'X',\n",
       " u' ',\n",
       " u' ',\n",
       " u'X',\n",
       " u'PARTIAL DEMO   ',\n",
       " u'RUSSELL        ',\n",
       " u'DANCE 111                     ',\n",
       " u'PE',\n",
       " u'0085457',\n",
       " u'Y',\n",
       " u'05/31/2013',\n",
       " u'05/31/2013',\n",
       " u'05/31/2013',\n",
       " None,\n",
       " None,\n",
       " None,\n",
       " u'$14220.00',\n",
       " u'$341.50',\n",
       " u'STANDARD',\n",
       " 0,\n",
       " 0,\n",
       " None,\n",
       " None,\n",
       " 0,\n",
       " 0,\n",
       " 2,\n",
       " 2,\n",
       " 25,\n",
       " 25,\n",
       " u'    2',\n",
       " u'    2',\n",
       " u'J-3 ',\n",
       " u'J-3 ',\n",
       " u'NOT APPLICABLE                          ',\n",
       " u'R3-2        ',\n",
       " None,\n",
       " None,\n",
       " None,\n",
       " None,\n",
       " None,\n",
       " None,\n",
       " u'RAMCHAN        ',\n",
       " u'SUKHOO                        ',\n",
       " u'N/A                             ',\n",
       " u'103-36      ',\n",
       " u'106 STREET                      ',\n",
       " u'QUEENS         ',\n",
       " u'NY',\n",
       " 11417,\n",
       " 6468318950L,\n",
       " u\"PROPOSED PARTIAL DEMOLITION TO INTERIOR AND EXTERIOR AT SIDE TO PORTION          (14'X26.72')OF FIRST AND SECOND FLOOR INCLUDING FIOUNDATION AND ROOF TO RESTORE  TO PRIOR LEGAL CONDITION TO SATISFY ECB VIOLATION # 34469682X  & 34417291Y AND   SEAL OFF TWO OPENINGS TO AN EXISTING 2 STY TWO FAMILY DETACHED RESIDENCE LOCATED AT 118-15 150 AVENUE QUEENS NY 11420.                                           \",\n",
       " u'06/01/2013 12:00:00 AM',\n",
       " None,\n",
       " None,\n",
       " None,\n",
       " None,\n",
       " None,\n",
       " None)"
      ]
     },
     "execution_count": 32,
     "metadata": {},
     "output_type": "execute_result"
    }
   ],
   "source": [
    "c.execute(\"\"\"select * from jobs left join owner \n",
    "    on \"jobs.Owner's Business Name\"=\"owner.Owner's Business Name\" \"\"\")\n",
    "c.fetchone()"
   ]
  }
 ],
 "metadata": {
  "anaconda-cloud": {},
  "kernelspec": {
   "display_name": "Python 2",
   "language": "python",
   "name": "python2"
  },
  "language_info": {
   "codemirror_mode": {
    "name": "ipython",
    "version": 2
   },
   "file_extension": ".py",
   "mimetype": "text/x-python",
   "name": "python",
   "nbconvert_exporter": "python",
   "pygments_lexer": "ipython2",
   "version": "2.7.13"
  }
 },
 "nbformat": 4,
 "nbformat_minor": 1
}

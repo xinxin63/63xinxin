{
 "cells": [
  {
   "cell_type": "markdown",
   "metadata": {},
   "source": [
    "# Assignment 4\n",
    "\n",
    "In this assignment, you'll combine the assignment 3 data set with nutrition data from the [USDA Food Composition Databases](https://ndb.nal.usda.gov/ndb/search/list). The CSV file `fresh.csv` contains the fresh fruits and vegetables data you extracted in assignment 3.\n",
    "\n",
    "The USDA Food Composition Databases have a [documented](https://ndb.nal.usda.gov/ndb/doc/index) web API that returns data in JSON format . You need a key in order to use the API. Only 1000 requests are allowed per hour, so it would be a good idea to use [caching][requests_cache].\n",
    "\n",
    "[Sign up for an API key here](https://api.data.gov/signup/). The key will work with any Data.gov API. You may need the key again later in the quarter, so make sure you save it.\n",
    "\n",
    "These modules may be useful:\n",
    "\n",
    "* [requests](http://docs.python-requests.org/en/master/user/quickstart/)\n",
    "* [requests_cache][]\n",
    "* [urlparse](https://docs.python.org/2/library/urlparse.html)\n",
    "* [pandas](http://pandas.pydata.org/pandas-docs/stable/)\n",
    "\n",
    "[requests_cache]: https://pypi.python.org/pypi/requests-cache"
   ]
  },
  {
   "cell_type": "markdown",
   "metadata": {},
   "source": [
    "__Exercise 1.1.__ Read the [search request documentation](https://ndb.nal.usda.gov/ndb/doc/apilist/API-SEARCH.md), then write a function called `ndb_search()` that makes a search request. The function should accept the search term as an argument. The function should return the search result items as a list (for 0 items, return an empty list).\n",
    "\n",
    "Note that the search url is: `https://api.nal.usda.gov/ndb/search`\n",
    "\n",
    "As an example, a search for `\"quail eggs\"` should return this list:\n",
    "\n",
    "```python\n",
    "[{u'ds': u'BL',\n",
    "  u'group': u'Branded Food Products Database',\n",
    "  u'name': u'CHAOKOH, QUAIL EGG IN BRINE, UPC: 044738074186',\n",
    "  u'ndbno': u'45094707',\n",
    "  u'offset': 0},\n",
    " {u'ds': u'BL',\n",
    "  u'group': u'Branded Food Products Database',\n",
    "  u'name': u'L&W, QUAIL EGGS, UPC: 024072000256',\n",
    "  u'ndbno': u'45094890',\n",
    "  u'offset': 1},\n",
    " {u'ds': u'BL',\n",
    "  u'group': u'Branded Food Products Database',\n",
    "  u'name': u'BUDDHA, QUAIL EGGS IN BRINE, UPC: 761934535098',\n",
    "  u'ndbno': u'45099560',\n",
    "  u'offset': 2},\n",
    " {u'ds': u'BL',\n",
    "  u'group': u'Branded Food Products Database',\n",
    "  u'name': u'GRAN SABANA, QUAIL EGGS, UPC: 819140010103',\n",
    "  u'ndbno': u'45169279',\n",
    "  u'offset': 3},\n",
    " {u'ds': u'BL',\n",
    "  u'group': u'Branded Food Products Database',\n",
    "  u'name': u\"D'ARTAGNAN, QUAIL EGGS, UPC: 736622102630\",\n",
    "  u'ndbno': u'45178254',\n",
    "  u'offset': 4},\n",
    " {u'ds': u'SR',\n",
    "  u'group': u'Dairy and Egg Products',\n",
    "  u'name': u'Egg, quail, whole, fresh, raw',\n",
    "  u'ndbno': u'01140',\n",
    "  u'offset': 5}]\n",
    "```\n",
    "\n",
    "As usual, make sure you document and test your function."
   ]
  },
  {
   "cell_type": "code",
   "execution_count": 1,
   "metadata": {
    "collapsed": true
   },
   "outputs": [],
   "source": [
    "import requests\n",
    "import requests_cache\n",
    "from urlparse import urlunparse, urlparse\n",
    "import pandas as pd\n",
    "# Set up a cache for requests.\n",
    "requests_cache.install_cache(\"cache\")\n",
    "key = \"HwyOBVU5rcviLL3vPvvL9EHaQWEdMMoh3Tw6yU7Z\""
   ]
  },
  {
   "cell_type": "code",
   "execution_count": 2,
   "metadata": {
    "collapsed": false
   },
   "outputs": [],
   "source": [
    "def ndb_search(item):\n",
    "    \"\"\"\n",
    "    input: name of the item. e.g: 'quail eggs'\n",
    "    output: list\n",
    "    \"\"\"\n",
    "    urll = list(urlparse(\"https://api.nal.usda.gov/ndb/search/?format=json&q=butter&sort=n&max=25&offset=0&api_key=DEMO_KEY\"))\n",
    "    #method = \"ed/collegescorecard/v1/schools.json\"\n",
    "    params = \"format=json&q={}&sort=n&max=25&offset=0&api_key=HwyOBVU5rcviLL3vPvvL9EHaQWEdMMoh3Tw6yU7Z\".format(item)\n",
    "    urll[4] = params\n",
    "    response = requests.get(urlunparse(urll))\n",
    "    # if there is no item in my search \n",
    "    if response.json().keys()==[u'errors']:\n",
    "        # print out the error message\n",
    "        return response.json()[u'errors'][u'error'][0][u'message']\n",
    "    # convert the output of ndb_search() to a data frame with pd.DataFrame()\n",
    "    else: \n",
    "        results = response.json()[u'list'][u'item']\n",
    "        return results"
   ]
  },
  {
   "cell_type": "code",
   "execution_count": 3,
   "metadata": {
    "collapsed": false
   },
   "outputs": [
    {
     "data": {
      "text/plain": [
       "[{u'ds': u'BL',\n",
       "  u'group': u'Branded Food Products Database',\n",
       "  u'name': u'BUDDHA, QUAIL EGGS IN BRINE, UPC: 761934535098',\n",
       "  u'ndbno': u'45099560',\n",
       "  u'offset': 0},\n",
       " {u'ds': u'BL',\n",
       "  u'group': u'Branded Food Products Database',\n",
       "  u'name': u'CHAOKOH, QUAIL EGG IN BRINE, UPC: 044738074186',\n",
       "  u'ndbno': u'45094707',\n",
       "  u'offset': 1},\n",
       " {u'ds': u'BL',\n",
       "  u'group': u'Branded Food Products Database',\n",
       "  u'name': u\"D'ARTAGNAN, QUAIL EGGS, UPC: 736622102630\",\n",
       "  u'ndbno': u'45178254',\n",
       "  u'offset': 2},\n",
       " {u'ds': u'SR',\n",
       "  u'group': u'Dairy and Egg Products',\n",
       "  u'name': u'Egg, quail, whole, fresh, raw',\n",
       "  u'ndbno': u'01140',\n",
       "  u'offset': 3},\n",
       " {u'ds': u'BL',\n",
       "  u'group': u'Branded Food Products Database',\n",
       "  u'name': u'GRAN SABANA, QUAIL EGGS, UPC: 819140010103',\n",
       "  u'ndbno': u'45169279',\n",
       "  u'offset': 4},\n",
       " {u'ds': u'BL',\n",
       "  u'group': u'Branded Food Products Database',\n",
       "  u'name': u'L&W, QUAIL EGGS, UPC: 024072000256',\n",
       "  u'ndbno': u'45094890',\n",
       "  u'offset': 5}]"
      ]
     },
     "execution_count": 3,
     "metadata": {},
     "output_type": "execute_result"
    }
   ],
   "source": [
    "ndb_search(\"quail eggs\")"
   ]
  },
  {
   "cell_type": "markdown",
   "metadata": {},
   "source": [
    "__Exercise 1.2.__ Use your search function to get NDB numbers for the foods in the `fresh.csv` file. It's okay if you don't get an NDB number for every food, but try to come up with a strategy that gets most of them. Discuss your strategy in a short paragraph.\n",
    "\n",
    "Hints:\n",
    "\n",
    "* The foods are all raw and unbranded.\n",
    "* You can test search terms with the [online search page](https://ndb.nal.usda.gov/ndb/search/list).\n",
    "* You can convert the output of `ndb_search()` to a data frame with `pd.DataFrame()`.\n",
    "* The string methods for [Python](https://docs.python.org/2/library/stdtypes.html#string-methods) and [Pandas](http://pandas.pydata.org/pandas-docs/stable/text.html#method-summary) are useful here. It's okay if you use _simple_ regular expressions in the Pandas methods, although this exercise can be solved without them.\n",
    "* You can merge data frames that have a column in common with `pd.merge()`."
   ]
  },
  {
   "cell_type": "markdown",
   "metadata": {},
   "source": [
    "<pre>(1) the foods are all raw and unbranded\n",
    " 1. so do I need to add \"raw\" for search?\n",
    "    If I do not add \"raw\" and search for cabbage, there will be results like :\"Cabbage,             kimchi\". kimchi is not a raw food.\n",
    "    Also, there are some name with \"raw\" and \"juice\". Apparently \"juice\" is not a fresh food.       We should drop these rows. \n",
    " 2. how to define unbranded items? \n",
    "    2.1 if the fruit is unbranded, the group column will have value \"Fruits and Fruit Juices\"       or \"Vegetables and Vegetable Products\". \n",
    "    2.2 But there are also exceptions like \"American Indian/Alaska Native Foods\".\n",
    "    2.3 for banded item, the value in group column will be \"Branded Food Products Database\"\n",
    " 3. if there is nothing find in the website by using \"food(the fresh name) raw\", try to find others\n",
    " 4. sometimes there will return multiple ndb numbers. Try to find the one that best matches food.\n",
    "   </pre>"
   ]
  },
  {
   "cell_type": "code",
   "execution_count": 4,
   "metadata": {
    "collapsed": false
   },
   "outputs": [],
   "source": [
    "# make some change of the ndb_search() function\n",
    "def ndb_search(item):\n",
    "    \"\"\"\n",
    "    input: name of the item. e.g: 'quail eggs'\n",
    "    output: dataframe with ndb numbers\n",
    "    \"\"\"\n",
    "    urll = list(urlparse(\"https://api.nal.usda.gov/ndb/search/?format=json&q=butter&sort=n&max=25&offset=0&api_key=DEMO_KEY\"))\n",
    "    #method = \"ed/collegescorecard/v1/schools.json\"\n",
    "    params = \"format=json&q={}&sort=n&max=25&offset=0&api_key=HwyOBVU5rcviLL3vPvvL9EHaQWEdMMoh3Tw6yU7Z\".format(item)\n",
    "    urll[4] = params\n",
    "    response = requests.get(urlunparse(urll))\n",
    "    # if there is no item in my search \n",
    "    if response.json().keys()==[u'errors']:\n",
    "        # print out the error message\n",
    "        return response.json()[u'errors'][u'error'][0][u'message']\n",
    "    # convert the output of ndb_search() to a data frame with pd.DataFrame()\n",
    "    else: \n",
    "        results = response.json()[u'list'][u'item']\n",
    "        return pd.DataFrame(results)"
   ]
  },
  {
   "cell_type": "code",
   "execution_count": 162,
   "metadata": {
    "collapsed": false
   },
   "outputs": [
    {
     "name": "stdout",
     "output_type": "stream",
     "text": [
      "(49, 7)\n",
      "47\n",
      "[25, 26]\n",
      "[36, 37]\n"
     ]
    }
   ],
   "source": [
    "fresh = pd.read_csv(\"fresh.csv\")\n",
    "print fresh.shape\n",
    "print len(fresh.food.unique())\n",
    "# results below shows that there are 47 unique food names however, there are 49 rows in fresh dataset.\n",
    "# By taking a look of the fresh dataframe, we know \"cucumbers\" and \"cabbage\" are the two items that got repeated.\n",
    "print fresh[fresh[\"food\"]==\"cucumbers\"].index.tolist()\n",
    "fresh = fresh.drop(26)\n",
    "print fresh[fresh[\"food\"]==\"cabbage\"].index.tolist()\n",
    "fresh = fresh.drop(36)"
   ]
  },
  {
   "cell_type": "code",
   "execution_count": 163,
   "metadata": {
    "collapsed": false
   },
   "outputs": [
    {
     "name": "stdout",
     "output_type": "stream",
     "text": [
      "               food  ndbno\n",
      "0        watermelon  09326\n",
      "0        cantaloupe  09181\n",
      "0        tangerines  09218\n",
      "0      strawberries  09140\n",
      "0             plums  09061\n",
      "0           oranges  09216\n",
      "0       raspberries  09302\n",
      "0       pomegranate  09286\n",
      "0         pineapple  09266\n",
      "0          apricots  09021\n",
      "0          honeydew  09184\n",
      "0            papaya  09226\n",
      "0          cherries  09001\n",
      "0           bananas  09040\n",
      "0            apples  09504\n",
      "0           peaches  09236\n",
      "0        nectarines  09191\n",
      "0             pears  09427\n",
      "0        grapefruit  09112\n",
      "0      blackberries  09042\n",
      "0            grapes  11974\n",
      "0       blueberries  09050\n",
      "0           mangoes  09176\n",
      "0         asparagus  11011\n",
      "0         cucumbers  11206\n",
      "0   lettuce_iceberg  11252\n",
      "0            onions  11282\n",
      "0     turnip_greens  11568\n",
      "0    mustard_greens  11270\n",
      "0          potatoes  11352\n",
      "0           cabbage  11116\n",
      "0    sweet_potatoes  11505\n",
      "0            radish  11430\n",
      "0          avocados  09037\n",
      "0              kale  11233\n",
      "0         artichoke  11007\n",
      "0              okra  11278\n",
      "0  brussels_sprouts  11098\n",
      "0        corn_sweet  11900\n"
     ]
    }
   ],
   "source": [
    "import re\n",
    "def get_food(item):\n",
    "    # only return the foods which are raw and unbranded\n",
    "    tb = ndb_search(item+\" \"+\"raw\")\n",
    "    if not type(tb) == unicode: # when type(tb) == unicode, tb has value \"u'Your search resulted in zero results.Change your parameters and try again'\"\n",
    "        tb_n = tb[(~tb.group.str.contains(\"Branded\")) & ((tb.group.str.contains(\"Fruit\")) | (tb.group.str.contains(\"Vegetable\")))&(~tb.name.str.contains(\"juice\"))].copy()\n",
    "        if not tb_n.empty:\n",
    "            #print type(re.search(\"^([0-9]+)(\\s)+([0-9]+).*\",str(tb_n.iloc[0:1,3])).group(3))\n",
    "            # type of tb_n.iloc[0:1,3]], I can not extract the number directly\n",
    "            # \"\\s\" means space\n",
    "            tb_n1 = pd.DataFrame({\"ndbno\": re.search(\"^([0-9]+)(\\s)+([0-9]+).*\",str(tb_n.iloc[0:1,3])).group(3),\"food\":[item]}) \n",
    "            # if i do not use regular expression, use df.x.str.strip(\"0characters\") and (\"change to numeric\": pd.to_numeric(df.x) x column in df)  \n",
    "            #tb_n1 = pd.DataFrame({\"ndbno\": pd.to_numeric(tb_n.iloc[0:1,3]),\"food\":[item]}) \n",
    "            # but return to numeric is not a good method because for string \"09876\" it will turn to be 9876. But what we want is exactly \"09876\"\n",
    "            #tb_n1 = pd.DataFrame({\"ndbno\": tb_n.ndbno.str.split(\"\\s\"),\"food\":[item]}) \n",
    "            # when I want to make a dataframe and there is only one object, I need to use [\"the value\"]. otherwise, there will be error\n",
    "            #tb_n1[\"fresh\"] = item\n",
    "            return tb_n1\n",
    "dbn_fresh = pd.concat([get_food(x) for x in fresh[\"food\"]])\n",
    "print dbn_fresh"
   ]
  },
  {
   "cell_type": "code",
   "execution_count": 197,
   "metadata": {
    "collapsed": false
   },
   "outputs": [
    {
     "data": {
      "text/html": [
       "<div>\n",
       "<table border=\"1\" class=\"dataframe\">\n",
       "  <thead>\n",
       "    <tr style=\"text-align: right;\">\n",
       "      <th></th>\n",
       "      <th>form</th>\n",
       "      <th>price_per_lb</th>\n",
       "      <th>yield</th>\n",
       "      <th>lb_per_cup</th>\n",
       "      <th>price_per_cup</th>\n",
       "      <th>food</th>\n",
       "      <th>type</th>\n",
       "    </tr>\n",
       "  </thead>\n",
       "  <tbody>\n",
       "    <tr>\n",
       "      <th>0</th>\n",
       "      <td>Fresh1</td>\n",
       "      <td>0.333412</td>\n",
       "      <td>0.520000</td>\n",
       "      <td>0.330693</td>\n",
       "      <td>0.212033</td>\n",
       "      <td>watermelon</td>\n",
       "      <td>fruit</td>\n",
       "    </tr>\n",
       "    <tr>\n",
       "      <th>1</th>\n",
       "      <td>Fresh1</td>\n",
       "      <td>0.535874</td>\n",
       "      <td>0.510000</td>\n",
       "      <td>0.374786</td>\n",
       "      <td>0.393800</td>\n",
       "      <td>cantaloupe</td>\n",
       "      <td>fruit</td>\n",
       "    </tr>\n",
       "    <tr>\n",
       "      <th>2</th>\n",
       "      <td>Fresh1</td>\n",
       "      <td>1.377962</td>\n",
       "      <td>0.740000</td>\n",
       "      <td>0.407855</td>\n",
       "      <td>0.759471</td>\n",
       "      <td>tangerines</td>\n",
       "      <td>fruit</td>\n",
       "    </tr>\n",
       "    <tr>\n",
       "      <th>3</th>\n",
       "      <td>Fresh1</td>\n",
       "      <td>2.358808</td>\n",
       "      <td>0.940000</td>\n",
       "      <td>0.319670</td>\n",
       "      <td>0.802171</td>\n",
       "      <td>strawberries</td>\n",
       "      <td>fruit</td>\n",
       "    </tr>\n",
       "    <tr>\n",
       "      <th>4</th>\n",
       "      <td>Fresh1</td>\n",
       "      <td>1.827416</td>\n",
       "      <td>0.940000</td>\n",
       "      <td>0.363763</td>\n",
       "      <td>0.707176</td>\n",
       "      <td>plums</td>\n",
       "      <td>fruit</td>\n",
       "    </tr>\n",
       "    <tr>\n",
       "      <th>5</th>\n",
       "      <td>Fresh1</td>\n",
       "      <td>1.035173</td>\n",
       "      <td>0.730000</td>\n",
       "      <td>0.407855</td>\n",
       "      <td>0.578357</td>\n",
       "      <td>oranges</td>\n",
       "      <td>fruit</td>\n",
       "    </tr>\n",
       "    <tr>\n",
       "      <th>6</th>\n",
       "      <td>Fresh1</td>\n",
       "      <td>6.975811</td>\n",
       "      <td>0.960000</td>\n",
       "      <td>0.319670</td>\n",
       "      <td>2.322874</td>\n",
       "      <td>raspberries</td>\n",
       "      <td>fruit</td>\n",
       "    </tr>\n",
       "    <tr>\n",
       "      <th>7</th>\n",
       "      <td>Fresh1</td>\n",
       "      <td>2.173590</td>\n",
       "      <td>0.560000</td>\n",
       "      <td>0.341717</td>\n",
       "      <td>1.326342</td>\n",
       "      <td>pomegranate</td>\n",
       "      <td>fruit</td>\n",
       "    </tr>\n",
       "    <tr>\n",
       "      <th>8</th>\n",
       "      <td>Fresh1</td>\n",
       "      <td>0.627662</td>\n",
       "      <td>0.510000</td>\n",
       "      <td>0.363763</td>\n",
       "      <td>0.447686</td>\n",
       "      <td>pineapple</td>\n",
       "      <td>fruit</td>\n",
       "    </tr>\n",
       "    <tr>\n",
       "      <th>9</th>\n",
       "      <td>Fresh1</td>\n",
       "      <td>3.040072</td>\n",
       "      <td>0.930000</td>\n",
       "      <td>0.363763</td>\n",
       "      <td>1.189102</td>\n",
       "      <td>apricots</td>\n",
       "      <td>fruit</td>\n",
       "    </tr>\n",
       "    <tr>\n",
       "      <th>10</th>\n",
       "      <td>Fresh1</td>\n",
       "      <td>0.796656</td>\n",
       "      <td>0.460000</td>\n",
       "      <td>0.374786</td>\n",
       "      <td>0.649077</td>\n",
       "      <td>honeydew</td>\n",
       "      <td>fruit</td>\n",
       "    </tr>\n",
       "    <tr>\n",
       "      <th>11</th>\n",
       "      <td>Fresh1</td>\n",
       "      <td>1.298012</td>\n",
       "      <td>0.620000</td>\n",
       "      <td>0.308647</td>\n",
       "      <td>0.646174</td>\n",
       "      <td>papaya</td>\n",
       "      <td>fruit</td>\n",
       "    </tr>\n",
       "    <tr>\n",
       "      <th>12</th>\n",
       "      <td>Fresh1</td>\n",
       "      <td>2.044683</td>\n",
       "      <td>0.760000</td>\n",
       "      <td>0.385809</td>\n",
       "      <td>1.037970</td>\n",
       "      <td>kiwi</td>\n",
       "      <td>fruit</td>\n",
       "    </tr>\n",
       "    <tr>\n",
       "      <th>13</th>\n",
       "      <td>Fresh1</td>\n",
       "      <td>3.592990</td>\n",
       "      <td>0.920000</td>\n",
       "      <td>0.341717</td>\n",
       "      <td>1.334548</td>\n",
       "      <td>cherries</td>\n",
       "      <td>fruit</td>\n",
       "    </tr>\n",
       "    <tr>\n",
       "      <th>14</th>\n",
       "      <td>Fresh1</td>\n",
       "      <td>0.566983</td>\n",
       "      <td>0.640000</td>\n",
       "      <td>0.330693</td>\n",
       "      <td>0.292965</td>\n",
       "      <td>bananas</td>\n",
       "      <td>fruit</td>\n",
       "    </tr>\n",
       "    <tr>\n",
       "      <th>15</th>\n",
       "      <td>Fresh1</td>\n",
       "      <td>1.567515</td>\n",
       "      <td>0.900000</td>\n",
       "      <td>0.242508</td>\n",
       "      <td>0.422373</td>\n",
       "      <td>apples</td>\n",
       "      <td>fruit</td>\n",
       "    </tr>\n",
       "    <tr>\n",
       "      <th>16</th>\n",
       "      <td>Fresh1</td>\n",
       "      <td>1.591187</td>\n",
       "      <td>0.960000</td>\n",
       "      <td>0.341717</td>\n",
       "      <td>0.566390</td>\n",
       "      <td>peaches</td>\n",
       "      <td>fruit</td>\n",
       "    </tr>\n",
       "    <tr>\n",
       "      <th>17</th>\n",
       "      <td>Fresh1</td>\n",
       "      <td>1.761148</td>\n",
       "      <td>0.910000</td>\n",
       "      <td>0.319670</td>\n",
       "      <td>0.618667</td>\n",
       "      <td>nectarines</td>\n",
       "      <td>fruit</td>\n",
       "    </tr>\n",
       "    <tr>\n",
       "      <th>18</th>\n",
       "      <td>Fresh1</td>\n",
       "      <td>1.461575</td>\n",
       "      <td>0.900000</td>\n",
       "      <td>0.363763</td>\n",
       "      <td>0.590740</td>\n",
       "      <td>pears</td>\n",
       "      <td>fruit</td>\n",
       "    </tr>\n",
       "    <tr>\n",
       "      <th>19</th>\n",
       "      <td>Fresh1</td>\n",
       "      <td>0.897802</td>\n",
       "      <td>0.490000</td>\n",
       "      <td>0.462971</td>\n",
       "      <td>0.848278</td>\n",
       "      <td>grapefruit</td>\n",
       "      <td>fruit</td>\n",
       "    </tr>\n",
       "    <tr>\n",
       "      <th>20</th>\n",
       "      <td>Fresh1</td>\n",
       "      <td>5.774708</td>\n",
       "      <td>0.960000</td>\n",
       "      <td>0.319670</td>\n",
       "      <td>1.922919</td>\n",
       "      <td>blackberries</td>\n",
       "      <td>fruit</td>\n",
       "    </tr>\n",
       "    <tr>\n",
       "      <th>21</th>\n",
       "      <td>Fresh1</td>\n",
       "      <td>2.093827</td>\n",
       "      <td>0.960000</td>\n",
       "      <td>0.330693</td>\n",
       "      <td>0.721266</td>\n",
       "      <td>grapes</td>\n",
       "      <td>fruit</td>\n",
       "    </tr>\n",
       "    <tr>\n",
       "      <th>22</th>\n",
       "      <td>Fresh1</td>\n",
       "      <td>4.734622</td>\n",
       "      <td>0.950000</td>\n",
       "      <td>0.319670</td>\n",
       "      <td>1.593177</td>\n",
       "      <td>blueberries</td>\n",
       "      <td>fruit</td>\n",
       "    </tr>\n",
       "    <tr>\n",
       "      <th>23</th>\n",
       "      <td>Fresh1</td>\n",
       "      <td>1.377563</td>\n",
       "      <td>0.710000</td>\n",
       "      <td>0.363763</td>\n",
       "      <td>0.705783</td>\n",
       "      <td>mangoes</td>\n",
       "      <td>fruit</td>\n",
       "    </tr>\n",
       "    <tr>\n",
       "      <th>24</th>\n",
       "      <td>Fresh1</td>\n",
       "      <td>3.213494</td>\n",
       "      <td>0.493835</td>\n",
       "      <td>0.396832</td>\n",
       "      <td>2.582272</td>\n",
       "      <td>asparagus</td>\n",
       "      <td>vegetables</td>\n",
       "    </tr>\n",
       "    <tr>\n",
       "      <th>25</th>\n",
       "      <td>Fresh, consumed with peel1</td>\n",
       "      <td>1.295931</td>\n",
       "      <td>0.970000</td>\n",
       "      <td>0.264555</td>\n",
       "      <td>0.353448</td>\n",
       "      <td>cucumbers</td>\n",
       "      <td>vegetables</td>\n",
       "    </tr>\n",
       "    <tr>\n",
       "      <th>27</th>\n",
       "      <td>Fresh1</td>\n",
       "      <td>1.213039</td>\n",
       "      <td>0.950000</td>\n",
       "      <td>0.242508</td>\n",
       "      <td>0.309655</td>\n",
       "      <td>lettuce_iceberg</td>\n",
       "      <td>vegetables</td>\n",
       "    </tr>\n",
       "    <tr>\n",
       "      <th>28</th>\n",
       "      <td>Fresh1</td>\n",
       "      <td>1.038107</td>\n",
       "      <td>0.900000</td>\n",
       "      <td>0.352740</td>\n",
       "      <td>0.406868</td>\n",
       "      <td>onions</td>\n",
       "      <td>vegetables</td>\n",
       "    </tr>\n",
       "    <tr>\n",
       "      <th>29</th>\n",
       "      <td>Fresh1</td>\n",
       "      <td>2.471749</td>\n",
       "      <td>0.750000</td>\n",
       "      <td>0.319670</td>\n",
       "      <td>1.053526</td>\n",
       "      <td>turnip_greens</td>\n",
       "      <td>vegetables</td>\n",
       "    </tr>\n",
       "    <tr>\n",
       "      <th>30</th>\n",
       "      <td>Fresh1</td>\n",
       "      <td>2.569235</td>\n",
       "      <td>0.840000</td>\n",
       "      <td>0.308647</td>\n",
       "      <td>0.944032</td>\n",
       "      <td>mustard_greens</td>\n",
       "      <td>vegetables</td>\n",
       "    </tr>\n",
       "    <tr>\n",
       "      <th>31</th>\n",
       "      <td>Fresh1</td>\n",
       "      <td>0.564320</td>\n",
       "      <td>0.811301</td>\n",
       "      <td>0.264555</td>\n",
       "      <td>0.184017</td>\n",
       "      <td>potatoes</td>\n",
       "      <td>vegetables</td>\n",
       "    </tr>\n",
       "    <tr>\n",
       "      <th>32</th>\n",
       "      <td>Fresh1</td>\n",
       "      <td>2.630838</td>\n",
       "      <td>1.160000</td>\n",
       "      <td>0.286601</td>\n",
       "      <td>0.650001</td>\n",
       "      <td>collard_greens</td>\n",
       "      <td>vegetables</td>\n",
       "    </tr>\n",
       "    <tr>\n",
       "      <th>33</th>\n",
       "      <td>Fresh1</td>\n",
       "      <td>2.139972</td>\n",
       "      <td>0.846575</td>\n",
       "      <td>0.275578</td>\n",
       "      <td>0.696606</td>\n",
       "      <td>green_beans</td>\n",
       "      <td>vegetables</td>\n",
       "    </tr>\n",
       "    <tr>\n",
       "      <th>34</th>\n",
       "      <td>Fresh1</td>\n",
       "      <td>1.172248</td>\n",
       "      <td>0.458554</td>\n",
       "      <td>0.451948</td>\n",
       "      <td>1.155360</td>\n",
       "      <td>acorn_squash</td>\n",
       "      <td>vegetables</td>\n",
       "    </tr>\n",
       "    <tr>\n",
       "      <th>35</th>\n",
       "      <td>Fresh1</td>\n",
       "      <td>2.277940</td>\n",
       "      <td>0.820000</td>\n",
       "      <td>0.264555</td>\n",
       "      <td>0.734926</td>\n",
       "      <td>red_peppers</td>\n",
       "      <td>vegetables</td>\n",
       "    </tr>\n",
       "    <tr>\n",
       "      <th>37</th>\n",
       "      <td>Fresh red cabbage1</td>\n",
       "      <td>1.056450</td>\n",
       "      <td>0.779107</td>\n",
       "      <td>0.330693</td>\n",
       "      <td>0.448412</td>\n",
       "      <td>cabbage</td>\n",
       "      <td>vegetables</td>\n",
       "    </tr>\n",
       "    <tr>\n",
       "      <th>38</th>\n",
       "      <td>Fresh1</td>\n",
       "      <td>0.918897</td>\n",
       "      <td>0.811301</td>\n",
       "      <td>0.440925</td>\n",
       "      <td>0.499400</td>\n",
       "      <td>sweet_potatoes</td>\n",
       "      <td>vegetables</td>\n",
       "    </tr>\n",
       "    <tr>\n",
       "      <th>39</th>\n",
       "      <td>Fresh1</td>\n",
       "      <td>1.639477</td>\n",
       "      <td>0.769500</td>\n",
       "      <td>0.396832</td>\n",
       "      <td>0.845480</td>\n",
       "      <td>summer_squash</td>\n",
       "      <td>vegetables</td>\n",
       "    </tr>\n",
       "    <tr>\n",
       "      <th>40</th>\n",
       "      <td>Fresh1</td>\n",
       "      <td>1.311629</td>\n",
       "      <td>0.900000</td>\n",
       "      <td>0.275578</td>\n",
       "      <td>0.401618</td>\n",
       "      <td>radish</td>\n",
       "      <td>vegetables</td>\n",
       "    </tr>\n",
       "    <tr>\n",
       "      <th>41</th>\n",
       "      <td>Fresh1</td>\n",
       "      <td>1.244737</td>\n",
       "      <td>0.714000</td>\n",
       "      <td>0.451948</td>\n",
       "      <td>0.787893</td>\n",
       "      <td>butternut_squash</td>\n",
       "      <td>vegetables</td>\n",
       "    </tr>\n",
       "    <tr>\n",
       "      <th>42</th>\n",
       "      <td>Fresh1</td>\n",
       "      <td>2.235874</td>\n",
       "      <td>0.740753</td>\n",
       "      <td>0.319670</td>\n",
       "      <td>0.964886</td>\n",
       "      <td>avocados</td>\n",
       "      <td>vegetables</td>\n",
       "    </tr>\n",
       "    <tr>\n",
       "      <th>43</th>\n",
       "      <td>Fresh1</td>\n",
       "      <td>2.807302</td>\n",
       "      <td>1.050000</td>\n",
       "      <td>0.286601</td>\n",
       "      <td>0.766262</td>\n",
       "      <td>kale</td>\n",
       "      <td>vegetables</td>\n",
       "    </tr>\n",
       "    <tr>\n",
       "      <th>44</th>\n",
       "      <td>Fresh1</td>\n",
       "      <td>2.213050</td>\n",
       "      <td>0.375309</td>\n",
       "      <td>0.385809</td>\n",
       "      <td>2.274967</td>\n",
       "      <td>artichoke</td>\n",
       "      <td>vegetables</td>\n",
       "    </tr>\n",
       "    <tr>\n",
       "      <th>45</th>\n",
       "      <td>Fresh1</td>\n",
       "      <td>3.213552</td>\n",
       "      <td>0.769474</td>\n",
       "      <td>0.352740</td>\n",
       "      <td>1.473146</td>\n",
       "      <td>okra</td>\n",
       "      <td>vegetables</td>\n",
       "    </tr>\n",
       "    <tr>\n",
       "      <th>46</th>\n",
       "      <td>Fresh1</td>\n",
       "      <td>1.410363</td>\n",
       "      <td>0.820000</td>\n",
       "      <td>0.264555</td>\n",
       "      <td>0.455022</td>\n",
       "      <td>green_peppers</td>\n",
       "      <td>vegetables</td>\n",
       "    </tr>\n",
       "    <tr>\n",
       "      <th>47</th>\n",
       "      <td>Fresh1</td>\n",
       "      <td>2.763553</td>\n",
       "      <td>1.060000</td>\n",
       "      <td>0.341717</td>\n",
       "      <td>0.890898</td>\n",
       "      <td>brussels_sprouts</td>\n",
       "      <td>vegetables</td>\n",
       "    </tr>\n",
       "    <tr>\n",
       "      <th>48</th>\n",
       "      <td>Fresh1</td>\n",
       "      <td>2.690623</td>\n",
       "      <td>0.540000</td>\n",
       "      <td>0.363763</td>\n",
       "      <td>1.812497</td>\n",
       "      <td>corn_sweet</td>\n",
       "      <td>vegetables</td>\n",
       "    </tr>\n",
       "  </tbody>\n",
       "</table>\n",
       "</div>"
      ],
      "text/plain": [
       "                          form  price_per_lb     yield  lb_per_cup  \\\n",
       "0                       Fresh1      0.333412  0.520000    0.330693   \n",
       "1                       Fresh1      0.535874  0.510000    0.374786   \n",
       "2                       Fresh1      1.377962  0.740000    0.407855   \n",
       "3                       Fresh1      2.358808  0.940000    0.319670   \n",
       "4                       Fresh1      1.827416  0.940000    0.363763   \n",
       "5                       Fresh1      1.035173  0.730000    0.407855   \n",
       "6                       Fresh1      6.975811  0.960000    0.319670   \n",
       "7                       Fresh1      2.173590  0.560000    0.341717   \n",
       "8                       Fresh1      0.627662  0.510000    0.363763   \n",
       "9                       Fresh1      3.040072  0.930000    0.363763   \n",
       "10                      Fresh1      0.796656  0.460000    0.374786   \n",
       "11                      Fresh1      1.298012  0.620000    0.308647   \n",
       "12                      Fresh1      2.044683  0.760000    0.385809   \n",
       "13                      Fresh1      3.592990  0.920000    0.341717   \n",
       "14                      Fresh1      0.566983  0.640000    0.330693   \n",
       "15                      Fresh1      1.567515  0.900000    0.242508   \n",
       "16                      Fresh1      1.591187  0.960000    0.341717   \n",
       "17                      Fresh1      1.761148  0.910000    0.319670   \n",
       "18                      Fresh1      1.461575  0.900000    0.363763   \n",
       "19                      Fresh1      0.897802  0.490000    0.462971   \n",
       "20                     Fresh1       5.774708  0.960000    0.319670   \n",
       "21                      Fresh1      2.093827  0.960000    0.330693   \n",
       "22                      Fresh1      4.734622  0.950000    0.319670   \n",
       "23                      Fresh1      1.377563  0.710000    0.363763   \n",
       "24                      Fresh1      3.213494  0.493835    0.396832   \n",
       "25  Fresh, consumed with peel1      1.295931  0.970000    0.264555   \n",
       "27                      Fresh1      1.213039  0.950000    0.242508   \n",
       "28                      Fresh1      1.038107  0.900000    0.352740   \n",
       "29                      Fresh1      2.471749  0.750000    0.319670   \n",
       "30                      Fresh1      2.569235  0.840000    0.308647   \n",
       "31                      Fresh1      0.564320  0.811301    0.264555   \n",
       "32                      Fresh1      2.630838  1.160000    0.286601   \n",
       "33                      Fresh1      2.139972  0.846575    0.275578   \n",
       "34                      Fresh1      1.172248  0.458554    0.451948   \n",
       "35                      Fresh1      2.277940  0.820000    0.264555   \n",
       "37          Fresh red cabbage1      1.056450  0.779107    0.330693   \n",
       "38                      Fresh1      0.918897  0.811301    0.440925   \n",
       "39                      Fresh1      1.639477  0.769500    0.396832   \n",
       "40                      Fresh1      1.311629  0.900000    0.275578   \n",
       "41                      Fresh1      1.244737  0.714000    0.451948   \n",
       "42                      Fresh1      2.235874  0.740753    0.319670   \n",
       "43                      Fresh1      2.807302  1.050000    0.286601   \n",
       "44                      Fresh1      2.213050  0.375309    0.385809   \n",
       "45                      Fresh1      3.213552  0.769474    0.352740   \n",
       "46                      Fresh1      1.410363  0.820000    0.264555   \n",
       "47                      Fresh1      2.763553  1.060000    0.341717   \n",
       "48                      Fresh1      2.690623  0.540000    0.363763   \n",
       "\n",
       "    price_per_cup              food        type  \n",
       "0        0.212033        watermelon       fruit  \n",
       "1        0.393800        cantaloupe       fruit  \n",
       "2        0.759471        tangerines       fruit  \n",
       "3        0.802171      strawberries       fruit  \n",
       "4        0.707176             plums       fruit  \n",
       "5        0.578357           oranges       fruit  \n",
       "6        2.322874       raspberries       fruit  \n",
       "7        1.326342       pomegranate       fruit  \n",
       "8        0.447686         pineapple       fruit  \n",
       "9        1.189102          apricots       fruit  \n",
       "10       0.649077          honeydew       fruit  \n",
       "11       0.646174            papaya       fruit  \n",
       "12       1.037970              kiwi       fruit  \n",
       "13       1.334548          cherries       fruit  \n",
       "14       0.292965           bananas       fruit  \n",
       "15       0.422373            apples       fruit  \n",
       "16       0.566390           peaches       fruit  \n",
       "17       0.618667        nectarines       fruit  \n",
       "18       0.590740             pears       fruit  \n",
       "19       0.848278        grapefruit       fruit  \n",
       "20       1.922919      blackberries       fruit  \n",
       "21       0.721266            grapes       fruit  \n",
       "22       1.593177       blueberries       fruit  \n",
       "23       0.705783           mangoes       fruit  \n",
       "24       2.582272         asparagus  vegetables  \n",
       "25       0.353448         cucumbers  vegetables  \n",
       "27       0.309655   lettuce_iceberg  vegetables  \n",
       "28       0.406868            onions  vegetables  \n",
       "29       1.053526     turnip_greens  vegetables  \n",
       "30       0.944032    mustard_greens  vegetables  \n",
       "31       0.184017          potatoes  vegetables  \n",
       "32       0.650001    collard_greens  vegetables  \n",
       "33       0.696606       green_beans  vegetables  \n",
       "34       1.155360      acorn_squash  vegetables  \n",
       "35       0.734926       red_peppers  vegetables  \n",
       "37       0.448412           cabbage  vegetables  \n",
       "38       0.499400    sweet_potatoes  vegetables  \n",
       "39       0.845480     summer_squash  vegetables  \n",
       "40       0.401618            radish  vegetables  \n",
       "41       0.787893  butternut_squash  vegetables  \n",
       "42       0.964886          avocados  vegetables  \n",
       "43       0.766262              kale  vegetables  \n",
       "44       2.274967         artichoke  vegetables  \n",
       "45       1.473146              okra  vegetables  \n",
       "46       0.455022     green_peppers  vegetables  \n",
       "47       0.890898  brussels_sprouts  vegetables  \n",
       "48       1.812497        corn_sweet  vegetables  "
      ]
     },
     "execution_count": 197,
     "metadata": {},
     "output_type": "execute_result"
    }
   ],
   "source": [
    "fresh"
   ]
  },
  {
   "cell_type": "code",
   "execution_count": 229,
   "metadata": {
    "collapsed": false
   },
   "outputs": [
    {
     "data": {
      "text/html": [
       "<div>\n",
       "<table border=\"1\" class=\"dataframe\">\n",
       "  <thead>\n",
       "    <tr style=\"text-align: right;\">\n",
       "      <th></th>\n",
       "      <th>form</th>\n",
       "      <th>price_per_lb</th>\n",
       "      <th>yield</th>\n",
       "      <th>lb_per_cup</th>\n",
       "      <th>price_per_cup</th>\n",
       "      <th>food</th>\n",
       "      <th>type</th>\n",
       "      <th>ndbno</th>\n",
       "    </tr>\n",
       "  </thead>\n",
       "  <tbody>\n",
       "    <tr>\n",
       "      <th>0</th>\n",
       "      <td>Fresh1</td>\n",
       "      <td>0.333412</td>\n",
       "      <td>0.52</td>\n",
       "      <td>0.330693</td>\n",
       "      <td>0.212033</td>\n",
       "      <td>watermelon</td>\n",
       "      <td>fruit</td>\n",
       "      <td>09326</td>\n",
       "    </tr>\n",
       "    <tr>\n",
       "      <th>1</th>\n",
       "      <td>Fresh1</td>\n",
       "      <td>0.535874</td>\n",
       "      <td>0.51</td>\n",
       "      <td>0.374786</td>\n",
       "      <td>0.393800</td>\n",
       "      <td>cantaloupe</td>\n",
       "      <td>fruit</td>\n",
       "      <td>09181</td>\n",
       "    </tr>\n",
       "    <tr>\n",
       "      <th>2</th>\n",
       "      <td>Fresh1</td>\n",
       "      <td>1.377962</td>\n",
       "      <td>0.74</td>\n",
       "      <td>0.407855</td>\n",
       "      <td>0.759471</td>\n",
       "      <td>tangerines</td>\n",
       "      <td>fruit</td>\n",
       "      <td>09218</td>\n",
       "    </tr>\n",
       "    <tr>\n",
       "      <th>3</th>\n",
       "      <td>Fresh1</td>\n",
       "      <td>2.358808</td>\n",
       "      <td>0.94</td>\n",
       "      <td>0.319670</td>\n",
       "      <td>0.802171</td>\n",
       "      <td>strawberries</td>\n",
       "      <td>fruit</td>\n",
       "      <td>09140</td>\n",
       "    </tr>\n",
       "    <tr>\n",
       "      <th>4</th>\n",
       "      <td>Fresh1</td>\n",
       "      <td>1.827416</td>\n",
       "      <td>0.94</td>\n",
       "      <td>0.363763</td>\n",
       "      <td>0.707176</td>\n",
       "      <td>plums</td>\n",
       "      <td>fruit</td>\n",
       "      <td>09061</td>\n",
       "    </tr>\n",
       "  </tbody>\n",
       "</table>\n",
       "</div>"
      ],
      "text/plain": [
       "     form  price_per_lb  yield  lb_per_cup  price_per_cup          food  \\\n",
       "0  Fresh1      0.333412   0.52    0.330693       0.212033    watermelon   \n",
       "1  Fresh1      0.535874   0.51    0.374786       0.393800    cantaloupe   \n",
       "2  Fresh1      1.377962   0.74    0.407855       0.759471    tangerines   \n",
       "3  Fresh1      2.358808   0.94    0.319670       0.802171  strawberries   \n",
       "4  Fresh1      1.827416   0.94    0.363763       0.707176         plums   \n",
       "\n",
       "    type  ndbno  \n",
       "0  fruit  09326  \n",
       "1  fruit  09181  \n",
       "2  fruit  09218  \n",
       "3  fruit  09140  \n",
       "4  fruit  09061  "
      ]
     },
     "execution_count": 229,
     "metadata": {},
     "output_type": "execute_result"
    }
   ],
   "source": [
    "# merge this two tables\n",
    "fresh_n = pd.merge(fresh,dbn_fresh,how=\"right\")\n",
    "fresh_n.head()"
   ]
  },
  {
   "cell_type": "markdown",
   "metadata": {},
   "source": [
    "__Exercise 1.3.__ Read the [food reports V2 documentation](https://ndb.nal.usda.gov/ndb/doc/apilist/API-FOOD-REPORTV2.md), then write a function called `ndb_report()` that requests a _basic_ food report. The function should accept the NDB number as an argument and return the list of nutrients for the food.\n",
    "\n",
    "Note that the report url is: `https://api.nal.usda.gov/ndb/V2/reports`\n",
    "\n",
    "For example, for `\"09279\"` (raw plums) the first element of the returned list should be:\n",
    "\n",
    "```python\n",
    "{u'group': u'Proximates',\n",
    " u'measures': [{u'eqv': 165.0,\n",
    "   u'eunit': u'g',\n",
    "   u'label': u'cup, sliced',\n",
    "   u'qty': 1.0,\n",
    "   u'value': u'143.93'},\n",
    "  {u'eqv': 66.0,\n",
    "   u'eunit': u'g',\n",
    "   u'label': u'fruit (2-1/8\" dia)',\n",
    "   u'qty': 1.0,\n",
    "   u'value': u'57.57'},\n",
    "  {u'eqv': 151.0,\n",
    "   u'eunit': u'g',\n",
    "   u'label': u'NLEA serving',\n",
    "   u'qty': 1.0,\n",
    "   u'value': u'131.72'}],\n",
    " u'name': u'Water',\n",
    " u'nutrient_id': u'255',\n",
    " u'unit': u'g',\n",
    " u'value': u'87.23'}\n",
    "```\n",
    "\n",
    "Be sure to document and test your function."
   ]
  },
  {
   "cell_type": "code",
   "execution_count": 165,
   "metadata": {
    "collapsed": true
   },
   "outputs": [],
   "source": [
    "def ndb_report(ndb):\n",
    "    \"\"\"\n",
    "    input: name of the ndb. e.g: '09279'\n",
    "    output: list of nutritions\n",
    "    \"\"\"\n",
    "    url = \"https://api.nal.usda.gov/ndb/V2/reports\"\n",
    "    response = requests.get(url, params = {\n",
    "        \"api_key\": \"HwyOBVU5rcviLL3vPvvL9EHaQWEdMMoh3Tw6yU7Z\",\n",
    "        \"ndbno\": ndb\n",
    "        #\"type\": \"b\"\n",
    "        #\"format\":\"json\"\n",
    "    })\n",
    "    # if there is no item in my search \n",
    "    if response.json().keys()==[u'errors']:\n",
    "        # print out the error message\n",
    "        return response.json()[u'errors'][u'error'][0][u'message']\n",
    "    # convert the output of ndb_search() to a data frame with pd.DataFrame()\n",
    "    else: \n",
    "        results = response.json()[u'foods'][0][u'food'][u'nutrients']\n",
    "        return results"
   ]
  },
  {
   "cell_type": "code",
   "execution_count": 166,
   "metadata": {
    "collapsed": false,
    "scrolled": false
   },
   "outputs": [
    {
     "data": {
      "text/html": [
       "<div>\n",
       "<table border=\"1\" class=\"dataframe\">\n",
       "  <thead>\n",
       "    <tr style=\"text-align: right;\">\n",
       "      <th></th>\n",
       "      <th>group</th>\n",
       "      <th>measures</th>\n",
       "      <th>name</th>\n",
       "      <th>nutrient_id</th>\n",
       "      <th>unit</th>\n",
       "      <th>value</th>\n",
       "    </tr>\n",
       "  </thead>\n",
       "  <tbody>\n",
       "    <tr>\n",
       "      <th>0</th>\n",
       "      <td>Proximates</td>\n",
       "      <td>[{u'eunit': u'g', u'eqv': 88.0, u'qty': 1.0, u...</td>\n",
       "      <td>Water</td>\n",
       "      <td>255</td>\n",
       "      <td>g</td>\n",
       "      <td>86.00</td>\n",
       "    </tr>\n",
       "    <tr>\n",
       "      <th>1</th>\n",
       "      <td>Proximates</td>\n",
       "      <td>[{u'eunit': u'g', u'eqv': 88.0, u'qty': 1.0, u...</td>\n",
       "      <td>Energy</td>\n",
       "      <td>208</td>\n",
       "      <td>kcal</td>\n",
       "      <td>43</td>\n",
       "    </tr>\n",
       "    <tr>\n",
       "      <th>2</th>\n",
       "      <td>Proximates</td>\n",
       "      <td>[{u'eunit': u'g', u'eqv': 88.0, u'qty': 1.0, u...</td>\n",
       "      <td>Protein</td>\n",
       "      <td>203</td>\n",
       "      <td>g</td>\n",
       "      <td>3.38</td>\n",
       "    </tr>\n",
       "    <tr>\n",
       "      <th>3</th>\n",
       "      <td>Proximates</td>\n",
       "      <td>[{u'eunit': u'g', u'eqv': 88.0, u'qty': 1.0, u...</td>\n",
       "      <td>Total lipid (fat)</td>\n",
       "      <td>204</td>\n",
       "      <td>g</td>\n",
       "      <td>0.30</td>\n",
       "    </tr>\n",
       "    <tr>\n",
       "      <th>4</th>\n",
       "      <td>Proximates</td>\n",
       "      <td>[{u'eunit': u'g', u'eqv': 88.0, u'qty': 1.0, u...</td>\n",
       "      <td>Carbohydrate, by difference</td>\n",
       "      <td>205</td>\n",
       "      <td>g</td>\n",
       "      <td>8.95</td>\n",
       "    </tr>\n",
       "  </tbody>\n",
       "</table>\n",
       "</div>"
      ],
      "text/plain": [
       "        group                                           measures  \\\n",
       "0  Proximates  [{u'eunit': u'g', u'eqv': 88.0, u'qty': 1.0, u...   \n",
       "1  Proximates  [{u'eunit': u'g', u'eqv': 88.0, u'qty': 1.0, u...   \n",
       "2  Proximates  [{u'eunit': u'g', u'eqv': 88.0, u'qty': 1.0, u...   \n",
       "3  Proximates  [{u'eunit': u'g', u'eqv': 88.0, u'qty': 1.0, u...   \n",
       "4  Proximates  [{u'eunit': u'g', u'eqv': 88.0, u'qty': 1.0, u...   \n",
       "\n",
       "                          name nutrient_id  unit  value  \n",
       "0                        Water         255     g  86.00  \n",
       "1                       Energy         208  kcal     43  \n",
       "2                      Protein         203     g   3.38  \n",
       "3            Total lipid (fat)         204     g   0.30  \n",
       "4  Carbohydrate, by difference         205     g   8.95  "
      ]
     },
     "execution_count": 166,
     "metadata": {},
     "output_type": "execute_result"
    }
   ],
   "source": [
    "pd.DataFrame(ndb_report(\"11098\")).head()"
   ]
  },
  {
   "cell_type": "markdown",
   "metadata": {},
   "source": [
    "__Exercise 1.4.__ Which foods provide the best combination of price, yield, and nutrition? You can use kilocalories as a measure of \"nutrition\" here, but more a detailed analysis is better. Use plots to support your analysis."
   ]
  },
  {
   "cell_type": "markdown",
   "metadata": {
    "collapsed": true
   },
   "source": [
    "<pre><h3>1.Add a column that named \"nutrition\"? </h3>\n",
    "    <p>no, there are many kinds of nutrition. I will choose those noramlly shown in the package: protein; Carbohydrate; Sodium; cholesterol; Energy</p>\n",
    "<h3>2. do I need to transfer the unit here? </h3>\n",
    "    <p>Yes: compare the same thing with the same unit</p>\n",
    "<h3>3. what kinds of plots should I use? barplot? scatter plot(fruits and veg)?</h3>\n",
    "    <p>3.1 barplots: (protein; Carbohydrate; Sodium; cholesterol; Energy), price and yield for each fruit and vegetable.</p>\n",
    "    <p>3.2 scatter plots: make pairwise comparison (e.g energy vs price) for different groups (e.g fruits vs vegetables)</p>\n",
    "    <p>3.3 plot the distribution of one quantity for different groups. The way of creating groups is based on the results we have before. (e.g we already know berry has higher price then other fruits. We can divide fruits into berries and notberries) </p>\n",
    "</pre>\n"
   ]
  },
  {
   "cell_type": "code",
   "execution_count": 231,
   "metadata": {
    "collapsed": false
   },
   "outputs": [],
   "source": [
    "# the dataframe with fresh name, price, yield is called \"fresh_n\"\n",
    "# for create a dataframe for each nutrition: protein, Carbohydrate, Sodium, cholesterol, Energy (be careful about the unit, also make sure the type in each cell is numerical)\n",
    " \n",
    "for y in [\"Protein\",\"Carbohydrate\",\"Energy\"]:\n",
    "    locals()['df_{}'.format(y)] = []\n",
    "    for x in fresh_n[\"ndbno\"]:\n",
    "        df = pd.DataFrame(ndb_report(x))\n",
    "        # keep the \"ndbno\" in the table\n",
    "        df[\"ndbno\"] = [x]*df.shape[0]\n",
    "        locals()['df_{}'.format(y)].append(df.loc[df.name.str.contains(y)])\n",
    "    locals()['nutr_{}'.format(y)] = pd.concat(locals()['df_{}'.format(y)])\n",
    "    locals()['nutr_{}'.format(y)] = pd.merge(locals()['nutr_{}'.format(y)],fresh_n)"
   ]
  },
  {
   "cell_type": "code",
   "execution_count": 232,
   "metadata": {
    "collapsed": false
   },
   "outputs": [
    {
     "data": {
      "text/html": [
       "<div>\n",
       "<table border=\"1\" class=\"dataframe\">\n",
       "  <thead>\n",
       "    <tr style=\"text-align: right;\">\n",
       "      <th></th>\n",
       "      <th>group</th>\n",
       "      <th>measures</th>\n",
       "      <th>name</th>\n",
       "      <th>nutrient_id</th>\n",
       "      <th>unit</th>\n",
       "      <th>value</th>\n",
       "      <th>ndbno</th>\n",
       "      <th>form</th>\n",
       "      <th>price_per_lb</th>\n",
       "      <th>yield</th>\n",
       "      <th>lb_per_cup</th>\n",
       "      <th>price_per_cup</th>\n",
       "      <th>food</th>\n",
       "      <th>type</th>\n",
       "    </tr>\n",
       "  </thead>\n",
       "  <tbody>\n",
       "    <tr>\n",
       "      <th>0</th>\n",
       "      <td>Proximates</td>\n",
       "      <td>[{u'eunit': u'g', u'eqv': 154.0, u'qty': 1.0, ...</td>\n",
       "      <td>Protein</td>\n",
       "      <td>203</td>\n",
       "      <td>g</td>\n",
       "      <td>0.61</td>\n",
       "      <td>09326</td>\n",
       "      <td>Fresh1</td>\n",
       "      <td>0.333412</td>\n",
       "      <td>0.52</td>\n",
       "      <td>0.330693</td>\n",
       "      <td>0.212033</td>\n",
       "      <td>watermelon</td>\n",
       "      <td>fruit</td>\n",
       "    </tr>\n",
       "    <tr>\n",
       "      <th>1</th>\n",
       "      <td>Proximates</td>\n",
       "      <td>[{u'eunit': u'g', u'eqv': 177.0, u'qty': 1.0, ...</td>\n",
       "      <td>Protein</td>\n",
       "      <td>203</td>\n",
       "      <td>g</td>\n",
       "      <td>0.84</td>\n",
       "      <td>09181</td>\n",
       "      <td>Fresh1</td>\n",
       "      <td>0.535874</td>\n",
       "      <td>0.51</td>\n",
       "      <td>0.374786</td>\n",
       "      <td>0.393800</td>\n",
       "      <td>cantaloupe</td>\n",
       "      <td>fruit</td>\n",
       "    </tr>\n",
       "    <tr>\n",
       "      <th>2</th>\n",
       "      <td>Proximates</td>\n",
       "      <td>[{u'eunit': u'g', u'eqv': 195.0, u'qty': 1.0, ...</td>\n",
       "      <td>Protein</td>\n",
       "      <td>203</td>\n",
       "      <td>g</td>\n",
       "      <td>0.81</td>\n",
       "      <td>09218</td>\n",
       "      <td>Fresh1</td>\n",
       "      <td>1.377962</td>\n",
       "      <td>0.74</td>\n",
       "      <td>0.407855</td>\n",
       "      <td>0.759471</td>\n",
       "      <td>tangerines</td>\n",
       "      <td>fruit</td>\n",
       "    </tr>\n",
       "    <tr>\n",
       "      <th>3</th>\n",
       "      <td>Proximates</td>\n",
       "      <td>[{u'eunit': u'g', u'eqv': 244.0, u'qty': 1.0, ...</td>\n",
       "      <td>Protein</td>\n",
       "      <td>203</td>\n",
       "      <td>g</td>\n",
       "      <td>0.58</td>\n",
       "      <td>09140</td>\n",
       "      <td>Fresh1</td>\n",
       "      <td>2.358808</td>\n",
       "      <td>0.94</td>\n",
       "      <td>0.319670</td>\n",
       "      <td>0.802171</td>\n",
       "      <td>strawberries</td>\n",
       "      <td>fruit</td>\n",
       "    </tr>\n",
       "    <tr>\n",
       "      <th>4</th>\n",
       "      <td>Proximates</td>\n",
       "      <td>[{u'eunit': u'g', u'eqv': 150.0, u'qty': 1.0, ...</td>\n",
       "      <td>Protein</td>\n",
       "      <td>203</td>\n",
       "      <td>g</td>\n",
       "      <td>0.50</td>\n",
       "      <td>09061</td>\n",
       "      <td>Fresh1</td>\n",
       "      <td>1.827416</td>\n",
       "      <td>0.94</td>\n",
       "      <td>0.363763</td>\n",
       "      <td>0.707176</td>\n",
       "      <td>plums</td>\n",
       "      <td>fruit</td>\n",
       "    </tr>\n",
       "  </tbody>\n",
       "</table>\n",
       "</div>"
      ],
      "text/plain": [
       "        group                                           measures     name  \\\n",
       "0  Proximates  [{u'eunit': u'g', u'eqv': 154.0, u'qty': 1.0, ...  Protein   \n",
       "1  Proximates  [{u'eunit': u'g', u'eqv': 177.0, u'qty': 1.0, ...  Protein   \n",
       "2  Proximates  [{u'eunit': u'g', u'eqv': 195.0, u'qty': 1.0, ...  Protein   \n",
       "3  Proximates  [{u'eunit': u'g', u'eqv': 244.0, u'qty': 1.0, ...  Protein   \n",
       "4  Proximates  [{u'eunit': u'g', u'eqv': 150.0, u'qty': 1.0, ...  Protein   \n",
       "\n",
       "  nutrient_id unit value  ndbno    form  price_per_lb  yield  lb_per_cup  \\\n",
       "0         203    g  0.61  09326  Fresh1      0.333412   0.52    0.330693   \n",
       "1         203    g  0.84  09181  Fresh1      0.535874   0.51    0.374786   \n",
       "2         203    g  0.81  09218  Fresh1      1.377962   0.74    0.407855   \n",
       "3         203    g  0.58  09140  Fresh1      2.358808   0.94    0.319670   \n",
       "4         203    g  0.50  09061  Fresh1      1.827416   0.94    0.363763   \n",
       "\n",
       "   price_per_cup          food   type  \n",
       "0       0.212033    watermelon  fruit  \n",
       "1       0.393800    cantaloupe  fruit  \n",
       "2       0.759471    tangerines  fruit  \n",
       "3       0.802171  strawberries  fruit  \n",
       "4       0.707176         plums  fruit  "
      ]
     },
     "execution_count": 232,
     "metadata": {},
     "output_type": "execute_result"
    }
   ],
   "source": [
    "nutr_Protein.head()"
   ]
  },
  {
   "cell_type": "code",
   "execution_count": 235,
   "metadata": {
    "collapsed": false
   },
   "outputs": [
    {
     "data": {
      "image/png": "[encoded data removed]",
      "text/plain": [
       "<matplotlib.figure.Figure at 0xb4a0940>"
      ]
     },
     "metadata": {},
     "output_type": "display_data"
    }
   ],
   "source": [
    "# plot 1: barplot\n",
    "# Matplotlib\n",
    "import matplotlib.pyplot as plt\n",
    "import numpy as np\n",
    "\n",
    "# for fruits\n",
    "fresh_f = fresh_n.loc[fresh_n.type.str.contains(\"fruit\")]\n",
    "def barplt(dataframe,x):\n",
    "    fig, ax = plt.subplots(1, 1)\n",
    "    Int = np.arange(dataframe.shape[0])\n",
    "    bar_width = 0.8\n",
    "    plt.barh(Int,dataframe[x])\n",
    "    plt.yticks(Int + bar_width / 2, dataframe[\"food\"])\n",
    "barplt(fresh_f,\"price_per_lb\")\n",
    "plt.xlabel('Price')\n",
    "plt.ylabel('Fruits')\n",
    "plt.title('Bar chart of Price for each fruit')\n",
    "fig.autofmt_xdate()\n",
    "plt.show()"
   ]
  },
  {
   "cell_type": "markdown",
   "metadata": {},
   "source": [
    "<p> Plot 1</p>"
   ]
  },
  {
   "cell_type": "code",
   "execution_count": 236,
   "metadata": {
    "collapsed": false
   },
   "outputs": [
    {
     "data": {
      "image/png": "[encoded data removed]",
      "text/plain": [
       "<matplotlib.figure.Figure at 0xb0f8ef0>"
      ]
     },
     "metadata": {},
     "output_type": "display_data"
    }
   ],
   "source": [
    "# for vegetables\n",
    "# for fruits\n",
    "fresh_v = fresh_n.loc[fresh_n.type.str.contains(\"vegetable\")]\n",
    "\n",
    "barplt(fresh_v,\"price_per_lb\")\n",
    "plt.xlabel(\"Price\")\n",
    "plt.ylabel('Vegetable')\n",
    "plt.title('Bar chart of Price for each vegetable')\n",
    "fig.autofmt_xdate()\n",
    "plt.show()"
   ]
  },
  {
   "cell_type": "markdown",
   "metadata": {},
   "source": [
    "<p> Plot 2</p>"
   ]
  },
  {
   "cell_type": "markdown",
   "metadata": {},
   "source": [
    "<p> By analysing those two plots (plot1 and plot2) we know that most of the fruits and vegetables have price less than \\$3 per lb. But there is only okra and asparagus in vegetable have price higher than \\$3. For fruits which have relatively higher price are berries, like blueberries, cherries and raspberries.<br> For fruits that have relatively lower prices are some common ones like banana, grapefruit, cantaloupe, watermelon and pineapple. For vegetables, potatoes, sweet-potatoes have the lowest prices.</p> "
   ]
  },
  {
   "cell_type": "code",
   "execution_count": 238,
   "metadata": {
    "collapsed": false
   },
   "outputs": [
    {
     "data": {
      "image/png": "[encoded data removed]",
      "text/plain": [
       "<matplotlib.figure.Figure at 0xd4ed8d0>"
      ]
     },
     "metadata": {},
     "output_type": "display_data"
    }
   ],
   "source": [
    "# yield\n",
    "# for fruits\n",
    "barplt(fresh_f,\"yield\")\n",
    "plt.xlabel('Yield')\n",
    "plt.ylabel('Fruits')\n",
    "plt.title('Bar chart of Yield for each fruit')\n",
    "fig.autofmt_xdate()\n",
    "plt.show()"
   ]
  },
  {
   "cell_type": "markdown",
   "metadata": {},
   "source": [
    "<p> Plot 3</p>"
   ]
  },
  {
   "cell_type": "code",
   "execution_count": 218,
   "metadata": {
    "collapsed": false
   },
   "outputs": [
    {
     "data": {
      "image/png": "[encoded data removed]",
      "text/plain": [
       "<matplotlib.figure.Figure at 0xb31dcc0>"
      ]
     },
     "metadata": {},
     "output_type": "display_data"
    }
   ],
   "source": [
    "barplt(fresh_v,\"yield\")\n",
    "plt.ylabel('Vegetables')\n",
    "plt.xlabel('Yield')\n",
    "plt.title('Bar chart of Yield for each vegetable')\n",
    "fig.autofmt_xdate()\n",
    "plt.show()"
   ]
  },
  {
   "cell_type": "markdown",
   "metadata": {},
   "source": [
    "<p> Plot 4</p>"
   ]
  },
  {
   "cell_type": "markdown",
   "metadata": {},
   "source": [
    "<p> From plot3 we know that for the fruits have lower price like banana, pineapple and grapefruit, they also have lower yields. However, for those berries, they have much higher yields.<br> From plot 4 we know that for vegetables, artichoke has the lowest yield. Brussels sprouts and kale have the highest yields. Kale and artichoke have relatively high price.</p>"
   ]
  },
  {
   "cell_type": "code",
   "execution_count": 240,
   "metadata": {
    "collapsed": false
   },
   "outputs": [
    {
     "data": {
      "image/png": "[encoded data removed]",
      "text/plain": [
       "<matplotlib.figure.Figure at 0xccec940>"
      ]
     },
     "metadata": {},
     "output_type": "display_data"
    }
   ],
   "source": [
    "# nutrition content\n",
    "#(1) protein\n",
    "pro_f = nutr_Protein.loc[nutr_Protein.type.str.contains(\"fruit\")]\n",
    "#fresh_v = fresh_n.loc[fresh_n.type.str.contains(\"vegetable\")]\n",
    "barplt(pro_f,\"value\")\n",
    "plt.ylabel('Fruit')\n",
    "plt.xlabel('Protein')\n",
    "plt.title('Bar chart of Protein for each fruit')\n",
    "fig.autofmt_xdate()\n",
    "plt.show()"
   ]
  },
  {
   "cell_type": "markdown",
   "metadata": {},
   "source": [
    "<p>Plot 5</p>"
   ]
  },
  {
   "cell_type": "code",
   "execution_count": 241,
   "metadata": {
    "collapsed": false
   },
   "outputs": [
    {
     "data": {
      "image/png": "[encoded data removed]",
      "text/plain": [
       "<matplotlib.figure.Figure at 0xb08e6a0>"
      ]
     },
     "metadata": {},
     "output_type": "display_data"
    }
   ],
   "source": [
    "pro_v = nutr_Protein.loc[nutr_Protein.type.str.contains(\"vegetable\")]\n",
    "barplt(pro_v,\"value\")\n",
    "plt.ylabel('vegetable')\n",
    "plt.xlabel('Protein')\n",
    "plt.title('Bar chart of Protein for each vegetable')\n",
    "fig.autofmt_xdate()\n",
    "plt.show()"
   ]
  },
  {
   "cell_type": "markdown",
   "metadata": {},
   "source": [
    "<p>Plot 6</p>"
   ]
  },
  {
   "cell_type": "markdown",
   "metadata": {},
   "source": [
    "<p> From plot 5 we know that most of the protein in fruits are less than 2g. Only grape has the largest protein value which is lager than 5g. <br> From plot 6 we know that there are several vegetables that have protein value larger than 2g. Kale has the largest protein value: 4.3g among vegetables. Corn sweet, brussels sprouts and artichoke also have relatively high protein which are larger than 3g. </p>"
   ]
  },
  {
   "cell_type": "code",
   "execution_count": 243,
   "metadata": {
    "collapsed": false
   },
   "outputs": [
    {
     "data": {
      "image/png": "[encoded data removed]",
      "text/plain": [
       "<matplotlib.figure.Figure at 0xb98e9e8>"
      ]
     },
     "metadata": {},
     "output_type": "display_data"
    }
   ],
   "source": [
    "#(2) Carbohydrate\n",
    "ca_f = nutr_Carbohydrate.loc[nutr_Carbohydrate.type.str.contains(\"fruit\")]\n",
    "barplt(ca_f,\"value\")\n",
    "plt.ylabel('Fruit')\n",
    "plt.xlabel('Carbohydrate')\n",
    "plt.title('Bar chart of Carbohydrate for each fruit')\n",
    "fig.autofmt_xdate()\n",
    "plt.show()"
   ]
  },
  {
   "cell_type": "markdown",
   "metadata": {},
   "source": [
    "<p>Plot 7 </p>"
   ]
  },
  {
   "cell_type": "code",
   "execution_count": 244,
   "metadata": {
    "collapsed": false
   },
   "outputs": [
    {
     "data": {
      "image/png": "[encoded data removed]",
      "text/plain": [
       "<matplotlib.figure.Figure at 0xd01b128>"
      ]
     },
     "metadata": {},
     "output_type": "display_data"
    }
   ],
   "source": [
    "ca_v = nutr_Carbohydrate.loc[nutr_Carbohydrate.type.str.contains(\"vegetables\")]\n",
    "barplt(ca_v,\"value\")\n",
    "plt.ylabel('Vegetables')\n",
    "plt.xlabel('Carbohydrate')\n",
    "plt.title('Bar chart of Carbohydrate for each vegetable')\n",
    "fig.autofmt_xdate()\n",
    "plt.show()"
   ]
  },
  {
   "cell_type": "markdown",
   "metadata": {},
   "source": [
    "<p>Plot 8</p>"
   ]
  },
  {
   "cell_type": "markdown",
   "metadata": {},
   "source": [
    "<p> From plot 7 we know that for all the fruits, the content of Carbohydrate are about the same. Banana and orange have the highest Carbohydrate. Cherries has the lowest.<br> Plot 8 shows that for the vegetables, the content of their Carbohydrate are comparatively lower than fruits. Potatoes and corn sweet have the highest Carbohydrate. Cabbage and cucumbers have the lowest.</p>"
   ]
  },
  {
   "cell_type": "code",
   "execution_count": 245,
   "metadata": {
    "collapsed": false
   },
   "outputs": [
    {
     "data": {
      "image/png": "[encoded data removed]",
      "text/plain": [
       "<matplotlib.figure.Figure at 0xb3137f0>"
      ]
     },
     "metadata": {},
     "output_type": "display_data"
    }
   ],
   "source": [
    "# (3)Energy\n",
    "en_f = nutr_Energy.loc[nutr_Energy.type.str.contains(\"fruit\")]\n",
    "barplt(en_f,\"value\")\n",
    "plt.ylabel('Fruit')\n",
    "plt.xlabel('Energy')\n",
    "plt.title('Bar chart of Energy for each fruit')\n",
    "fig.autofmt_xdate()\n",
    "plt.show()"
   ]
  },
  {
   "cell_type": "markdown",
   "metadata": {},
   "source": [
    "<p> Plot 9</p>"
   ]
  },
  {
   "cell_type": "code",
   "execution_count": 246,
   "metadata": {
    "collapsed": false
   },
   "outputs": [
    {
     "data": {
      "image/png": "[encoded data removed]",
      "text/plain": [
       "<matplotlib.figure.Figure at 0xb73a978>"
      ]
     },
     "metadata": {},
     "output_type": "display_data"
    }
   ],
   "source": [
    "en_v = nutr_Energy.loc[nutr_Energy.type.str.contains(\"vegetables\")]\n",
    "barplt(ca_v,\"value\")\n",
    "plt.ylabel('Vegetables')\n",
    "plt.xlabel('Energy')\n",
    "plt.title('Bar chart of Energy for each vegetable')\n",
    "fig.autofmt_xdate()\n",
    "plt.show()"
   ]
  },
  {
   "cell_type": "markdown",
   "metadata": {},
   "source": [
    "<p> Plot 10</p>"
   ]
  },
  {
   "cell_type": "markdown",
   "metadata": {},
   "source": [
    "<p> By comparing the value of energy in plot 9 and plot 10 we know that fruits have much larger energy than vegetables. For vegetables, corn sweet and potatoes have the largest energy content (about 19 kcal). For the fruits, orange, grape and banana have the largest energy content (about 95 kcal).</p>"
   ]
  },
  {
   "cell_type": "markdown",
   "metadata": {},
   "source": [
    "<pre> Now, let's summary all the conclusion we have:\n",
    "<b>(1)Price</b><br>By analysing those two plots (plot1 and plot2) we know that most of the fruits and vegetables have price less than \\$3 per lb. But there is only <b>okra</b> and <b>asparagus</b> in vegetable have price higher than \\$3. For fruits which have relatively higher price are <b>berries</b>, like <b>blueberries</b>, <b>cherries</b> and <b>raspberries</b>.<br> For fruits that have relatively lower prices are some common ones like <b>banana</b>, <b>grapefruit</b>, <b>cantaloupe</b>, <b>watermelon</b> and <b>pineapple</b>. For vegetables, <b>potatoes</b>, <b>sweet-potatoes</b> have the lowest prices.\n",
    "<b>(2)Yield</b><br>From plot3 we know that for the fruits have lower price like <b>banana</b>, <b>pineapple</b> and <b>grapefruit</b>, they also have lower yields. However, for those <b>berries</b>, they have much higher yields.<br> From plot 4 we know that for vegetables, <b>artichoke</b> has the lowest yield. <b>Brussels sprouts</b> and <b>kale</b> have the highest yields. <b>Kale</b> and <b>artichoke</b> have relatively high price.\n",
    "<b>(3)Protein</b><br>From plot 5 we know that most of the protein in fruits are less than 2g. Only <b>grape</b> has the largest protein value which is lager than 5g. <br> From plot 6 we know that there are several vegetables that have protein value larger than 2g. <b>Kale</b> has the largest protein value: 4.3g among vegetables. <b>Corn sweet</b>, <b>brussels sprouts</b> and <b>artichoke</b> also have relatively high protein which are larger than 3g.\n",
    "<b>(4)Carbohydrate</b><br>From plot 7 we know that for all the fruits, the content of Carbohydrate are about the same. <b>Banana</b> and <b>orange</b> have the highest Carbohydrate. <b>Cherries</b> has the lowest.<br> Plot 8 shows that for the vegetables, the content of their Carbohydrate are comparatively lower than fruits. <b>Potatoes</b> and <b>corn sweet</b> have the highest Carbohydrate. <b>Cabbage</b> and <b>cucumbers</b> have the lowest.\n",
    "<b>(5)Energy</b><br>By comparing the value of energy in plot 9 and plot 10 we know that fruits have much larger energy than vegetables. For vegetables, <b>corn sweet</b> and <b>potatoes</b> have the largest energy content (about 19 kcal). For the fruits, <b>orange</b>, <b>grape</b> and <b>banana</b> have the largest energy content (about 95 kcal).</pre>"
   ]
  },
  {
   "cell_type": "markdown",
   "metadata": {},
   "source": [
    "<p> In order to find the best combination of price, yield and nutrition, we want to find the food that have the lowest price, highest nutrition and highest yield. For nutrition content, we want to find a food that has the highest protein, lowest Carbohydrate and highest Energy. Thus, by considering all those aspects, my choice of the best food is among <b>Brussels sprouts</b>, <b>corn sweet</b>, <b>potatoes</b>, <b>banana</b> and <b> grape</b>."
   ]
  }
 ],
 "metadata": {
  "anaconda-cloud": {},
  "kernelspec": {
   "display_name": "Python 2",
   "language": "python",
   "name": "python2"
  },
  "language_info": {
   "codemirror_mode": {
    "name": "ipython",
    "version": 2
   },
   "file_extension": ".py",
   "mimetype": "text/x-python",
   "name": "python",
   "nbconvert_exporter": "python",
   "pygments_lexer": "ipython2",
   "version": "2.7.13"
  }
 },
 "nbformat": 4,
 "nbformat_minor": 2
}

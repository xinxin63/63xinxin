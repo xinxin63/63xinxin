{
 "cells": [
  {
   "cell_type": "markdown",
   "metadata": {},
   "source": [
    "# Assignment 3 Feedback"
   ]
  },
  {
   "cell_type": "markdown",
   "metadata": {},
   "source": [
    "## Syntax & Style"
   ]
  },
  {
   "cell_type": "markdown",
   "metadata": {},
   "source": [
    "### Put Written Answers in Markdown Cells\n",
    "\n",
    "Please put your written answers in Markdown cells! They're much easier to read than code comments or `print` statements."
   ]
  },
  {
   "cell_type": "markdown",
   "metadata": {},
   "source": [
    "### Run Your Code\n",
    "\n",
    "Please make sure to run all the cells in your notebook before submitting. This will help you make sure there are no errors and that all of your plots are visible."
   ]
  },
  {
   "cell_type": "markdown",
   "metadata": {},
   "source": [
    "### Strings Are Not Comments\n",
    "\n",
    "The Python comment marker is `#`, not `\"\"\"`.\n",
    "\n",
    "The `\"\"\"` marker starts a multi-line string. Don't use strings as comments, because it will slow your program down!\n",
    "\n",
    "The only time you should put comments in `\"\"\"` is for the _docstring_ on the very first line of the function:"
   ]
  },
  {
   "cell_type": "code",
   "execution_count": 13,
   "metadata": {
    "collapsed": true
   },
   "outputs": [],
   "source": [
    "def add(x, y):\n",
    "    \"\"\"Add two numbers.\n",
    "    \n",
    "    THIS IS THE DOCSTRING\n",
    "    \n",
    "    Args:\n",
    "        x The first number.\n",
    "        y The second number.\n",
    "    \"\"\"\n",
    "    return x + y"
   ]
  },
  {
   "cell_type": "markdown",
   "metadata": {},
   "source": [
    "A docstring is a special string (not a comment) that Python displays when you use `help()`."
   ]
  },
  {
   "cell_type": "markdown",
   "metadata": {},
   "source": [
    "### Don't Repeat Calls\n",
    "\n",
    "It takes time for a function to compute a result. If you need to use the return value of a function more than once, save it in a variable rather than calling the function multiple times:"
   ]
  },
  {
   "cell_type": "code",
   "execution_count": 40,
   "metadata": {
    "collapsed": false
   },
   "outputs": [],
   "source": [
    "# Compute (4 + 5) * (4 + 5)\n",
    "\n",
    "# BAD\n",
    "# Time is wasted on the second call to sum!\n",
    "val = sum([4, 5]) * sum([4, 5])\n",
    "\n",
    "# GOOD:\n",
    "val = sum([4, 5])\n",
    "val = val * val"
   ]
  },
  {
   "cell_type": "markdown",
   "metadata": {},
   "source": [
    "This is especially important when you're reading a file. Reading files is one of the slowest operations you can do, so avoid reading the same file twice!"
   ]
  },
  {
   "cell_type": "markdown",
   "metadata": {},
   "source": [
    "---\n",
    "## File Paths"
   ]
  },
  {
   "cell_type": "markdown",
   "metadata": {},
   "source": [
    "### Don't Hardcode Paths in Functions\n",
    "\n",
    "Functions that have a hardcoded path are not reusable, which defeats the purpose of writing a function. It also makes your code hard to use on any other computer, because the paths will typically be different.\n",
    "\n",
    "Parameterize paths in your functions so that they can be used and reused anywhere."
   ]
  },
  {
   "cell_type": "code",
   "execution_count": 8,
   "metadata": {
    "collapsed": false
   },
   "outputs": [],
   "source": [
    "import os\n",
    "import os.path\n",
    "\n",
    "# BAD: This function has a hardcoded path, so it isn't reusable.\n",
    "def get_basenames():\n",
    "    return [os.path.basename(x) for x in os.listdir(\"/home/nick/\")]\n",
    "\n",
    "\n",
    "# GOOD: This function takes the path as an argument, so it is reusable.\n",
    "# Notice that it's okay to hardcode a path in the default argument.\n",
    "def get_basenames(path = \"/home/nick\"):\n",
    "    return [os.path.basename(x) for x in os.listdir(path)]"
   ]
  },
  {
   "cell_type": "markdown",
   "metadata": {},
   "source": [
    "### Use Relative Paths\n",
    "\n",
    "If you need to use other files that are associated with a notebook (such as data files), use relative paths. Relative paths make it easier for other people to use the notebook, since they can drop the notebook and associated files anywhere on their computer.\n",
    "\n",
    "A _relative path_ is a path that starts from the current working directory. Usually, the working directory will be the same directory that your Jupyter notebook or Python script is in.\n",
    "\n",
    "For example, on my computer the relative path from this notebook to the Assignment 3 fruit files is just `fruit/`. In other words, this notebook and the `fruit/` directory are in the same directory. The absolute path to the fruit directory is\n",
    "```\n",
    "/home/nick/university/teach/sta141b/2017-sta141b/assignments/assignment3/fruit\n",
    "```\n",
    "It's easy to make sure this notebook and the `fruit/` directory are in the same directory. On the other hand, you probably don't have\n",
    "```\n",
    "/home/nick/university/teach/sta141b/2017-sta141b/assignments/assignment3\n",
    "```\n",
    "directories on your computer, and creating all those directories just to use this notebook is incredibly tedious."
   ]
  },
  {
   "cell_type": "markdown",
   "metadata": {},
   "source": [
    "### Join Paths with `os.path.join`\n",
    "\n",
    "Some operating systems don't use `/` to separate files and directories in a path. For instance, Windows uses `\\`. Getting the separator wrong can cause errors in your programs.\n",
    "\n",
    "Python has a built-in function for joining paths: `os.path.join()`. This function checks the operating system and always chooses the correct separator."
   ]
  },
  {
   "cell_type": "code",
   "execution_count": 10,
   "metadata": {
    "collapsed": false
   },
   "outputs": [
    {
     "data": {
      "text/plain": [
       "'hello/world'"
      ]
     },
     "execution_count": 10,
     "metadata": {},
     "output_type": "execute_result"
    }
   ],
   "source": [
    "import os.path\n",
    "\n",
    "os.path.join(\"hello\", \"world\")"
   ]
  },
  {
   "cell_type": "markdown",
   "metadata": {},
   "source": [
    "---\n",
    "## Loops"
   ]
  },
  {
   "cell_type": "markdown",
   "metadata": {},
   "source": [
    "### Avoid Explicit Indexes in Loops\n",
    "\n",
    "You'll frequently need to iterate over a list of things: the names of files in a directory, the columns in a data frame, the tags in an HTML document, and so on.\n",
    "\n",
    "In a low-level programming language like C, you'd do this by assigning an index (number) to each file, then writing a loop that increments the number at each iteration. The equivalent Python code is:"
   ]
  },
  {
   "cell_type": "code",
   "execution_count": 15,
   "metadata": {
    "collapsed": false
   },
   "outputs": [
    {
     "name": "stdout",
     "output_type": "stream",
     "text": [
      "assignment3-Copy1.ipynb\n",
      "assignment3.ipynb\n",
      "feedback.ipynb\n",
      "assignment3-solutions.ipynb\n"
     ]
    }
   ],
   "source": [
    "import os\n",
    "\n",
    "files = os.listdir(\".\")\n",
    "\n",
    "# BAD\n",
    "for i in xrange(len(files)):\n",
    "    # Do something.\n",
    "    # For example, check if the file ends with \".ipynb\".\n",
    "    if files[i].endswith(\".ipynb\"):\n",
    "        print files[i]"
   ]
  },
  {
   "cell_type": "markdown",
   "metadata": {},
   "source": [
    "The variable `i` is only used to access the file name for the current iteration. It doesn't add any important information to the code, and distracts from what the code really means.\n",
    "\n",
    "In Python you should just iterate over the file names directly:"
   ]
  },
  {
   "cell_type": "code",
   "execution_count": 16,
   "metadata": {
    "collapsed": false
   },
   "outputs": [
    {
     "name": "stdout",
     "output_type": "stream",
     "text": [
      "assignment3-Copy1.ipynb\n",
      "assignment3.ipynb\n",
      "feedback.ipynb\n",
      "assignment3-solutions.ipynb\n"
     ]
    }
   ],
   "source": [
    "# GOOD\n",
    "for f in files:\n",
    "    if f.endswith(\".ipynb\"):\n",
    "        print f"
   ]
  },
  {
   "cell_type": "markdown",
   "metadata": {},
   "source": [
    "### Iterate in Parallel with `zip()`\n",
    "\n",
    "When you want to iterate over two (or more) lists in parallel, you can zip them together rather than using indexes:"
   ]
  },
  {
   "cell_type": "code",
   "execution_count": 21,
   "metadata": {
    "collapsed": false
   },
   "outputs": [
    {
     "name": "stdout",
     "output_type": "stream",
     "text": [
      "0 and a\n",
      "1 and b\n",
      "2 and c\n"
     ]
    }
   ],
   "source": [
    "xlist = [0, 1, 2]\n",
    "ylist = ['a', 'b', 'c']\n",
    "\n",
    "for x, y in zip(xlist, ylist):\n",
    "    print \"{} and {}\".format(x, y)"
   ]
  },
  {
   "cell_type": "markdown",
   "metadata": {},
   "source": [
    "### Combine Back-to-back Loops\n",
    "\n",
    "When you need to apply several different steps to each element of a list, you might be tempted to write back-to-back for-loops:"
   ]
  },
  {
   "cell_type": "code",
   "execution_count": 24,
   "metadata": {
    "collapsed": false
   },
   "outputs": [
    {
     "name": "stdout",
     "output_type": "stream",
     "text": [
      "assignment3-Copy1.ipynb\n",
      "assignment3.ipynb\n",
      "assignment3-solutions.ipynb\n"
     ]
    }
   ],
   "source": [
    "import os\n",
    "\n",
    "files = os.listdir(\".\")\n",
    "\n",
    "# BAD\n",
    "ipynb = []\n",
    "for f in files:\n",
    "    # Get file names that end with \".ipynb\".\n",
    "    if f.endswith(\".ipynb\"):\n",
    "        ipynb.append(f)\n",
    "        \n",
    "threes = []\n",
    "for nb in ipynb:\n",
    "    # Get file names that contain \"3\".\n",
    "    if \"3\" in nb:\n",
    "        threes.append(nb)\n",
    "        \n",
    "for three in threes:\n",
    "    # Print each file name.\n",
    "    print three"
   ]
  },
  {
   "cell_type": "markdown",
   "metadata": {},
   "source": [
    "Using a single loop is shorter, clearer, and more efficent:"
   ]
  },
  {
   "cell_type": "code",
   "execution_count": 36,
   "metadata": {
    "collapsed": false
   },
   "outputs": [
    {
     "name": "stdout",
     "output_type": "stream",
     "text": [
      "assignment3-Copy1.ipynb\n",
      "assignment3.ipynb\n",
      "assignment3-solutions.ipynb\n"
     ]
    }
   ],
   "source": [
    "# GOOD\n",
    "threes = []\n",
    "for f in files:\n",
    "    if f.endswith(\".ipynb\") and \"3\" in f:\n",
    "        threes.append(f)\n",
    "        print f"
   ]
  },
  {
   "cell_type": "markdown",
   "metadata": {},
   "source": [
    "---\n",
    "## Pandas"
   ]
  },
  {
   "cell_type": "markdown",
   "metadata": {},
   "source": [
    "### Index with Booleans\n",
    "\n",
    "You can get all rows in a Pandas data frame that match a condition with Boolean indexing (using `.loc`):"
   ]
  },
  {
   "cell_type": "code",
   "execution_count": 44,
   "metadata": {
    "collapsed": false
   },
   "outputs": [
    {
     "data": {
      "text/html": [
       "<div>\n",
       "<table border=\"1\" class=\"dataframe\">\n",
       "  <thead>\n",
       "    <tr style=\"text-align: right;\">\n",
       "      <th></th>\n",
       "      <th>form</th>\n",
       "      <th>price</th>\n",
       "    </tr>\n",
       "  </thead>\n",
       "  <tbody>\n",
       "    <tr>\n",
       "      <th>2</th>\n",
       "      <td>Fresh</td>\n",
       "      <td>5.43</td>\n",
       "    </tr>\n",
       "    <tr>\n",
       "      <th>3</th>\n",
       "      <td>Fresh, peeled</td>\n",
       "      <td>6.51</td>\n",
       "    </tr>\n",
       "    <tr>\n",
       "      <th>4</th>\n",
       "      <td>Fresh</td>\n",
       "      <td>4.32</td>\n",
       "    </tr>\n",
       "  </tbody>\n",
       "</table>\n",
       "</div>"
      ],
      "text/plain": [
       "            form  price\n",
       "2          Fresh   5.43\n",
       "3  Fresh, peeled   6.51\n",
       "4          Fresh   4.32"
      ]
     },
     "execution_count": 44,
     "metadata": {},
     "output_type": "execute_result"
    }
   ],
   "source": [
    "import pandas as pd\n",
    "\n",
    "df = pd.DataFrame({\n",
    "    \"form\": [\"Dried\", \"Frozen\", \"Fresh\", \"Fresh, peeled\", \"Fresh\", \"Frozen\"],\n",
    "    \"price\": [10.10, 3.43, 5.43, 6.51, 4.32, 3.21]\n",
    "})\n",
    "\n",
    "# Get all rows that start with \"Fresh\".\n",
    "df.loc[df.form.str.startswith(\"Fresh\"), :]  ### why we need to use str here ????"
   ]
  },
  {
   "cell_type": "markdown",
   "metadata": {},
   "source": [
    "Boolean indexing is much faster and clearer than looping over all the rows."
   ]
  }
 ],
 "metadata": {
  "kernelspec": {
   "display_name": "Python 2",
   "language": "python",
   "name": "python2"
  },
  "language_info": {
   "codemirror_mode": {
    "name": "ipython",
    "version": 2
   },
   "file_extension": ".py",
   "mimetype": "text/x-python",
   "name": "python",
   "nbconvert_exporter": "python",
   "pygments_lexer": "ipython2",
   "version": "2.7.13"
  }
 },
 "nbformat": 4,
 "nbformat_minor": 2
}

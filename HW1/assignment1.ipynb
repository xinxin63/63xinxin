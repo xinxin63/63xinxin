{
 "cells": [
  {
   "cell_type": "markdown",
   "metadata": {},
   "source": [
    "## Part 1: The Doomsday Algorithm\n",
    "\n",
    "The Doomsday algorithm, devised by mathematician J. H. Conway, computes the day of the week any given date fell on. The algorithm is designed to be simple enough to memorize and use for mental calculation.\n",
    "\n",
    "__Example.__ With the algorithm, we can compute that July 4, 1776 (the day the United States declared independence from Great Britain) was a Thursday.\n",
    "\n",
    "The algorithm is based on the fact that for any year, several dates always fall on the same day of the week, called the <em style=\"color:#F00\">doomsday</em> for the year. These dates include 4/4, 6/6, 8/8, 10/10, and 12/12.\n",
    "\n",
    "__Example.__ The doomsday for 2016 is Monday, so in 2016 the dates above all fell on Mondays. The doomsday for 2017 is Tuesday, so in 2017 the dates above will all fall on Tuesdays.\n",
    "\n",
    "The doomsday algorithm has three major steps:\n",
    "\n",
    "1. Compute the anchor day for the target century.\n",
    "2. Compute the doomsday for the target year based on the anchor day.\n",
    "3. Determine the day of week for the target date by counting the number of days to the nearest doomsday.\n",
    "\n",
    "Each step is explained in detail below."
   ]
  },
  {
   "cell_type": "markdown",
   "metadata": {},
   "source": [
    "### The Anchor Day\n",
    "\n",
    "The doomsday for the first year in a century is called the <em style=\"color:#F00\">anchor day</em> for that century. The anchor day is needed to compute the doomsday for any other year in that century. The anchor day for a century $c$ can be computed with the formula:\n",
    "$$\n",
    "a = \\bigl( 5 (c \\bmod 4) + 2 \\bigr) \\bmod 7\n",
    "$$\n",
    "The result $a$ corresponds to a day of the week, starting with $0$ for Sunday and ending with $6$ for Saturday.\n",
    "\n",
    "__Note.__ The modulo operation $(x \\bmod y)$ finds the remainder after dividing $x$ by $y$. For instance, $12 \\bmod 3 = 0$ since the remainder after dividing $12$ by $3$ is $0$. Similarly, $11 \\bmod 7 = 4$, since the remainder after dividing $11$ by $7$ is $4$.\n",
    "\n",
    "__Example.__ Suppose the target year is 1954, so the century is $c = 19$. Plugging this into the formula gives\n",
    "$$a = \\bigl( 5 (19 \\bmod 4) + 2 \\bigr) \\bmod 7 = \\bigl( 5(3) + 2 \\bigr) \\bmod 7 = 3.$$\n",
    "In other words, the anchor day for 1900-1999 is Wednesday, which is also the doomsday for 1900.\n",
    "\n",
    "__Exercise 1.1.__ Write a function that accepts a year as input and computes the anchor day for that year's century. The modulo operator `%` and functions in the `math` module may be useful. Document your function with a docstring and test your function for a few different years.  Do this in a new cell below this one."
   ]
  },
  {
   "cell_type": "code",
   "execution_count": 51,
   "metadata": {
    "collapsed": true
   },
   "outputs": [],
   "source": [
    "def anchor(x):\n",
    "    c = str(x)[0:2]  # 0:1 only means the 1st character\n",
    "    c = int(c)\n",
    "    a = (5*(c%4)+2)%7\n",
    "    return a"
   ]
  },
  {
   "cell_type": "code",
   "execution_count": 16,
   "metadata": {
    "collapsed": false
   },
   "outputs": [
    {
     "data": {
      "text/plain": [
       "3"
      ]
     },
     "execution_count": 16,
     "metadata": {},
     "output_type": "execute_result"
    }
   ],
   "source": [
    "anchor(1987)  #test"
   ]
  },
  {
   "cell_type": "code",
   "execution_count": 1,
   "metadata": {
    "collapsed": false
   },
   "outputs": [
    {
     "ename": "SyntaxError",
     "evalue": "invalid syntax (<ipython-input-1-297bd95a6a2a>, line 2)",
     "output_type": "error",
     "traceback": [
      "\u001b[0;36m  File \u001b[0;32m\"<ipython-input-1-297bd95a6a2a>\"\u001b[0;36m, line \u001b[0;32m2\u001b[0m\n\u001b[0;31m    print x%\u001b[0m\n\u001b[0m            ^\u001b[0m\n\u001b[0;31mSyntaxError\u001b[0m\u001b[0;31m:\u001b[0m invalid syntax\n"
     ]
    }
   ],
   "source": [
    "x = 1987\n",
    "print x%"
   ]
  },
  {
   "cell_type": "markdown",
   "metadata": {},
   "source": [
    "### The Doomsday\n",
    "\n",
    "Once the anchor day is known, let $y$ be the last two digits of the target year. Then the doomsday for the target year can be computed with the formula:\n",
    "$$d = \\left(y + \\left\\lfloor\\frac{y}{4}\\right\\rfloor + a\\right) \\bmod 7$$\n",
    "The result $d$ corresponds to a day of the week.\n",
    "\n",
    "__Note.__ The floor operation $\\lfloor x \\rfloor$ rounds $x$ down to the nearest integer. For instance, $\\lfloor 3.1 \\rfloor = 3$ and $\\lfloor 3.8 \\rfloor = 3$.\n",
    "\n",
    "__Example.__ Again suppose the target year is 1954. Then the anchor day is $a = 3$, and $y = 54$, so the formula gives\n",
    "$$\n",
    "d = \\left(54 + \\left\\lfloor\\frac{54}{4}\\right\\rfloor + 3\\right) \\bmod 7 = (54 + 13 + 3) \\bmod 7 = 0.\n",
    "$$\n",
    "Thus the doomsday for 1954 is Sunday.\n",
    "\n",
    "__Exercise 1.2.__ Write a function that accepts a year as input and computes the doomsday for that year. Your function may need to call the function you wrote in exercise 1.1. Make sure to document and test your function."
   ]
  },
  {
   "cell_type": "code",
   "execution_count": 52,
   "metadata": {
    "collapsed": true
   },
   "outputs": [],
   "source": [
    "def doomsday(x):\n",
    "    y = str(x)\n",
    "    y = int(y[2:]) # the last two digits \n",
    "    d = (y+int(y/4)+anchor(x))%7\n",
    "    return d"
   ]
  },
  {
   "cell_type": "code",
   "execution_count": 27,
   "metadata": {
    "collapsed": false
   },
   "outputs": [
    {
     "data": {
      "text/plain": [
       "0"
      ]
     },
     "execution_count": 27,
     "metadata": {},
     "output_type": "execute_result"
    }
   ],
   "source": [
    "#test\n",
    "doomsday(1954)"
   ]
  },
  {
   "cell_type": "markdown",
   "metadata": {},
   "source": [
    "### The Day of Week\n",
    "\n",
    "The final step in the Doomsday algorithm is to count the number of days between the target date and a nearby doomsday, modulo 7. This gives the day of the week.\n",
    "\n",
    "Every month has at least one doomsday:\n",
    "* (regular years) 1/10, 2/28\n",
    "* (leap years) 1/11, 2/29\n",
    "* 3/21, 4/4, 5/9, 6/6, 7/11, 8/8, 9/5, 10/10, 11/7, 12/12\n",
    "\n",
    "__Example.__ Suppose we want to find the day of the week for 7/21/1954. The doomsday for 1954 is Sunday, and a nearby doomsday is 7/11. There are 10 days in July between 7/11 and 7/21. Since $10 \\bmod 7 = 3$, the date 7/21/1954 falls 3 days after a Sunday, on a Wednesday.\n",
    "\n",
    "__Exercise 1.3.__ Write a function to determine the day of the week for a given day, month, and year. Be careful of leap years! Your function should return a string such as \"Thursday\" rather than a number. As usual, document and test your code."
   ]
  },
  {
   "cell_type": "code",
   "execution_count": 53,
   "metadata": {
    "collapsed": false
   },
   "outputs": [],
   "source": [
    "date_list_reg = {1:10,2:28,3:21,4:4,5:9,6:6,7:11,8:8,9:5,10:10,11:7,12:12}\n",
    "# leap year\n",
    "date_list_leap = {1:11,2:29,3:21,4:4,5:9,6:6,7:11,8:8,9:5,10:10,11:7,12:12}\n",
    "day_of_week = {1:\"Monday\",2:\"Tuesday\",3:\"Wednesday\",4:\"Thursday\",5:\"Friday\",6:\"Saturday\",0:\"Sunday\"}\n",
    "import calendar\n",
    "def dayofweek(d,m,y): # d: day; m: month; y:year\n",
    "    for i in range(1,13):\n",
    "        if m==i:\n",
    "            #determine if it is a leap year\n",
    "            if calendar.isleap(y):\n",
    "                ed = d-date_list_leap[m] # no need to use abs() because the d value maybe smaller\n",
    "            else :\n",
    "                ed = d-date_list_reg[m] \n",
    "            ed = ed%7  # the difference of the day of week between doomsday\n",
    "            ed = ed + doomsday(y) # this value maybe larger than 7\n",
    "            ed = ed%7 # the day of the week\n",
    "    return day_of_week[ed]          "
   ]
  },
  {
   "cell_type": "code",
   "execution_count": 63,
   "metadata": {
    "collapsed": false
   },
   "outputs": [
    {
     "data": {
      "text/plain": [
       "'Thursday'"
      ]
     },
     "execution_count": 63,
     "metadata": {},
     "output_type": "execute_result"
    }
   ],
   "source": [
    "# test\n",
    "dayofweek(21,7,2016)"
   ]
  },
  {
   "cell_type": "markdown",
   "metadata": {},
   "source": [
    "__Exercise 1.4.__ How many times did Friday the 13th occur in the years 1900-1999? Does this number seem to be similar to other centuries?"
   ]
  },
  {
   "cell_type": "code",
   "execution_count": 67,
   "metadata": {
    "collapsed": false
   },
   "outputs": [
    {
     "name": "stdout",
     "output_type": "stream",
     "text": [
      "172\n"
     ]
    }
   ],
   "source": [
    "count = 0\n",
    "for y in range(1900,2000):\n",
    "    for m in range(1,13):\n",
    "        if dayofweek(13,m,y) == \"Friday\":\n",
    "            count = count+1\n",
    "print count"
   ]
  },
  {
   "cell_type": "markdown",
   "metadata": {},
   "source": [
    "<p> This number is similar to other centuries </p>"
   ]
  },
  {
   "cell_type": "markdown",
   "metadata": {},
   "source": [
    "__Exercise 1.5.__ How many times did Friday the 13th occur between the year 2000 and today?"
   ]
  },
  {
   "cell_type": "code",
   "execution_count": 70,
   "metadata": {
    "collapsed": false
   },
   "outputs": [
    {
     "name": "stdout",
     "output_type": "stream",
     "text": [
      "29\n"
     ]
    },
    {
     "data": {
      "text/plain": [
       "'Friday'"
      ]
     },
     "execution_count": 70,
     "metadata": {},
     "output_type": "execute_result"
    }
   ],
   "source": [
    "count = 0\n",
    "for y in range(2000,2017): # from 2000 to 2016\n",
    "    for m in range(1,13):\n",
    "        if dayofweek(13,m,y) == \"Friday\":\n",
    "            count = count+1\n",
    "print count\n",
    "# today is 01/21/2017, we know 13th is Friday\n",
    "dayofweek(13,1,2017)"
   ]
  },
  {
   "cell_type": "markdown",
   "metadata": {},
   "source": [
    "<p> Thus, there were 30 times for 13th to be Friday.</p>"
   ]
  },
  {
   "cell_type": "markdown",
   "metadata": {},
   "source": [
    "## Part 2: 1978 Birthdays\n",
    "\n",
    "__Exercise 2.1.__ The file `birthdays.txt` contains the number of births in the United States for each day in 1978. Inspect the file to determine the format. Note that columns are separated by the tab character, which can be entered in Python as `\\t`. Write a function that uses iterators and list comprehensions with the string methods `split()` and `strip()` to  convert each line of data to the list format\n",
    "\n",
    "```Python\n",
    "[month, day, year, count]\n",
    "```\n",
    "The elements of this list should be integers, not strings. The function `read_birthdays` provided below will help you load the file."
   ]
  },
  {
   "cell_type": "code",
   "execution_count": 55,
   "metadata": {
    "collapsed": true
   },
   "outputs": [],
   "source": [
    "def read_birthdays(file_path):\n",
    "    \"\"\"Read the contents of the birthdays file into a string.\n",
    "    \n",
    "    Arguments:\n",
    "        file_path (string): The path to the birthdays file.\n",
    "        \n",
    "    Returns:\n",
    "        string: The contents of the birthdays file.\n",
    "    \"\"\"\n",
    "    with open(file_path) as file:\n",
    "        return file.read()"
   ]
  },
  {
   "cell_type": "code",
   "execution_count": 57,
   "metadata": {
    "collapsed": false
   },
   "outputs": [
    {
     "data": {
      "text/plain": [
       "[[1, 1, 1978, 1],\n",
       " [1, 2, 1978, 77011],\n",
       " [1, 3, 1978, 75271],\n",
       " [1, 4, 1978, 88251],\n",
       " [1, 5, 1978, 88591],\n",
       " [1, 6, 1978, 90431],\n",
       " [1, 7, 1978, 92081],\n",
       " [1, 8, 1978, 80841],\n",
       " [1, 9, 1978, 76111]]"
      ]
     },
     "execution_count": 57,
     "metadata": {},
     "output_type": "execute_result"
    }
   ],
   "source": [
    "# read the file as string\n",
    "birthdays = read_birthdays(\"C:/Users/Xin~/Documents/63xinxin.github.io/birthdays.txt\")\n",
    "def clean_birthdays(birthdays):\n",
    "    # split by tab\n",
    "    bs = birthdays.split(\"\\t\")\n",
    "    # return to a string\n",
    "    bs = \"\\t\".join(bs)\n",
    "    bs = bs.replace(\"\\n\",\"\")  # get rid of \\n in the list content\n",
    "    bs = bs.split(\"\\t\")\n",
    "    # adding 1/1/1978 to the list\n",
    "    bs[0] = '1/1/78'\n",
    "    # ==================\n",
    "    # only using loops ?? how to transform this into list comprehensions\n",
    "    # ==================\n",
    "    import calendar\n",
    "    # iteration \n",
    "    ite_last = 0\n",
    "    bs_trans = []\n",
    "    for i in range(1,13):\n",
    "        daysinmonth = calendar.monthrange(1978,i)[1]  # number of days in a month\n",
    "        for j in range(1,daysinmonth+1):\n",
    "            ite = j +ite_last\n",
    "            ele = bs[ite-1]\n",
    "            ele = ele.split(\"/\")\n",
    "            ele_trans = [i, j, int(\"19\"+ele[2]),int(ele[0])]  # adding character in a string: just using \"+\"\n",
    "            bs_trans.append(ele_trans)\n",
    "        ite_last = ite_last + daysinmonth\n",
    "    return bs_trans\n",
    "out = clean_birthdays(birthdays)\n",
    "out[0:9]  # test"
   ]
  },
  {
   "cell_type": "markdown",
   "metadata": {},
   "source": [
    "__Exercise 2.2.__ Which month had the most births in 1978? Which day of the week had the most births? Which day of the week had the fewest? What conclusions can you draw? You may find the `Counter` class in the `collections` module useful."
   ]
  },
  {
   "cell_type": "code",
   "execution_count": 90,
   "metadata": {
    "collapsed": false
   },
   "outputs": [
    {
     "data": {
      "text/plain": [
       "[2615461,\n",
       " 2493276,\n",
       " 2769803,\n",
       " 2567720,\n",
       " 2683625,\n",
       " 2702940,\n",
       " 2949127,\n",
       " 3028608,\n",
       " 2951190,\n",
       " 28827310,\n",
       " 27461130,\n",
       " 28629872]"
      ]
     },
     "execution_count": 90,
     "metadata": {},
     "output_type": "execute_result"
    }
   ],
   "source": [
    "# finding the maximum value for births\n",
    "#counts = [i[3] for i in bs_trans]  the 4th elements in each nested list\n",
    "#counts.index(max(counts))   the index of maximum value, equals to which.max() in r\n",
    "#==========================================\n",
    "# import collections\n",
    "# bs_trans_c = collections.Counter(bs_trans)\n",
    "# How to use class Counter here ???\n",
    "# =========================================\n",
    "# group by month and add them together, then compare\n",
    "# find the day of the week for each day and the correspounding births. Group by day of the week and then compare\n",
    "#import collections as ct\n",
    "#c = ct.Counter(out)\n",
    "\n",
    "# make a dictionary key is month: value is births\n",
    "# how to add multiple elements for one key is the difficult part\n",
    "month_dict={}\n",
    "for i in out:  # i is every list in out\n",
    "    if i[0] in month_dict: # i[0] is month; also the value of month_dict is just key if I call it directly\n",
    "        month_dict[i[0]].append(i[3])  # elements have common key\n",
    "    else:\n",
    "        month_dict[i[0]] = [i[3]]\n",
    "# the total amount of birth each month       \n",
    "bs_per_month = [sum(month_dict[i]) for i in month_dict]\n",
    "bs_per_month"
   ]
  },
  {
   "cell_type": "code",
   "execution_count": 97,
   "metadata": {
    "collapsed": false
   },
   "outputs": [
    {
     "name": "stdout",
     "output_type": "stream",
     "text": [
      "9\n",
      "[1, 2, 3, 4, 5, 6, 7, 8, 9, 10, 11, 12]\n"
     ]
    }
   ],
   "source": [
    "# the month had the most birth \n",
    "print bs_per_month.index(max(bs_per_month)) \n",
    "print month_dict.keys()"
   ]
  },
  {
   "cell_type": "code",
   "execution_count": 93,
   "metadata": {
    "collapsed": false
   },
   "outputs": [
    {
     "data": {
      "text/plain": [
       "[13616995, 16045126, 16009752, 16620579, 16160240, 14916086, 16311284]"
      ]
     },
     "execution_count": 93,
     "metadata": {},
     "output_type": "execute_result"
    }
   ],
   "source": [
    "# create a dictionary for the key to be the day if the week\n",
    "dow_dict={}\n",
    "for i in out:\n",
    "    # the day of the week\n",
    "    dow = dayofweek(i[1],i[0],i[2])\n",
    "    if dow in dow_dict:\n",
    "        dow_dict[dow].append(i[3])\n",
    "    else:\n",
    "        dow_dict[dow] = [i[3]]    \n",
    "# the total amount of birth each day of week      \n",
    "bs_dow = [sum(dow_dict[i]) for i in dow_dict ]\n",
    "bs_dow"
   ]
  },
  {
   "cell_type": "code",
   "execution_count": 95,
   "metadata": {
    "collapsed": false
   },
   "outputs": [
    {
     "name": "stdout",
     "output_type": "stream",
     "text": [
      "3\n",
      "0\n",
      "['Monday', 'Tuesday', 'Friday', 'Wednesday', 'Thursday', 'Sunday', 'Saturday']\n"
     ]
    }
   ],
   "source": [
    "# the month had the most birth \n",
    "print bs_dow.index(max(bs_dow))\n",
    "# the month had the fewest birth \n",
    "print bs_dow.index(min(bs_dow))\n",
    "print dow_dict.keys()"
   ]
  },
  {
   "cell_type": "markdown",
   "metadata": {},
   "source": [
    "<p> In Octorber 1978, the people of births was the largest. Wednesday had the most birth and Monday had the fewest birth </p>"
   ]
  },
  {
   "cell_type": "markdown",
   "metadata": {},
   "source": [
    "__Exercise 2.3.__ What would be an effective way to present the information in exercise 2.2? You don't need to write any code for this exercise, just discuss what you would do."
   ]
  },
  {
   "cell_type": "markdown",
   "metadata": {},
   "source": [
    "<p> I can row bind all the elements from the nested list into a dataframe, then group by month or group by day of the week. After that I can do some calculation to compare which one is the largest."
   ]
  }
 ],
 "metadata": {
  "anaconda-cloud": {},
  "kernelspec": {
   "display_name": "Python [conda env:ipykernel_py2]",
   "language": "python",
   "name": "conda-env-ipykernel_py2-py"
  },
  "language_info": {
   "codemirror_mode": {
    "name": "ipython",
    "version": 2
   },
   "file_extension": ".py",
   "mimetype": "text/x-python",
   "name": "python",
   "nbconvert_exporter": "python",
   "pygments_lexer": "ipython2",
   "version": "2.7.13"
  }
 },
 "nbformat": 4,
 "nbformat_minor": 2
}

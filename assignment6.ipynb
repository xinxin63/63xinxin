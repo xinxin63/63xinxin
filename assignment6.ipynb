{
 "cells": [
  {
   "cell_type": "markdown",
   "metadata": {},
   "source": [
    "# Assignment 6\n",
    "\n",
    "In this assignment, you'll analyze a collection of data sets from the [San Francisco Open Data Portal](http://data.sfgov.org/) and [Zillow](https://www.zillow.com/). The data sets have been stored in the SQLite database `sf_data.sqlite`, which you can [download here](http://anson.ucdavis.edu/~nulle/sf_data.sqlite). The database contains the following tables:\n",
    "\n",
    "Table                   | Description\n",
    "----------------------- | -----------\n",
    "`crime`                 | Crime reports dating back to 2010.\n",
    "`mobile_food_locations` | List of all locations where mobile food vendors sell.\n",
    "`mobile_food_permits`   | List of all mobile food vendor permits. More details [here](https://data.sfgov.org/api/views/rqzj-sfat/files/8g2f5RV4PEk0_b24iJEtgEet9gnh_eA27GlqoOjjK4k?download=true&filename=DPW_DataDictionary_Mobile-Food-Facility-Permit.pdf).\n",
    "`mobile_food_schedule`  | Schedules for mobile food vendors.\n",
    "`noise`                 | Noise complaints dating back to August 2015.\n",
    "`parking`               | List of all parking lots.\n",
    "`parks`                 | List of all parks.\n",
    "`schools`               | List of all schools.\n",
    "`zillow`                | Zillow rent and housing statistics dating back to 1996. More details [here](https://www.zillow.com/research/data/).\n",
    "\n",
    "The `mobile_food_` tables are explicitly connected through the `locationid` and `permit` columns. The other tables are not connected, but you may be able to connect them using dates, latitude/longitude, or postal codes.\n",
    "\n",
    "Shapefiles for US postal codes are available [here](https://www.census.gov/geo/maps-data/data/cbf/cbf_zcta.html). These may be useful for converting latitude/longitude to postal codes.\n",
    "\n",
    "Shapefiles for San Francisco Neighborhoods are available [here](https://data.sfgov.org/Geographic-Locations-and-Boundaries/SF-Find-Neighborhoods/pty2-tcw4)."
   ]
  },
  {
   "cell_type": "markdown",
   "metadata": {},
   "source": [
    "__Exercise 1.1.__ Which mobile food vendor(s) sells at the most locations?"
   ]
  },
  {
   "cell_type": "markdown",
   "metadata": {},
   "source": [
    "__Exercise 1.2.__ Ask and use the database to analyze 5 questions about San Francisco. For each question, write at least 150 words and support your answer with plots. Make a map for at least 2 of the 5 questions.\n",
    "\n",
    "You should try to come up with some questions on your own, but these are examples of reasonable questions:\n",
    "\n",
    "* Which parts of the city are the most and least expensive?\n",
    "* Which parts of the city are the most dangerous (and at what times)?\n",
    "* Are noise complaints and mobile food vendors related?\n",
    "* What are the best times and places to find food trucks?\n",
    "* Is there a relationship between housing prices and any of the other tables?\n",
    "\n",
    "Please make sure to clearly state each of your questions in your submission."
   ]
  }
 ],
 "metadata": {
  "anaconda-cloud": {},
  "kernelspec": {
   "display_name": "Python 2",
   "language": "python",
   "name": "python2"
  },
  "language_info": {
   "codemirror_mode": {
    "name": "ipython",
    "version": 2
   },
   "file_extension": ".py",
   "mimetype": "text/x-python",
   "name": "python",
   "nbconvert_exporter": "python",
   "pygments_lexer": "ipython2",
   "version": "2.7.13"
  }
 },
 "nbformat": 4,
 "nbformat_minor": 2
}
